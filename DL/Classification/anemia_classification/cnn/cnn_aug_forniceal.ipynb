{
 "cells": [
  {
   "cell_type": "code",
   "execution_count": 1,
   "metadata": {
    "executionInfo": {
     "elapsed": 2907,
     "status": "ok",
     "timestamp": 1655672421652,
     "user": {
      "displayName": "Ahmad Raza",
      "userId": "14303897828174014060"
     },
     "user_tz": -300
    },
    "id": "kkVAItyKdKVu"
   },
   "outputs": [],
   "source": [
    "import os\n",
    "import cv2\n",
    "import keras \n",
    "import numpy as np\n",
    "import pandas as pd\n",
    "from sklearn.model_selection import train_test_split\n",
    "from keras import regularizers\n",
    "import pickle\n",
    "import keras \n",
    "from keras import backend as K\n",
    "from keras.layers import Dropout\n",
    "from keras.models import Sequential\n",
    "from keras.layers import Activation, MaxPooling2D\n",
    "from keras.layers.core import Dense, Flatten\n",
    "from keras.metrics import categorical_crossentropy\n",
    "from keras.preprocessing.image import ImageDataGenerator\n",
    "from keras.layers.convolutional import *\n",
    "from sklearn.metrics import confusion_matrix\n",
    "from keras.constraints import max_norm\n",
    "from keras import optimizers\n",
    "from sklearn.metrics import precision_score, recall_score, f1_score\n",
    "from keras.callbacks import ReduceLROnPlateau"
   ]
  },
  {
   "cell_type": "code",
   "execution_count": null,
   "metadata": {
    "colab": {
     "base_uri": "https://localhost:8080/"
    },
    "executionInfo": {
     "elapsed": 21694,
     "status": "ok",
     "timestamp": 1655672448003,
     "user": {
      "displayName": "Ahmad Raza",
      "userId": "14303897828174014060"
     },
     "user_tz": -300
    },
    "id": "N9S9rv9bqC6_",
    "outputId": "8423e67c-bffa-41b6-cda3-cb55d2a5c76e"
   },
   "outputs": [],
   "source": [
    "# To mount drive, if you are at colab\n",
    "from google.colab import drive\n",
    "drive.mount('/content/gdrive', force_remount=True)"
   ]
  },
  {
   "cell_type": "markdown",
   "metadata": {
    "id": "PtLqo1dqDc4O"
   },
   "source": [
    "# Import Data"
   ]
  },
  {
   "cell_type": "code",
   "execution_count": 3,
   "metadata": {
    "executionInfo": {
     "elapsed": 381,
     "status": "ok",
     "timestamp": 1655672452848,
     "user": {
      "displayName": "Ahmad Raza",
      "userId": "14303897828174014060"
     },
     "user_tz": -300
    },
    "id": "z3QQVxjrdF0I"
   },
   "outputs": [],
   "source": [
    "data_dir     = '/content/gdrive/MyDrive/dataset anemia/'\n",
    "india_folder = os.path.join(data_dir, 'India')\n",
    "italy_folder = os.path.join(data_dir, 'Italy')"
   ]
  },
  {
   "cell_type": "code",
   "execution_count": 4,
   "metadata": {
    "colab": {
     "base_uri": "https://localhost:8080/"
    },
    "executionInfo": {
     "elapsed": 8874,
     "status": "ok",
     "timestamp": 1655672530940,
     "user": {
      "displayName": "Ahmad Raza",
      "userId": "14303897828174014060"
     },
     "user_tz": -300
    },
    "id": "TFEqZdTPTPUb",
    "outputId": "3cb8e0c8-8284-417b-c0c2-d6f663c41d8b"
   },
   "outputs": [
    {
     "name": "stdout",
     "output_type": "stream",
     "text": [
      "Looking into ->  India\n",
      "/content/gdrive/MyDrive/dataset anemia/India  not found ->  ['.DS_Store', 'IndiaRd.xlsx']\n",
      "Looking into ->  Italy\n",
      "/content/gdrive/MyDrive/dataset anemia/Italy  not found ->  ['.DS_Store', 'Italyrd.xlsx']\n",
      "/content/gdrive/MyDrive/dataset anemia/Italy/75  not found ->  ['T_44_20190611_083543.jpg', 'T_44_20190611_083543_palpebral.png', '.DS_Store']\n",
      "/content/gdrive/MyDrive/dataset anemia/Italy/58  not found ->  ['T_27_20190608_100451_palpebral.png', 'T_27_20190608_100451.jpg', '.DS_Store']\n",
      "/content/gdrive/MyDrive/dataset anemia/Italy/54  not found ->  ['T_23_20190608_090427.jpg', 'T_23_20190608_090427_palpebral.png', '.DS_Store']\n",
      "/content/gdrive/MyDrive/dataset anemia/Italy/35  not found ->  ['T_4_20190606_095326.jpg', 'T_4_20190606_095326_palpebral.png', '.DS_Store']\n",
      "/content/gdrive/MyDrive/dataset anemia/Italy/109  not found ->  ['T_78_20190614_074753.jpg', 'T_78_20190614_074753_palpebral.png', '.DS_Store']\n",
      "/content/gdrive/MyDrive/dataset anemia/Italy/1  not found ->  ['1.jpg', '001_palpebral.png', '.DS_Store']\n"
     ]
    }
   ],
   "source": [
    "def should_use_img(img_name, img_type):\n",
    "    if img_name.split(\".\")[1] in [\"jpg\", \"png\"]:\n",
    "        img_name = img_name.split(\".\")[0]\n",
    "        \n",
    "        if img_type == \"\":\n",
    "            img_types   = [\"forniceal\", \"forniceal_palpebral\", \"palpebral\"]\n",
    "            for _type in img_types:\n",
    "                if img_name.endswith(_type):\n",
    "                    return False\n",
    "            return True\n",
    "        elif img_type == \"palpebral\":\n",
    "            img_name = img_name.split(\".\")[0]\n",
    "            if img_name.endswith(\"forniceal_palpebral\"):\n",
    "                    return False\n",
    "            return True if img_name.endswith(img_type) else False\n",
    "            \n",
    "        else:\n",
    "            return True if img_name.endswith(img_type)  else False\n",
    "    \n",
    "    else:\n",
    "        return False\n",
    "        \n",
    "\n",
    "img_to_use  = \"forniceal\"\n",
    "img_files   = {\"India\":[], \"Italy\":[]}\n",
    "\n",
    "for folder in ['India', 'Italy']:\n",
    "    img_folder = os.path.join(data_dir, folder)\n",
    "    print(\"Looking into -> \", folder)\n",
    "    for root, dirs, files in os.walk(img_folder):\n",
    "        flag = False\n",
    "        for file in files:\n",
    "            if should_use_img(file, img_to_use):\n",
    "                cls = root.split(\"\\\\\")[-1]\n",
    "                img_files[folder].append( ( os.path.join(root, file), cls) )\n",
    "                flag = True\n",
    "                break\n",
    "        if flag is False:\n",
    "            print(root, \" not found -> \", files)\n"
   ]
  },
  {
   "cell_type": "code",
   "execution_count": 5,
   "metadata": {
    "colab": {
     "base_uri": "https://localhost:8080/"
    },
    "executionInfo": {
     "elapsed": 363,
     "status": "ok",
     "timestamp": 1655672534985,
     "user": {
      "displayName": "Ahmad Raza",
      "userId": "14303897828174014060"
     },
     "user_tz": -300
    },
    "id": "vWnmQph2TPiI",
    "outputId": "3724436f-dd0d-49ef-d521-ff9b31d61fc5"
   },
   "outputs": [
    {
     "name": "stdout",
     "output_type": "stream",
     "text": [
      "items for India -> 95\n",
      "items for Italy -> 117\n"
     ]
    }
   ],
   "source": [
    "for key, items in img_files.items():\n",
    "    print(f\"items for {key} -> {len(items)}\")"
   ]
  },
  {
   "cell_type": "code",
   "execution_count": 6,
   "metadata": {
    "colab": {
     "base_uri": "https://localhost:8080/"
    },
    "executionInfo": {
     "elapsed": 420,
     "status": "ok",
     "timestamp": 1655672537811,
     "user": {
      "displayName": "Ahmad Raza",
      "userId": "14303897828174014060"
     },
     "user_tz": -300
    },
    "id": "LPF6FW0Obm6J",
    "outputId": "a0b41412-a559-4203-c941-2374798ed29b"
   },
   "outputs": [
    {
     "data": {
      "text/plain": [
       "('/content/gdrive/MyDrive/dataset anemia/India/95/20200318_130225_forniceal.png',\n",
       " '/content/gdrive/MyDrive/dataset anemia/India/95')"
      ]
     },
     "execution_count": 6,
     "metadata": {},
     "output_type": "execute_result"
    }
   ],
   "source": [
    "img_files[\"India\"][0]"
   ]
  },
  {
   "cell_type": "code",
   "execution_count": 7,
   "metadata": {
    "executionInfo": {
     "elapsed": 15,
     "status": "ok",
     "timestamp": 1655672540971,
     "user": {
      "displayName": "Ahmad Raza",
      "userId": "14303897828174014060"
     },
     "user_tz": -300
    },
    "id": "QAGUxccMbsIn"
   },
   "outputs": [],
   "source": [
    "data_dir = '/content/gdrive/MyDrive/dataset anemia/'\n",
    "file1    = data_dir+'India/IndiaRd.xlsx'\n",
    "file2    = data_dir+'Italy/Italyrd.xlsx'"
   ]
  },
  {
   "cell_type": "code",
   "execution_count": 8,
   "metadata": {
    "colab": {
     "base_uri": "https://localhost:8080/"
    },
    "executionInfo": {
     "elapsed": 1412,
     "status": "ok",
     "timestamp": 1655672545252,
     "user": {
      "displayName": "Ahmad Raza",
      "userId": "14303897828174014060"
     },
     "user_tz": -300
    },
    "id": "DmQYBZoJb2rz",
    "outputId": "c193d5ba-c57d-4a5c-d5b3-ec3b8fd54b07"
   },
   "outputs": [
    {
     "name": "stdout",
     "output_type": "stream",
     "text": [
      "{'No Anemia': 0, 'Anemia': 1}\n"
     ]
    }
   ],
   "source": [
    "\n",
    "labels = {}\n",
    "\n",
    "d1 = pd.read_excel(file1)\n",
    "d1[\"Anemia\"] = d1[\"Note\"]\n",
    "d1 = d1[[\"Number\", \"Anemia\" ]]\n",
    "d1.replace(\"No anemia\", \"No Anemia\", inplace=True)\n",
    "\n",
    "d2 = pd.read_excel(file2)[[\"Number\", \"Anemia\" ]]\n",
    "d2.replace(\"No anemia\", \"No Anemia\", inplace=True)\n",
    "\n",
    "unique_values   = list(d1['Anemia'].unique())\n",
    "enum            = {val:i for i, val in enumerate(unique_values)} \n",
    "print(enum)\n",
    "\n",
    "d1['Anemia'].replace(enum, inplace=True)\n",
    "d2['Anemia'].replace(enum, inplace=True)\n",
    "\n",
    "labels[\"India\"] = { row[\"Number\"]:row[\"Anemia\"] for index, row in d1.iterrows() }\n",
    "labels[\"Italy\"] = { row[\"Number\"]:row[\"Anemia\"] for index, row in d2.iterrows() }\n"
   ]
  },
  {
   "cell_type": "markdown",
   "metadata": {
    "id": "q9qVhP9mcGD6"
   },
   "source": [
    "# Read Images"
   ]
  },
  {
   "cell_type": "code",
   "execution_count": 9,
   "metadata": {
    "executionInfo": {
     "elapsed": 54151,
     "status": "ok",
     "timestamp": 1655672604952,
     "user": {
      "displayName": "Ahmad Raza",
      "userId": "14303897828174014060"
     },
     "user_tz": -300
    },
    "id": "p5GKKxq6cEpR"
   },
   "outputs": [],
   "source": [
    "\n",
    "X = []\n",
    "y = []\n",
    "\n",
    "\n",
    "for key, items in img_files.items():\n",
    "    for item in items:\n",
    "        img_path, cls = item\n",
    "        cls           = cls.split(\"/\")[-1]\n",
    "        img           = cv2.imread(img_path)\n",
    "        img           = cv2.resize(img, (64, 64))\n",
    "        img           = cv2.cvtColor(img, cv2.COLOR_BGR2GRAY)\n",
    "        kernel        = np.array([[-1,-1,-1], \n",
    "                                    [-1, 9,-1],\n",
    "                                    [-1,-1,-1]])\n",
    "        sharpened     = cv2.filter2D(img, -1, kernel)\n",
    "        img           = cv2.GaussianBlur(sharpened, (5, 5), 0)\n",
    "        img           = img.reshape(64, 64, 1)\n",
    "        lbl           = labels[key][int(cls)]\n",
    "        \n",
    "        X.append(img)\n",
    "        y.append(lbl)\n",
    "        "
   ]
  },
  {
   "cell_type": "code",
   "execution_count": 105,
   "metadata": {
    "colab": {
     "base_uri": "https://localhost:8080/"
    },
    "executionInfo": {
     "elapsed": 423,
     "status": "ok",
     "timestamp": 1655674233772,
     "user": {
      "displayName": "Ahmad Raza",
      "userId": "14303897828174014060"
     },
     "user_tz": -300
    },
    "id": "AECjNyTbdL2Y",
    "outputId": "46d8eb68-ec05-4f02-cebc-4c541326929e"
   },
   "outputs": [
    {
     "name": "stdout",
     "output_type": "stream",
     "text": [
      "len(X) -> 212\n",
      "len(y) -> 212\n"
     ]
    }
   ],
   "source": [
    "print(f\"len(X) -> {len(X)}\")\n",
    "print(f\"len(y) -> {len(y)}\")"
   ]
  },
  {
   "cell_type": "code",
   "execution_count": 106,
   "metadata": {
    "executionInfo": {
     "elapsed": 405,
     "status": "ok",
     "timestamp": 1655674237711,
     "user": {
      "displayName": "Ahmad Raza",
      "userId": "14303897828174014060"
     },
     "user_tz": -300
    },
    "id": "Isp0G941dMpQ"
   },
   "outputs": [],
   "source": [
    "y = [0 if i == 0 else 1 for i in y]"
   ]
  },
  {
   "cell_type": "code",
   "execution_count": 107,
   "metadata": {
    "colab": {
     "base_uri": "https://localhost:8080/"
    },
    "executionInfo": {
     "elapsed": 15,
     "status": "ok",
     "timestamp": 1655674240527,
     "user": {
      "displayName": "Ahmad Raza",
      "userId": "14303897828174014060"
     },
     "user_tz": -300
    },
    "id": "50AQiEYLdM5b",
    "outputId": "8188c22f-8ade-41ce-e0b9-3002ac82132a"
   },
   "outputs": [
    {
     "data": {
      "text/plain": [
       "(212, 64, 64, 1)"
      ]
     },
     "execution_count": 107,
     "metadata": {},
     "output_type": "execute_result"
    }
   ],
   "source": [
    "X = np.array(X)\n",
    "X.shape"
   ]
  },
  {
   "cell_type": "code",
   "execution_count": 108,
   "metadata": {
    "colab": {
     "base_uri": "https://localhost:8080/"
    },
    "executionInfo": {
     "elapsed": 418,
     "status": "ok",
     "timestamp": 1655674243597,
     "user": {
      "displayName": "Ahmad Raza",
      "userId": "14303897828174014060"
     },
     "user_tz": -300
    },
    "id": "X6k7p9GedXvu",
    "outputId": "5194183c-ca42-4563-9cde-3abf1feb635e"
   },
   "outputs": [
    {
     "data": {
      "text/plain": [
       "{0, 1}"
      ]
     },
     "execution_count": 108,
     "metadata": {},
     "output_type": "execute_result"
    }
   ],
   "source": [
    "set(y)"
   ]
  },
  {
   "cell_type": "code",
   "execution_count": 109,
   "metadata": {
    "colab": {
     "base_uri": "https://localhost:8080/"
    },
    "executionInfo": {
     "elapsed": 357,
     "status": "ok",
     "timestamp": 1655674245925,
     "user": {
      "displayName": "Ahmad Raza",
      "userId": "14303897828174014060"
     },
     "user_tz": -300
    },
    "id": "nsHk9WQrdX8d",
    "outputId": "f0b64a61-daab-45f7-8edd-8ed4906c1c8e"
   },
   "outputs": [
    {
     "data": {
      "text/plain": [
       "2"
      ]
     },
     "execution_count": 109,
     "metadata": {},
     "output_type": "execute_result"
    }
   ],
   "source": [
    "number_classes = len(set(y))\n",
    "number_classes"
   ]
  },
  {
   "cell_type": "code",
   "execution_count": 110,
   "metadata": {
    "executionInfo": {
     "elapsed": 417,
     "status": "ok",
     "timestamp": 1655674249127,
     "user": {
      "displayName": "Ahmad Raza",
      "userId": "14303897828174014060"
     },
     "user_tz": -300
    },
    "id": "oPVDaurddYGA"
   },
   "outputs": [],
   "source": [
    "X_train, X_test, Y_train, Y_test = train_test_split(X, y, train_size=0.8, random_state=0)\n",
    "#X_test, X_val, Y_test, Y_val     = train_test_split(X_test, Y_test, train_size=0.9, random_state=123)"
   ]
  },
  {
   "cell_type": "markdown",
   "metadata": {
    "id": "4Ojeh0wj7KQa"
   },
   "source": [
    "# Augmentation"
   ]
  },
  {
   "cell_type": "code",
   "execution_count": 111,
   "metadata": {
    "colab": {
     "base_uri": "https://localhost:8080/"
    },
    "executionInfo": {
     "elapsed": 412,
     "status": "ok",
     "timestamp": 1655674258544,
     "user": {
      "displayName": "Ahmad Raza",
      "userId": "14303897828174014060"
     },
     "user_tz": -300
    },
    "id": "C8D14-HxVoti",
    "outputId": "358c60d9-a31b-43c1-cc43-5bbdbdfbd71b"
   },
   "outputs": [
    {
     "data": {
      "text/plain": [
       "(169, 64, 64, 1)"
      ]
     },
     "execution_count": 111,
     "metadata": {},
     "output_type": "execute_result"
    }
   ],
   "source": [
    "X_train.shape"
   ]
  },
  {
   "cell_type": "code",
   "execution_count": 112,
   "metadata": {
    "executionInfo": {
     "elapsed": 411,
     "status": "ok",
     "timestamp": 1655674261921,
     "user": {
      "displayName": "Ahmad Raza",
      "userId": "14303897828174014060"
     },
     "user_tz": -300
    },
    "id": "_Sj_qXwux2hm"
   },
   "outputs": [],
   "source": [
    "characters  = X_train\n",
    "labels      = np.array(Y_train.copy()) "
   ]
  },
  {
   "cell_type": "code",
   "execution_count": 113,
   "metadata": {
    "executionInfo": {
     "elapsed": 10,
     "status": "ok",
     "timestamp": 1655674263350,
     "user": {
      "displayName": "Ahmad Raza",
      "userId": "14303897828174014060"
     },
     "user_tz": -300
    },
    "id": "uk9I3WKw7I6P"
   },
   "outputs": [],
   "source": [
    "datagen = ImageDataGenerator( width_shift_range=[-200,200],\n",
    "    rotation_range=30,\n",
    "    zoom_range=0.15,\n",
    "    height_shift_range=0.2,\n",
    "    shear_range=0.15,\n",
    "    horizontal_flip=True,\n",
    "    fill_mode=\"nearest\")\n",
    "\n"
   ]
  },
  {
   "cell_type": "code",
   "execution_count": 114,
   "metadata": {
    "executionInfo": {
     "elapsed": 7,
     "status": "ok",
     "timestamp": 1655674264595,
     "user": {
      "displayName": "Ahmad Raza",
      "userId": "14303897828174014060"
     },
     "user_tz": -300
    },
    "id": "xtp2KIca75Zw"
   },
   "outputs": [],
   "source": [
    "iterator = datagen.flow(characters, labels)"
   ]
  },
  {
   "cell_type": "code",
   "execution_count": 115,
   "metadata": {
    "colab": {
     "base_uri": "https://localhost:8080/"
    },
    "executionInfo": {
     "elapsed": 8,
     "status": "ok",
     "timestamp": 1655674264995,
     "user": {
      "displayName": "Ahmad Raza",
      "userId": "14303897828174014060"
     },
     "user_tz": -300
    },
    "id": "7KCecID7HZUk",
    "outputId": "c003b032-956d-45ba-a8bd-c0199e6dfd56"
   },
   "outputs": [
    {
     "data": {
      "text/plain": [
       "{0, 1}"
      ]
     },
     "execution_count": 115,
     "metadata": {},
     "output_type": "execute_result"
    }
   ],
   "source": [
    "set(labels)"
   ]
  },
  {
   "cell_type": "code",
   "execution_count": 116,
   "metadata": {
    "colab": {
     "base_uri": "https://localhost:8080/"
    },
    "executionInfo": {
     "elapsed": 11,
     "status": "ok",
     "timestamp": 1655674265442,
     "user": {
      "displayName": "Ahmad Raza",
      "userId": "14303897828174014060"
     },
     "user_tz": -300
    },
    "id": "pJiUu4QxHZsL",
    "outputId": "5f582820-879f-4bbf-ff40-39d53fcca36e"
   },
   "outputs": [
    {
     "data": {
      "text/plain": [
       "[(0, 97), (1, 72)]"
      ]
     },
     "execution_count": 116,
     "metadata": {},
     "output_type": "execute_result"
    }
   ],
   "source": [
    "label_counts = [(lbl, list(labels).count(lbl) ) for lbl in set(labels)]\n",
    "label_counts"
   ]
  },
  {
   "cell_type": "code",
   "execution_count": 117,
   "metadata": {
    "executionInfo": {
     "elapsed": 3099,
     "status": "ok",
     "timestamp": 1655674275258,
     "user": {
      "displayName": "Ahmad Raza",
      "userId": "14303897828174014060"
     },
     "user_tz": -300
    },
    "id": "dYZwqibvH_Rj"
   },
   "outputs": [],
   "source": [
    "augment_lbls = [0, 1]\n",
    "NUM = 1500\n",
    "sample_count = {item:0 for item in augment_lbls}\n",
    "x_aug = []\n",
    "y_aug = []\n",
    "while True:\n",
    "    x_tmp, y_tmp = iterator.next()\n",
    "    for x, y in zip(x_tmp, y_tmp):\n",
    "    if y in augment_lbls:\n",
    "        if sample_count[y] < NUM:\n",
    "            x_aug.append(x)\n",
    "            y_aug.append(y)\n",
    "            sample_count[y] += 1\n",
    "    if sum([sample_count[key] >= NUM for key in sample_count.keys()]) == len(sample_count.keys()):\n",
    "    break"
   ]
  },
  {
   "cell_type": "code",
   "execution_count": 118,
   "metadata": {
    "colab": {
     "base_uri": "https://localhost:8080/"
    },
    "executionInfo": {
     "elapsed": 27,
     "status": "ok",
     "timestamp": 1655674275259,
     "user": {
      "displayName": "Ahmad Raza",
      "userId": "14303897828174014060"
     },
     "user_tz": -300
    },
    "id": "LwNsQis5HeAX",
    "outputId": "75db124f-3d7e-49fd-8fef-fdb6dfcfac4c"
   },
   "outputs": [
    {
     "data": {
      "text/plain": [
       "{0, 1}"
      ]
     },
     "execution_count": 118,
     "metadata": {},
     "output_type": "execute_result"
    }
   ],
   "source": [
    "set(y_aug)"
   ]
  },
  {
   "cell_type": "code",
   "execution_count": 119,
   "metadata": {
    "colab": {
     "base_uri": "https://localhost:8080/"
    },
    "executionInfo": {
     "elapsed": 14,
     "status": "ok",
     "timestamp": 1655674276629,
     "user": {
      "displayName": "Ahmad Raza",
      "userId": "14303897828174014060"
     },
     "user_tz": -300
    },
    "id": "zQMHnRqFHnmK",
    "outputId": "0b80b5ea-b68e-4414-afa3-4f629f9e2f69"
   },
   "outputs": [
    {
     "data": {
      "text/plain": [
       "[(0, 1500), (1, 1500)]"
      ]
     },
     "execution_count": 119,
     "metadata": {},
     "output_type": "execute_result"
    }
   ],
   "source": [
    "label_counts = [(lbl, y_aug.count(lbl) ) for lbl in set(y_aug)]\n",
    "label_counts"
   ]
  },
  {
   "cell_type": "code",
   "execution_count": 120,
   "metadata": {
    "colab": {
     "base_uri": "https://localhost:8080/"
    },
    "executionInfo": {
     "elapsed": 16,
     "status": "ok",
     "timestamp": 1655674278404,
     "user": {
      "displayName": "Ahmad Raza",
      "userId": "14303897828174014060"
     },
     "user_tz": -300
    },
    "id": "9o_kCnOdHn3C",
    "outputId": "0aad4ee1-ef52-45c9-d4eb-9543ee5727ea"
   },
   "outputs": [
    {
     "data": {
      "text/plain": [
       "(3000, 64, 64, 1)"
      ]
     },
     "execution_count": 120,
     "metadata": {},
     "output_type": "execute_result"
    }
   ],
   "source": [
    "np.array(x_aug).shape"
   ]
  },
  {
   "cell_type": "code",
   "execution_count": 121,
   "metadata": {
    "colab": {
     "base_uri": "https://localhost:8080/"
    },
    "executionInfo": {
     "elapsed": 4,
     "status": "ok",
     "timestamp": 1655674280013,
     "user": {
      "displayName": "Ahmad Raza",
      "userId": "14303897828174014060"
     },
     "user_tz": -300
    },
    "id": "KxmNa6VEHuE6",
    "outputId": "a15c236f-0e2f-4b81-86fa-0fca724e6f0d"
   },
   "outputs": [
    {
     "data": {
      "text/plain": [
       "numpy.ndarray"
      ]
     },
     "execution_count": 121,
     "metadata": {},
     "output_type": "execute_result"
    }
   ],
   "source": [
    "type(characters)"
   ]
  },
  {
   "cell_type": "code",
   "execution_count": 122,
   "metadata": {
    "colab": {
     "base_uri": "https://localhost:8080/"
    },
    "executionInfo": {
     "elapsed": 405,
     "status": "ok",
     "timestamp": 1655674281015,
     "user": {
      "displayName": "Ahmad Raza",
      "userId": "14303897828174014060"
     },
     "user_tz": -300
    },
    "id": "XkqFHIJ-nq-J",
    "outputId": "053b5621-b1ff-44cc-d06d-f86fd615265a"
   },
   "outputs": [
    {
     "data": {
      "text/plain": [
       "(169, 64, 64, 1)"
      ]
     },
     "execution_count": 122,
     "metadata": {},
     "output_type": "execute_result"
    }
   ],
   "source": [
    "characters.shape"
   ]
  },
  {
   "cell_type": "code",
   "execution_count": 123,
   "metadata": {
    "colab": {
     "base_uri": "https://localhost:8080/"
    },
    "executionInfo": {
     "elapsed": 33,
     "status": "ok",
     "timestamp": 1655674282530,
     "user": {
      "displayName": "Ahmad Raza",
      "userId": "14303897828174014060"
     },
     "user_tz": -300
    },
    "id": "3uGHd_linl34",
    "outputId": "f0cd3830-3b8c-4959-f650-368015224290"
   },
   "outputs": [
    {
     "data": {
      "text/plain": [
       "(3169, 64, 64, 1)"
      ]
     },
     "execution_count": 123,
     "metadata": {},
     "output_type": "execute_result"
    }
   ],
   "source": [
    "characters = list(characters)\n",
    "characters.extend(x_aug)\n",
    "characters = np.array(characters)\n",
    "characters.shape"
   ]
  },
  {
   "cell_type": "code",
   "execution_count": 124,
   "metadata": {
    "colab": {
     "base_uri": "https://localhost:8080/"
    },
    "executionInfo": {
     "elapsed": 8,
     "status": "ok",
     "timestamp": 1655674283954,
     "user": {
      "displayName": "Ahmad Raza",
      "userId": "14303897828174014060"
     },
     "user_tz": -300
    },
    "id": "JaI_zws3nmIZ",
    "outputId": "b0c12c72-2af9-4ca5-d902-fbb4b83abbad"
   },
   "outputs": [
    {
     "data": {
      "text/plain": [
       "3169"
      ]
     },
     "execution_count": 124,
     "metadata": {},
     "output_type": "execute_result"
    }
   ],
   "source": [
    "labels = list(labels)\n",
    "labels.extend(y_aug)\n",
    "len(labels)"
   ]
  },
  {
   "cell_type": "code",
   "execution_count": 125,
   "metadata": {
    "colab": {
     "base_uri": "https://localhost:8080/"
    },
    "executionInfo": {
     "elapsed": 9,
     "status": "ok",
     "timestamp": 1655674284978,
     "user": {
      "displayName": "Ahmad Raza",
      "userId": "14303897828174014060"
     },
     "user_tz": -300
    },
    "id": "rcqKEy9oosvp",
    "outputId": "486c6b74-5e99-4d8c-96f8-bb87cd3317c1"
   },
   "outputs": [
    {
     "data": {
      "text/plain": [
       "[(0, 1597), (1, 1572)]"
      ]
     },
     "execution_count": 125,
     "metadata": {},
     "output_type": "execute_result"
    }
   ],
   "source": [
    "label_counts = [(lbl, labels.count(lbl) ) for lbl in set(labels)]\n",
    "label_counts"
   ]
  },
  {
   "cell_type": "markdown",
   "metadata": {
    "id": "fxY-ozrqEGJW"
   },
   "source": [
    "# Data Spliting"
   ]
  },
  {
   "cell_type": "code",
   "execution_count": 126,
   "metadata": {
    "colab": {
     "base_uri": "https://localhost:8080/"
    },
    "executionInfo": {
     "elapsed": 11,
     "status": "ok",
     "timestamp": 1655674286909,
     "user": {
      "displayName": "Ahmad Raza",
      "userId": "14303897828174014060"
     },
     "user_tz": -300
    },
    "id": "8V1B68-u5BAJ",
    "outputId": "2bb61d83-a277-4990-b53c-387395fd9473"
   },
   "outputs": [
    {
     "data": {
      "text/plain": [
       "(3169, 64, 64, 1)"
      ]
     },
     "execution_count": 126,
     "metadata": {},
     "output_type": "execute_result"
    }
   ],
   "source": [
    "characters.shape"
   ]
  },
  {
   "cell_type": "code",
   "execution_count": 127,
   "metadata": {
    "executionInfo": {
     "elapsed": 4,
     "status": "ok",
     "timestamp": 1655674288870,
     "user": {
      "displayName": "Ahmad Raza",
      "userId": "14303897828174014060"
     },
     "user_tz": -300
    },
    "id": "4WGfd6AAxjpX"
   },
   "outputs": [],
   "source": [
    "X = characters\n",
    "Y = labels\n",
    "number_classes = len(set(labels))"
   ]
  },
  {
   "cell_type": "code",
   "execution_count": 128,
   "metadata": {
    "executionInfo": {
     "elapsed": 385,
     "status": "ok",
     "timestamp": 1655674290022,
     "user": {
      "displayName": "Ahmad Raza",
      "userId": "14303897828174014060"
     },
     "user_tz": -300
    },
    "id": "sOomgp8gWsjD"
   },
   "outputs": [],
   "source": [
    "\n",
    "X_train, X_val, Y_train, Y_val= train_test_split(X, Y, train_size=0.8, random_state=0)"
   ]
  },
  {
   "cell_type": "code",
   "execution_count": 129,
   "metadata": {
    "executionInfo": {
     "elapsed": 591,
     "status": "ok",
     "timestamp": 1655674293496,
     "user": {
      "displayName": "Ahmad Raza",
      "userId": "14303897828174014060"
     },
     "user_tz": -300
    },
    "id": "szQzVNYLqQKO"
   },
   "outputs": [],
   "source": [
    "from keras.utils import np_utils\n",
    "\n",
    "Y_train = keras.utils.np_utils.to_categorical(Y_train, number_classes)\n",
    "Y_test = keras.utils.np_utils.to_categorical(Y_test, number_classes)\n",
    "Y_val = keras.utils.np_utils.to_categorical(Y_val, number_classes)\n",
    "\n"
   ]
  },
  {
   "cell_type": "code",
   "execution_count": 130,
   "metadata": {
    "colab": {
     "base_uri": "https://localhost:8080/"
    },
    "executionInfo": {
     "elapsed": 377,
     "status": "ok",
     "timestamp": 1655674297973,
     "user": {
      "displayName": "Ahmad Raza",
      "userId": "14303897828174014060"
     },
     "user_tz": -300
    },
    "id": "XKRrs-AWD1pL",
    "outputId": "8650c6c3-7dcb-444e-bdcd-946137e120d7"
   },
   "outputs": [
    {
     "name": "stdout",
     "output_type": "stream",
     "text": [
      "2535\n",
      "634\n",
      "43\n"
     ]
    }
   ],
   "source": [
    "print(len(X_train))\n",
    "print(len(X_val))\n",
    "print(len(X_test))"
   ]
  },
  {
   "cell_type": "markdown",
   "metadata": {
    "id": "FnbX7XnS8Vm_"
   },
   "source": [
    "# Create Model"
   ]
  },
  {
   "cell_type": "code",
   "execution_count": 131,
   "metadata": {
    "executionInfo": {
     "elapsed": 395,
     "status": "ok",
     "timestamp": 1655674303172,
     "user": {
      "displayName": "Ahmad Raza",
      "userId": "14303897828174014060"
     },
     "user_tz": -300
    },
    "id": "fWlk-1V1eXXK"
   },
   "outputs": [],
   "source": [
    "from tensorflow.keras.optimizers import Adam\n",
    "from tensorflow.keras.layers import BatchNormalization"
   ]
  },
  {
   "cell_type": "code",
   "execution_count": 174,
   "metadata": {
    "executionInfo": {
     "elapsed": 416,
     "status": "ok",
     "timestamp": 1655675756464,
     "user": {
      "displayName": "Ahmad Raza",
      "userId": "14303897828174014060"
     },
     "user_tz": -300
    },
    "id": "lneLl4ZEEdBG"
   },
   "outputs": [],
   "source": [
    "\n",
    "input_shape = X_test[0].shape\n",
    "drop_rate= 0.3\n",
    "k3=(3, 3)\n",
    "k5=(5, 5)\n",
    "k7= (7, 7)\n",
    "model = Sequential(layers=[\n",
    "    #1st Convolutional layer\n",
    "    Conv2D(filters=256, kernel_size=k5, padding='same', activation='relu', input_shape=input_shape),  \n",
    "    BatchNormalization(),\n",
    "    MaxPooling2D(pool_size=(3, 3), strides=None, padding='valid', data_format=None),\n",
    "    Dropout(rate=drop_rate),\n",
    "    #2nd Convolutional layer\n",
    "    Conv2D(filters=128, kernel_size=k3, padding='same', activation='relu'),\n",
    "    BatchNormalization(),\n",
    "    Dropout(rate=drop_rate),\n",
    "    #3rd Convolutional layer\n",
    "    Conv2D(filters=128, kernel_size=k3, padding='same', activation='relu'), \n",
    "    BatchNormalization(),\n",
    "    MaxPooling2D(pool_size=(3, 3), strides=None, padding='valid', data_format=None),\n",
    "    Dropout(rate=drop_rate),\n",
    "    \n",
    "    #Flat layer\n",
    "    Flatten(), \n",
    "    \n",
    "    #6th Layer\n",
    "    Dense(4096, activation='relu'),\n",
    "    BatchNormalization(),\n",
    "    Dropout(drop_rate),\n",
    "    \n",
    "    Dense(number_classes, activation='softmax') \n",
    "])"
   ]
  },
  {
   "cell_type": "code",
   "execution_count": 175,
   "metadata": {
    "executionInfo": {
     "elapsed": 365,
     "status": "ok",
     "timestamp": 1655675758768,
     "user": {
      "displayName": "Ahmad Raza",
      "userId": "14303897828174014060"
     },
     "user_tz": -300
    },
    "id": "Nk9YAYVbrYex"
   },
   "outputs": [],
   "source": [
    "\n",
    "model.compile(optimizer=Adam(learning_rate=.00001), loss='categorical_crossentropy', metrics=['accuracy'])"
   ]
  },
  {
   "cell_type": "code",
   "execution_count": 192,
   "metadata": {
    "executionInfo": {
     "elapsed": 917,
     "status": "ok",
     "timestamp": 1655676168395,
     "user": {
      "displayName": "Ahmad Raza",
      "userId": "14303897828174014060"
     },
     "user_tz": -300
    },
    "id": "UU1HXwWVei1Z"
   },
   "outputs": [],
   "source": [
    "!rm -r models\n",
    "import os\n",
    "os.makedirs('./models')"
   ]
  },
  {
   "cell_type": "code",
   "execution_count": null,
   "metadata": {
    "id": "08_JKD0-q5Mp"
   },
   "outputs": [],
   "source": []
  },
  {
   "cell_type": "markdown",
   "metadata": {
    "id": "jraHgmwEXx8L"
   },
   "source": [
    "# Fit"
   ]
  },
  {
   "cell_type": "code",
   "execution_count": 194,
   "metadata": {
    "colab": {
     "base_uri": "https://localhost:8080/"
    },
    "executionInfo": {
     "elapsed": 46967,
     "status": "ok",
     "timestamp": 1655676236139,
     "user": {
      "displayName": "Ahmad Raza",
      "userId": "14303897828174014060"
     },
     "user_tz": -300
    },
    "id": "_05lklLXT5B6",
    "outputId": "cd54f100-b51c-470d-dbfe-5d5eaf9e317b"
   },
   "outputs": [
    {
     "name": "stdout",
     "output_type": "stream",
     "text": [
      "0\n",
      "80/80 [==============================] - 3s 35ms/step - loss: 0.8111 - accuracy: 0.5499 - val_loss: 0.7513 - val_accuracy: 0.4968\n",
      "1\n",
      "80/80 [==============================] - 3s 35ms/step - loss: 0.8237 - accuracy: 0.5613 - val_loss: 0.7650 - val_accuracy: 0.5016\n",
      "2\n",
      "80/80 [==============================] - 3s 34ms/step - loss: 0.8002 - accuracy: 0.5684 - val_loss: 0.7549 - val_accuracy: 0.5016\n",
      "3\n",
      "80/80 [==============================] - 3s 33ms/step - loss: 0.8315 - accuracy: 0.5566 - val_loss: 0.7794 - val_accuracy: 0.4953\n",
      "4\n",
      "80/80 [==============================] - 3s 35ms/step - loss: 0.8150 - accuracy: 0.5665 - val_loss: 0.7778 - val_accuracy: 0.4621\n",
      "5\n",
      "80/80 [==============================] - 3s 34ms/step - loss: 0.8188 - accuracy: 0.5574 - val_loss: 0.7822 - val_accuracy: 0.5047\n",
      "6\n",
      "80/80 [==============================] - 3s 34ms/step - loss: 0.8278 - accuracy: 0.5404 - val_loss: 0.8617 - val_accuracy: 0.5016\n",
      "7\n",
      "80/80 [==============================] - 3s 36ms/step - loss: 0.8012 - accuracy: 0.5554 - val_loss: 0.8745 - val_accuracy: 0.5047\n",
      "8\n",
      "80/80 [==============================] - 3s 33ms/step - loss: 0.7959 - accuracy: 0.5740 - val_loss: 0.9038 - val_accuracy: 0.5016\n",
      "9\n",
      "80/80 [==============================] - 3s 35ms/step - loss: 0.8172 - accuracy: 0.5444 - val_loss: 0.8766 - val_accuracy: 0.4968\n",
      "10\n",
      "80/80 [==============================] - 3s 34ms/step - loss: 0.7893 - accuracy: 0.5704 - val_loss: 0.8391 - val_accuracy: 0.4606\n"
     ]
    }
   ],
   "source": [
    "i =0\n",
    "epochs = 10\n",
    "train_loss = []\n",
    "val_loss = []\n",
    "val_acc = []\n",
    "train_acc = []\n",
    "while i <= epochs:\n",
    "    print(i)\n",
    "    hist = model.fit(X_train, Y_train, validation_data=(X_val, Y_val), epochs=1, shuffle=True, batch_size=32) #callbacks=[learning_rate_reduction]) \n",
    "    model.save_weights('./models/model'+str(i)+'.hd5')\n",
    "    i = i+1\n",
    "  #break"
   ]
  },
  {
   "cell_type": "code",
   "execution_count": null,
   "metadata": {
    "id": "8YY_mAjuhmTa"
   },
   "outputs": [],
   "source": []
  },
  {
   "cell_type": "code",
   "execution_count": 195,
   "metadata": {
    "colab": {
     "base_uri": "https://localhost:8080/"
    },
    "executionInfo": {
     "elapsed": 4567,
     "status": "ok",
     "timestamp": 1655676247224,
     "user": {
      "displayName": "Ahmad Raza",
      "userId": "14303897828174014060"
     },
     "user_tz": -300
    },
    "id": "yOw3ZsGKrnMP",
    "outputId": "3486322d-b038-4d2b-e2b9-c4026f1c6fb3"
   },
   "outputs": [
    {
     "name": "stdout",
     "output_type": "stream",
     "text": [
      "2/2 [==============================] - 0s 10ms/step - loss: 0.4151 - accuracy: 0.7907\n",
      "0: Testing Score: 79.0697693824768, Loss: 0.41507795453071594\n",
      "2/2 [==============================] - 0s 10ms/step - loss: 0.3299 - accuracy: 0.7907\n",
      "1: Testing Score: 79.0697693824768, Loss: 0.329893559217453\n",
      "2/2 [==============================] - 0s 13ms/step - loss: 0.6052 - accuracy: 0.6744\n",
      "2: Testing Score: 67.44186282157898, Loss: 0.60515296459198\n",
      "2/2 [==============================] - 0s 12ms/step - loss: 0.3738 - accuracy: 0.8140\n",
      "3: Testing Score: 81.39534592628479, Loss: 0.37378910183906555\n",
      "2/2 [==============================] - 0s 12ms/step - loss: 0.5587 - accuracy: 0.6512\n",
      "4: Testing Score: 65.11628031730652, Loss: 0.5587292313575745\n",
      "2/2 [==============================] - 0s 11ms/step - loss: 0.3563 - accuracy: 0.7907\n",
      "5: Testing Score: 79.0697693824768, Loss: 0.3562559187412262\n",
      "2/2 [==============================] - 0s 12ms/step - loss: 0.3889 - accuracy: 0.7442\n",
      "6: Testing Score: 74.41860437393188, Loss: 0.3888704180717468\n",
      "2/2 [==============================] - 0s 12ms/step - loss: 0.3496 - accuracy: 0.8140\n",
      "7: Testing Score: 81.39534592628479, Loss: 0.3495580554008484\n",
      "2/2 [==============================] - 0s 13ms/step - loss: 0.5745 - accuracy: 0.7209\n",
      "8: Testing Score: 72.09302186965942, Loss: 0.574526309967041\n",
      "2/2 [==============================] - 0s 12ms/step - loss: 0.5253 - accuracy: 0.7209\n",
      "9: Testing Score: 72.09302186965942, Loss: 0.5253354907035828\n",
      "2/2 [==============================] - 0s 11ms/step - loss: 0.3425 - accuracy: 0.8372\n",
      "10: Testing Score: 83.72092843055725, Loss: 0.34249621629714966\n"
     ]
    }
   ],
   "source": [
    "\n",
    "i = 0\n",
    "precission, recall, f1_, test_acc, test_loss = ([] for i in range(5))\n",
    "while i <= epochs:\n",
    "   \n",
    "    if i%1 == 0:\n",
    "        model.load_weights('./models/model' + str(i) + '.hd5')\n",
    "        predict_x=model.predict(X_test) \n",
    "        yp       =np.argmax(predict_x,axis=1) \n",
    "        #yp = model.predict_classes(X_test)\n",
    "        ya = [np.where(p==1)[0][0] for p in Y_test]\n",
    "\n",
    "        score = model.evaluate(X_test, Y_test)\n",
    "        pre = precision_score(ya, yp, average='weighted')\n",
    "        rec = recall_score(ya, yp, average='macro')\n",
    "        f1 = f1_score(ya, yp, average='micro') \n",
    "        test_acc.append(score[1])\n",
    "        test_loss.append(score[0])\n",
    "        precission.append(pre)\n",
    "        recall.append(recall)\n",
    "        f1_.append(f1)\n",
    "        print( str(i)+': Testing Score: '+str(score[1]*100) + ', Loss: ' + str(score[0]))\n",
    "    i = i + 1"
   ]
  },
  {
   "cell_type": "code",
   "execution_count": 188,
   "metadata": {
    "colab": {
     "base_uri": "https://localhost:8080/"
    },
    "executionInfo": {
     "elapsed": 419,
     "status": "ok",
     "timestamp": 1655676116153,
     "user": {
      "displayName": "Ahmad Raza",
      "userId": "14303897828174014060"
     },
     "user_tz": -300
    },
    "id": "MS2m-7YX4C4c",
    "outputId": "3eca8fd2-f32c-44a4-f07e-44b613cf3208"
   },
   "outputs": [
    {
     "name": "stdout",
     "output_type": "stream",
     "text": [
      "Acc: 0.9069767594337463 at 5\n",
      "loss: 0.2788420617580414 at 10\n"
     ]
    }
   ],
   "source": [
    "print('Acc: ' + str(max(test_acc))+ ' at '+ str(np.argmax(test_acc)) )\n",
    "print('loss: '+ str(min(test_loss))+ ' at '+ str(np.argmax(test_loss)) )"
   ]
  },
  {
   "cell_type": "code",
   "execution_count": 189,
   "metadata": {
    "colab": {
     "base_uri": "https://localhost:8080/"
    },
    "executionInfo": {
     "elapsed": 451,
     "status": "ok",
     "timestamp": 1655676124331,
     "user": {
      "displayName": "Ahmad Raza",
      "userId": "14303897828174014060"
     },
     "user_tz": -300
    },
    "id": "AfdIagEae4WB",
    "outputId": "c826f7df-3ae8-4c86-d47f-a68711d5cf86"
   },
   "outputs": [
    {
     "data": {
      "text/plain": [
       "<tensorflow.python.training.tracking.util.CheckpointLoadStatus at 0x7f75bed7fb50>"
      ]
     },
     "execution_count": 189,
     "metadata": {},
     "output_type": "execute_result"
    }
   ],
   "source": [
    "model.load_weights('./models/model' + str(5) + '.hd5')"
   ]
  },
  {
   "cell_type": "code",
   "execution_count": 190,
   "metadata": {
    "colab": {
     "base_uri": "https://localhost:8080/"
    },
    "executionInfo": {
     "elapsed": 346,
     "status": "ok",
     "timestamp": 1655676132088,
     "user": {
      "displayName": "Ahmad Raza",
      "userId": "14303897828174014060"
     },
     "user_tz": -300
    },
    "id": "0Mgr5H3RfD5r",
    "outputId": "ff725dcd-3dca-4233-e22b-d7026890dad2"
   },
   "outputs": [
    {
     "name": "stdout",
     "output_type": "stream",
     "text": [
      "2/2 [==============================] - 0s 13ms/step - loss: 0.3209 - accuracy: 0.9070\n"
     ]
    },
    {
     "data": {
      "text/plain": [
       "[0.3208986818790436, 0.9069767594337463]"
      ]
     },
     "execution_count": 190,
     "metadata": {},
     "output_type": "execute_result"
    }
   ],
   "source": [
    "model.evaluate(X_test, Y_test)"
   ]
  },
  {
   "cell_type": "markdown",
   "metadata": {},
   "source": [
    "# Save Model For Later Use"
   ]
  },
  {
   "cell_type": "code",
   "execution_count": 191,
   "metadata": {
    "colab": {
     "base_uri": "https://localhost:8080/"
    },
    "executionInfo": {
     "elapsed": 2828,
     "status": "ok",
     "timestamp": 1655676154353,
     "user": {
      "displayName": "Ahmad Raza",
      "userId": "14303897828174014060"
     },
     "user_tz": -300
    },
    "id": "Kl92rrfUuJ5T",
    "outputId": "9230da9e-c7fd-404d-a68d-ab9b57280e36"
   },
   "outputs": [
    {
     "name": "stdout",
     "output_type": "stream",
     "text": [
      "INFO:tensorflow:Assets written to: model_forniceal_90_69.hd5/assets\n"
     ]
    }
   ],
   "source": [
    "model.save('model_forniceal_90_69.hd5')"
   ]
  },
  {
   "cell_type": "code",
   "execution_count": null,
   "metadata": {
    "id": "V89sdupFuKK4"
   },
   "outputs": [],
   "source": [
    "print('Acc: ' + str(max(test_acc))+ ' at '+ str(np.argmax(test_acc)) )\n",
    "print('loss: '+ str(min(test_loss))+ ' at '+ str(np.argmax(test_loss)) )"
   ]
  },
  {
   "cell_type": "code",
   "execution_count": 196,
   "metadata": {
    "colab": {
     "base_uri": "https://localhost:8080/"
    },
    "executionInfo": {
     "elapsed": 16791,
     "status": "ok",
     "timestamp": 1655676370403,
     "user": {
      "displayName": "Ahmad Raza",
      "userId": "14303897828174014060"
     },
     "user_tz": -300
    },
    "id": "VnQPproU15d7",
    "outputId": "d10de0a4-8e80-4485-e607-dd7c458ce7e2"
   },
   "outputs": [
    {
     "name": "stdout",
     "output_type": "stream",
     "text": [
      "  adding: model_forniceal_90_69.hd5/ (stored 0%)\n",
      "  adding: model_forniceal_90_69.hd5/keras_metadata.pb (deflated 93%)\n",
      "  adding: model_forniceal_90_69.hd5/variables/ (stored 0%)\n",
      "  adding: model_forniceal_90_69.hd5/variables/variables.data-00000-of-00001 (deflated 7%)\n",
      "  adding: model_forniceal_90_69.hd5/variables/variables.index (deflated 72%)\n",
      "  adding: model_forniceal_90_69.hd5/assets/ (stored 0%)\n",
      "  adding: model_forniceal_90_69.hd5/saved_model.pb (deflated 89%)\n"
     ]
    }
   ],
   "source": [
    "!zip -r model_forniceal_90_69.zip model_forniceal_90_69.hd5/"
   ]
  },
  {
   "cell_type": "code",
   "execution_count": 197,
   "metadata": {
    "executionInfo": {
     "elapsed": 2466,
     "status": "ok",
     "timestamp": 1655676379193,
     "user": {
      "displayName": "Ahmad Raza",
      "userId": "14303897828174014060"
     },
     "user_tz": -300
    },
    "id": "uLAaDuWG2SPI"
   },
   "outputs": [],
   "source": [
    "!mv model_forniceal_90_69.zip /content/gdrive/MyDrive/"
   ]
  },
  {
   "cell_type": "code",
   "execution_count": null,
   "metadata": {
    "id": "_Ywg1x3r07fX"
   },
   "outputs": [],
   "source": [
    "from tensorflow.keras.models import load_model\n",
    "\n",
    "model1 = load_model('model_palpebral_93_18.hd5')"
   ]
  },
  {
   "cell_type": "code",
   "execution_count": null,
   "metadata": {
    "colab": {
     "base_uri": "https://localhost:8080/"
    },
    "executionInfo": {
     "elapsed": 381,
     "status": "ok",
     "timestamp": 1655333497214,
     "user": {
      "displayName": "Ahmad Raza",
      "userId": "14303897828174014060"
     },
     "user_tz": -300
    },
    "id": "yJQMRL0x1Y7q",
    "outputId": "2b092bac-4dbc-4b99-8d0b-9ade20287e7b"
   },
   "outputs": [
    {
     "name": "stdout",
     "output_type": "stream",
     "text": [
      "2/2 [==============================] - 0s 11ms/step - loss: 0.3563 - accuracy: 0.9318\n"
     ]
    },
    {
     "data": {
      "text/plain": [
       "[0.35634416341781616, 0.9318181872367859]"
      ]
     },
     "execution_count": 174,
     "metadata": {},
     "output_type": "execute_result"
    }
   ],
   "source": [
    "model1.evaluate(X_test, Y_test)"
   ]
  }
 ],
 "metadata": {
  "accelerator": "GPU",
  "colab": {
   "collapsed_sections": [
    "YHB3hq7UXtLu"
   ],
   "name": "cnn_aug_forniceal.ipynb",
   "provenance": []
  },
  "kernelspec": {
   "display_name": "Python 3 (ipykernel)",
   "language": "python",
   "name": "python3"
  },
  "language_info": {
   "codemirror_mode": {
    "name": "ipython",
    "version": 3
   },
   "file_extension": ".py",
   "mimetype": "text/x-python",
   "name": "python",
   "nbconvert_exporter": "python",
   "pygments_lexer": "ipython3",
   "version": "3.7.9"
  }
 },
 "nbformat": 4,
 "nbformat_minor": 1
}
