{
 "cells": [
  {
   "cell_type": "code",
   "execution_count": 1,
   "metadata": {
    "executionInfo": {
     "elapsed": 2934,
     "status": "ok",
     "timestamp": 1655578011612,
     "user": {
      "displayName": "Ahmad Raza",
      "userId": "14303897828174014060"
     },
     "user_tz": -300
    },
    "id": "kkVAItyKdKVu"
   },
   "outputs": [],
   "source": [
    "import os\n",
    "import cv2\n",
    "import keras \n",
    "import numpy as np\n",
    "import pandas as pd\n",
    "from sklearn.model_selection import train_test_split\n",
    "from keras import regularizers\n",
    "import pickle\n",
    "import keras \n",
    "from keras import backend as K\n",
    "from keras.layers import Dropout\n",
    "from keras.models import Sequential\n",
    "from keras.layers import Activation, MaxPooling2D\n",
    "from keras.layers.core import Dense, Flatten\n",
    "from keras.metrics import categorical_crossentropy\n",
    "from keras.preprocessing.image import ImageDataGenerator\n",
    "from keras.layers.convolutional import *\n",
    "from sklearn.metrics import confusion_matrix\n",
    "from keras.constraints import max_norm\n",
    "from keras import optimizers\n",
    "from sklearn.metrics import precision_score, recall_score, f1_score\n",
    "from keras.callbacks import ReduceLROnPlateau"
   ]
  },
  {
   "cell_type": "code",
   "execution_count": 2,
   "metadata": {
    "colab": {
     "base_uri": "https://localhost:8080/"
    },
    "executionInfo": {
     "elapsed": 28614,
     "status": "ok",
     "timestamp": 1655578040213,
     "user": {
      "displayName": "Ahmad Raza",
      "userId": "14303897828174014060"
     },
     "user_tz": -300
    },
    "id": "N9S9rv9bqC6_",
    "outputId": "ac124302-e621-446a-ba5f-ed21c2832a26"
   },
   "outputs": [
    {
     "name": "stdout",
     "output_type": "stream",
     "text": [
      "Mounted at /content/gdrive\n"
     ]
    }
   ],
   "source": [
    "# To mount drive, if you are at colab\n",
    "from google.colab import drive\n",
    "drive.mount('/content/gdrive', force_remount=True)"
   ]
  },
  {
   "cell_type": "markdown",
   "metadata": {
    "id": "PtLqo1dqDc4O"
   },
   "source": [
    "# Import Data"
   ]
  },
  {
   "cell_type": "code",
   "execution_count": 3,
   "metadata": {
    "executionInfo": {
     "elapsed": 438,
     "status": "ok",
     "timestamp": 1655578047739,
     "user": {
      "displayName": "Ahmad Raza",
      "userId": "14303897828174014060"
     },
     "user_tz": -300
    },
    "id": "z3QQVxjrdF0I"
   },
   "outputs": [],
   "source": [
    "data_dir     = '/content/gdrive/MyDrive/dataset anemia/'\n",
    "india_folder = os.path.join(data_dir, 'India')\n",
    "italy_folder = os.path.join(data_dir, 'Italy')"
   ]
  },
  {
   "cell_type": "code",
   "execution_count": 4,
   "metadata": {
    "colab": {
     "base_uri": "https://localhost:8080/"
    },
    "executionInfo": {
     "elapsed": 18806,
     "status": "ok",
     "timestamp": 1655578080778,
     "user": {
      "displayName": "Ahmad Raza",
      "userId": "14303897828174014060"
     },
     "user_tz": -300
    },
    "id": "TFEqZdTPTPUb",
    "outputId": "f120cbec-3630-4e6b-9324-b1e9abebaf30"
   },
   "outputs": [
    {
     "name": "stdout",
     "output_type": "stream",
     "text": [
      "Looking into ->  India\n",
      "/content/gdrive/MyDrive/dataset anemia/India  not found ->  ['.DS_Store', 'IndiaRd.xlsx']\n",
      "Looking into ->  Italy\n",
      "/content/gdrive/MyDrive/dataset anemia/Italy  not found ->  ['.DS_Store', 'Italyrd.xlsx']\n",
      "/content/gdrive/MyDrive/dataset anemia/Italy/75  not found ->  ['T_44_20190611_083543.jpg', 'T_44_20190611_083543_palpebral.png', '.DS_Store']\n",
      "/content/gdrive/MyDrive/dataset anemia/Italy/58  not found ->  ['T_27_20190608_100451_palpebral.png', 'T_27_20190608_100451.jpg', '.DS_Store']\n",
      "/content/gdrive/MyDrive/dataset anemia/Italy/54  not found ->  ['T_23_20190608_090427.jpg', 'T_23_20190608_090427_palpebral.png', '.DS_Store']\n",
      "/content/gdrive/MyDrive/dataset anemia/Italy/35  not found ->  ['T_4_20190606_095326.jpg', 'T_4_20190606_095326_palpebral.png', '.DS_Store']\n",
      "/content/gdrive/MyDrive/dataset anemia/Italy/109  not found ->  ['T_78_20190614_074753.jpg', 'T_78_20190614_074753_palpebral.png', '.DS_Store']\n",
      "/content/gdrive/MyDrive/dataset anemia/Italy/1  not found ->  ['1.jpg', '001_palpebral.png', '.DS_Store']\n"
     ]
    }
   ],
   "source": [
    "def should_use_img(img_name, img_type):\n",
    "    if img_name.split(\".\")[1] in [\"jpg\", \"png\"]:\n",
    "        img_name = img_name.split(\".\")[0]\n",
    "        \n",
    "        if img_type == \"\":\n",
    "            img_types   = [\"forniceal\", \"forniceal_palpebral\", \"palpebral\"]\n",
    "            for _type in img_types:\n",
    "                if img_name.endswith(_type):\n",
    "                    return False\n",
    "            return True\n",
    "        elif img_type == \"palpebral\":\n",
    "            img_name = img_name.split(\".\")[0]\n",
    "            if img_name.endswith(\"forniceal_palpebral\"):\n",
    "                    return False\n",
    "            return True if img_name.endswith(img_type) else False\n",
    "            \n",
    "        else:\n",
    "            return True if img_name.endswith(img_type)  else False\n",
    "    \n",
    "    else:\n",
    "        return False\n",
    "        \n",
    "\n",
    "img_to_use  = \"forniceal_palpebral\"\n",
    "img_files   = {\"India\":[], \"Italy\":[]}\n",
    "\n",
    "for folder in ['India', 'Italy']:\n",
    "    img_folder = os.path.join(data_dir, folder)\n",
    "    print(\"Looking into -> \", folder)\n",
    "    for root, dirs, files in os.walk(img_folder):\n",
    "        flag = False\n",
    "        for file in files:\n",
    "            if should_use_img(file, img_to_use):\n",
    "                cls = root.split(\"\\\\\")[-1]\n",
    "                img_files[folder].append( ( os.path.join(root, file), cls) )\n",
    "                flag = True\n",
    "                break\n",
    "        if flag is False:\n",
    "            print(root, \" not found -> \", files)\n"
   ]
  },
  {
   "cell_type": "code",
   "execution_count": 5,
   "metadata": {
    "colab": {
     "base_uri": "https://localhost:8080/"
    },
    "executionInfo": {
     "elapsed": 44,
     "status": "ok",
     "timestamp": 1655578097866,
     "user": {
      "displayName": "Ahmad Raza",
      "userId": "14303897828174014060"
     },
     "user_tz": -300
    },
    "id": "vWnmQph2TPiI",
    "outputId": "2945c75f-96be-467d-a3aa-acc8db6eb2e4"
   },
   "outputs": [
    {
     "name": "stdout",
     "output_type": "stream",
     "text": [
      "items for India -> 95\n",
      "items for Italy -> 117\n"
     ]
    }
   ],
   "source": [
    "for key, items in img_files.items():\n",
    "    print(f\"items for {key} -> {len(items)}\")"
   ]
  },
  {
   "cell_type": "code",
   "execution_count": 6,
   "metadata": {
    "colab": {
     "base_uri": "https://localhost:8080/"
    },
    "executionInfo": {
     "elapsed": 418,
     "status": "ok",
     "timestamp": 1655578105454,
     "user": {
      "displayName": "Ahmad Raza",
      "userId": "14303897828174014060"
     },
     "user_tz": -300
    },
    "id": "LPF6FW0Obm6J",
    "outputId": "d5c290b8-2557-4353-8b80-074ff6535643"
   },
   "outputs": [
    {
     "data": {
      "text/plain": [
       "('/content/gdrive/MyDrive/dataset anemia/India/95/20200318_130225_forniceal_palpebral.png',\n",
       " '/content/gdrive/MyDrive/dataset anemia/India/95')"
      ]
     },
     "execution_count": 6,
     "metadata": {},
     "output_type": "execute_result"
    }
   ],
   "source": [
    "img_files[\"India\"][0]"
   ]
  },
  {
   "cell_type": "code",
   "execution_count": 7,
   "metadata": {
    "executionInfo": {
     "elapsed": 9,
     "status": "ok",
     "timestamp": 1655578110611,
     "user": {
      "displayName": "Ahmad Raza",
      "userId": "14303897828174014060"
     },
     "user_tz": -300
    },
    "id": "QAGUxccMbsIn"
   },
   "outputs": [],
   "source": [
    "data_dir = '/content/gdrive/MyDrive/dataset anemia/'\n",
    "file1    = data_dir+'India/IndiaRd.xlsx'\n",
    "file2    = data_dir+'Italy/Italyrd.xlsx'"
   ]
  },
  {
   "cell_type": "code",
   "execution_count": 8,
   "metadata": {
    "colab": {
     "base_uri": "https://localhost:8080/"
    },
    "executionInfo": {
     "elapsed": 1740,
     "status": "ok",
     "timestamp": 1655578119139,
     "user": {
      "displayName": "Ahmad Raza",
      "userId": "14303897828174014060"
     },
     "user_tz": -300
    },
    "id": "DmQYBZoJb2rz",
    "outputId": "4a3b216d-ac7a-4610-b77d-66cbd600dc37"
   },
   "outputs": [
    {
     "name": "stdout",
     "output_type": "stream",
     "text": [
      "{'No Anemia': 0, 'Anemia': 1}\n"
     ]
    }
   ],
   "source": [
    "\n",
    "labels = {}\n",
    "\n",
    "d1 = pd.read_excel(file1)\n",
    "d1[\"Anemia\"] = d1[\"Note\"]\n",
    "d1 = d1[[\"Number\", \"Anemia\" ]]\n",
    "d1.replace(\"No anemia\", \"No Anemia\", inplace=True)\n",
    "\n",
    "d2 = pd.read_excel(file2)[[\"Number\", \"Anemia\" ]]\n",
    "d2.replace(\"No anemia\", \"No Anemia\", inplace=True)\n",
    "\n",
    "unique_values   = list(d1['Anemia'].unique())\n",
    "enum            = {val:i for i, val in enumerate(unique_values)} \n",
    "print(enum)\n",
    "\n",
    "d1['Anemia'].replace(enum, inplace=True)\n",
    "d2['Anemia'].replace(enum, inplace=True)\n",
    "\n",
    "labels[\"India\"] = { row[\"Number\"]:row[\"Anemia\"] for index, row in d1.iterrows() }\n",
    "labels[\"Italy\"] = { row[\"Number\"]:row[\"Anemia\"] for index, row in d2.iterrows() }\n"
   ]
  },
  {
   "cell_type": "markdown",
   "metadata": {
    "id": "q9qVhP9mcGD6"
   },
   "source": [
    "# Read Images"
   ]
  },
  {
   "cell_type": "code",
   "execution_count": 9,
   "metadata": {
    "executionInfo": {
     "elapsed": 82192,
     "status": "ok",
     "timestamp": 1655578213673,
     "user": {
      "displayName": "Ahmad Raza",
      "userId": "14303897828174014060"
     },
     "user_tz": -300
    },
    "id": "p5GKKxq6cEpR"
   },
   "outputs": [],
   "source": [
    "\n",
    "X = []\n",
    "y = []\n",
    "\n",
    "\n",
    "for key, items in img_files.items():\n",
    "    for item in items:\n",
    "        img_path, cls = item\n",
    "        cls           = cls.split(\"/\")[-1]\n",
    "        img           = cv2.imread(img_path)\n",
    "        img           = cv2.resize(img, (64, 64))\n",
    "        img           = cv2.cvtColor(img, cv2.COLOR_BGR2GRAY)\n",
    "        kernel        = np.array([[-1,-1,-1], \n",
    "                                    [-1, 9,-1],\n",
    "                                    [-1,-1,-1]])\n",
    "        sharpened     = cv2.filter2D(img, -1, kernel)\n",
    "        img           = cv2.GaussianBlur(sharpened, (5, 5), 0)\n",
    "        img           = img.reshape(64, 64, 1)\n",
    "        lbl           = labels[key][int(cls)]\n",
    "        \n",
    "        X.append(img)\n",
    "        y.append(lbl)\n",
    "        "
   ]
  },
  {
   "cell_type": "code",
   "execution_count": 112,
   "metadata": {
    "colab": {
     "base_uri": "https://localhost:8080/"
    },
    "executionInfo": {
     "elapsed": 11,
     "status": "ok",
     "timestamp": 1655579998047,
     "user": {
      "displayName": "Ahmad Raza",
      "userId": "14303897828174014060"
     },
     "user_tz": -300
    },
    "id": "AECjNyTbdL2Y",
    "outputId": "98f42fae-85c8-44e5-e49e-42ec1cab90d7"
   },
   "outputs": [
    {
     "name": "stdout",
     "output_type": "stream",
     "text": [
      "len(X) -> 212\n",
      "len(y) -> 212\n"
     ]
    }
   ],
   "source": [
    "print(f\"len(X) -> {len(X)}\")\n",
    "print(f\"len(y) -> {len(y)}\")"
   ]
  },
  {
   "cell_type": "code",
   "execution_count": 113,
   "metadata": {
    "executionInfo": {
     "elapsed": 13,
     "status": "ok",
     "timestamp": 1655580000089,
     "user": {
      "displayName": "Ahmad Raza",
      "userId": "14303897828174014060"
     },
     "user_tz": -300
    },
    "id": "Isp0G941dMpQ"
   },
   "outputs": [],
   "source": [
    "y = [0 if i == 0 else 1 for i in y]"
   ]
  },
  {
   "cell_type": "code",
   "execution_count": 114,
   "metadata": {
    "colab": {
     "base_uri": "https://localhost:8080/"
    },
    "executionInfo": {
     "elapsed": 18,
     "status": "ok",
     "timestamp": 1655580002292,
     "user": {
      "displayName": "Ahmad Raza",
      "userId": "14303897828174014060"
     },
     "user_tz": -300
    },
    "id": "50AQiEYLdM5b",
    "outputId": "278e70e1-e441-4a84-c6f4-fb3679c5a5d6"
   },
   "outputs": [
    {
     "data": {
      "text/plain": [
       "(212, 64, 64, 1)"
      ]
     },
     "execution_count": 114,
     "metadata": {},
     "output_type": "execute_result"
    }
   ],
   "source": [
    "X = np.array(X)\n",
    "X.shape"
   ]
  },
  {
   "cell_type": "code",
   "execution_count": 115,
   "metadata": {
    "colab": {
     "base_uri": "https://localhost:8080/"
    },
    "executionInfo": {
     "elapsed": 19,
     "status": "ok",
     "timestamp": 1655580004429,
     "user": {
      "displayName": "Ahmad Raza",
      "userId": "14303897828174014060"
     },
     "user_tz": -300
    },
    "id": "X6k7p9GedXvu",
    "outputId": "dbf00702-1b3e-4fb6-94bf-2eeecedeec45"
   },
   "outputs": [
    {
     "data": {
      "text/plain": [
       "{0, 1}"
      ]
     },
     "execution_count": 115,
     "metadata": {},
     "output_type": "execute_result"
    }
   ],
   "source": [
    "set(y)"
   ]
  },
  {
   "cell_type": "code",
   "execution_count": 116,
   "metadata": {
    "colab": {
     "base_uri": "https://localhost:8080/"
    },
    "executionInfo": {
     "elapsed": 12,
     "status": "ok",
     "timestamp": 1655580005112,
     "user": {
      "displayName": "Ahmad Raza",
      "userId": "14303897828174014060"
     },
     "user_tz": -300
    },
    "id": "nsHk9WQrdX8d",
    "outputId": "7429ca44-0952-4a54-e737-629aa7eb23f6"
   },
   "outputs": [
    {
     "data": {
      "text/plain": [
       "2"
      ]
     },
     "execution_count": 116,
     "metadata": {},
     "output_type": "execute_result"
    }
   ],
   "source": [
    "number_classes = len(set(y))\n",
    "number_classes"
   ]
  },
  {
   "cell_type": "code",
   "execution_count": 117,
   "metadata": {
    "executionInfo": {
     "elapsed": 5,
     "status": "ok",
     "timestamp": 1655580006899,
     "user": {
      "displayName": "Ahmad Raza",
      "userId": "14303897828174014060"
     },
     "user_tz": -300
    },
    "id": "oPVDaurddYGA"
   },
   "outputs": [],
   "source": [
    "X_train, X_test, Y_train, Y_test = train_test_split(X, y, train_size=0.8, random_state=0)\n",
    "#X_test, X_val, Y_test, Y_val     = train_test_split(X_test, Y_test, train_size=0.9, random_state=123)"
   ]
  },
  {
   "cell_type": "markdown",
   "metadata": {
    "id": "4Ojeh0wj7KQa"
   },
   "source": [
    "# Augmentation"
   ]
  },
  {
   "cell_type": "code",
   "execution_count": 123,
   "metadata": {
    "colab": {
     "base_uri": "https://localhost:8080/"
    },
    "executionInfo": {
     "elapsed": 653,
     "status": "ok",
     "timestamp": 1655580078737,
     "user": {
      "displayName": "Ahmad Raza",
      "userId": "14303897828174014060"
     },
     "user_tz": -300
    },
    "id": "C8D14-HxVoti",
    "outputId": "7e78b88d-06c7-45ec-bfde-91a8ad41acb0"
   },
   "outputs": [
    {
     "data": {
      "text/plain": [
       "(169, 64, 64, 1)"
      ]
     },
     "execution_count": 123,
     "metadata": {},
     "output_type": "execute_result"
    }
   ],
   "source": [
    "X_train.shape"
   ]
  },
  {
   "cell_type": "code",
   "execution_count": 124,
   "metadata": {
    "executionInfo": {
     "elapsed": 401,
     "status": "ok",
     "timestamp": 1655580081602,
     "user": {
      "displayName": "Ahmad Raza",
      "userId": "14303897828174014060"
     },
     "user_tz": -300
    },
    "id": "_Sj_qXwux2hm"
   },
   "outputs": [],
   "source": [
    "characters  = X_train\n",
    "labels      = np.array(Y_train.copy()) "
   ]
  },
  {
   "cell_type": "code",
   "execution_count": 125,
   "metadata": {
    "executionInfo": {
     "elapsed": 512,
     "status": "ok",
     "timestamp": 1655580084364,
     "user": {
      "displayName": "Ahmad Raza",
      "userId": "14303897828174014060"
     },
     "user_tz": -300
    },
    "id": "uk9I3WKw7I6P"
   },
   "outputs": [],
   "source": [
    "datagen = ImageDataGenerator( width_shift_range=[-200,200],\n",
    "    rotation_range=30,\n",
    "    zoom_range=0.15,\n",
    "    height_shift_range=0.2,\n",
    "    shear_range=0.15,\n",
    "    horizontal_flip=True,\n",
    "    fill_mode=\"nearest\")\n",
    "\n"
   ]
  },
  {
   "cell_type": "code",
   "execution_count": 126,
   "metadata": {
    "executionInfo": {
     "elapsed": 839,
     "status": "ok",
     "timestamp": 1655580088366,
     "user": {
      "displayName": "Ahmad Raza",
      "userId": "14303897828174014060"
     },
     "user_tz": -300
    },
    "id": "xtp2KIca75Zw"
   },
   "outputs": [],
   "source": [
    "iterator = datagen.flow(characters, labels)"
   ]
  },
  {
   "cell_type": "code",
   "execution_count": 127,
   "metadata": {
    "colab": {
     "base_uri": "https://localhost:8080/"
    },
    "executionInfo": {
     "elapsed": 18,
     "status": "ok",
     "timestamp": 1655580091819,
     "user": {
      "displayName": "Ahmad Raza",
      "userId": "14303897828174014060"
     },
     "user_tz": -300
    },
    "id": "7KCecID7HZUk",
    "outputId": "e54bf301-970a-47ee-a451-a94454b5cfbc"
   },
   "outputs": [
    {
     "data": {
      "text/plain": [
       "{0, 1}"
      ]
     },
     "execution_count": 127,
     "metadata": {},
     "output_type": "execute_result"
    }
   ],
   "source": [
    "set(labels)"
   ]
  },
  {
   "cell_type": "code",
   "execution_count": 128,
   "metadata": {
    "colab": {
     "base_uri": "https://localhost:8080/"
    },
    "executionInfo": {
     "elapsed": 399,
     "status": "ok",
     "timestamp": 1655580095313,
     "user": {
      "displayName": "Ahmad Raza",
      "userId": "14303897828174014060"
     },
     "user_tz": -300
    },
    "id": "pJiUu4QxHZsL",
    "outputId": "7c42c9dc-ca77-460d-d792-1989bd43c62c"
   },
   "outputs": [
    {
     "data": {
      "text/plain": [
       "[(0, 97), (1, 72)]"
      ]
     },
     "execution_count": 128,
     "metadata": {},
     "output_type": "execute_result"
    }
   ],
   "source": [
    "label_counts = [(lbl, list(labels).count(lbl) ) for lbl in set(labels)]\n",
    "label_counts"
   ]
  },
  {
   "cell_type": "code",
   "execution_count": 129,
   "metadata": {
    "executionInfo": {
     "elapsed": 2353,
     "status": "ok",
     "timestamp": 1655580108888,
     "user": {
      "displayName": "Ahmad Raza",
      "userId": "14303897828174014060"
     },
     "user_tz": -300
    },
    "id": "dYZwqibvH_Rj"
   },
   "outputs": [],
   "source": [
    "augment_lbls = [0, 1]\n",
    "NUM = 1500\n",
    "sample_count = {item:0 for item in augment_lbls}\n",
    "x_aug = []\n",
    "y_aug = []\n",
    "while True:\n",
    "    x_tmp, y_tmp = iterator.next()\n",
    "    for x, y in zip(x_tmp, y_tmp):\n",
    "    if y in augment_lbls:\n",
    "        if sample_count[y] < NUM:\n",
    "            x_aug.append(x)\n",
    "            y_aug.append(y)\n",
    "            sample_count[y] += 1\n",
    "    if sum([sample_count[key] >= NUM for key in sample_count.keys()]) == len(sample_count.keys()):\n",
    "    break"
   ]
  },
  {
   "cell_type": "code",
   "execution_count": 130,
   "metadata": {
    "colab": {
     "base_uri": "https://localhost:8080/"
    },
    "executionInfo": {
     "elapsed": 14,
     "status": "ok",
     "timestamp": 1655580110379,
     "user": {
      "displayName": "Ahmad Raza",
      "userId": "14303897828174014060"
     },
     "user_tz": -300
    },
    "id": "LwNsQis5HeAX",
    "outputId": "def12b6b-adc2-4d86-ee97-d4ed7d932ad8"
   },
   "outputs": [
    {
     "data": {
      "text/plain": [
       "{0, 1}"
      ]
     },
     "execution_count": 130,
     "metadata": {},
     "output_type": "execute_result"
    }
   ],
   "source": [
    "set(y_aug)"
   ]
  },
  {
   "cell_type": "code",
   "execution_count": 131,
   "metadata": {
    "colab": {
     "base_uri": "https://localhost:8080/"
    },
    "executionInfo": {
     "elapsed": 541,
     "status": "ok",
     "timestamp": 1655580113342,
     "user": {
      "displayName": "Ahmad Raza",
      "userId": "14303897828174014060"
     },
     "user_tz": -300
    },
    "id": "zQMHnRqFHnmK",
    "outputId": "2bc29fa9-6aa8-49ad-c799-3ebe6eea57bf"
   },
   "outputs": [
    {
     "data": {
      "text/plain": [
       "[(0, 1500), (1, 1500)]"
      ]
     },
     "execution_count": 131,
     "metadata": {},
     "output_type": "execute_result"
    }
   ],
   "source": [
    "label_counts = [(lbl, y_aug.count(lbl) ) for lbl in set(y_aug)]\n",
    "label_counts"
   ]
  },
  {
   "cell_type": "code",
   "execution_count": 132,
   "metadata": {
    "colab": {
     "base_uri": "https://localhost:8080/"
    },
    "executionInfo": {
     "elapsed": 627,
     "status": "ok",
     "timestamp": 1655580116408,
     "user": {
      "displayName": "Ahmad Raza",
      "userId": "14303897828174014060"
     },
     "user_tz": -300
    },
    "id": "9o_kCnOdHn3C",
    "outputId": "7cd0e5a2-1a50-4577-a096-65516ec86d36"
   },
   "outputs": [
    {
     "data": {
      "text/plain": [
       "(3000, 64, 64, 1)"
      ]
     },
     "execution_count": 132,
     "metadata": {},
     "output_type": "execute_result"
    }
   ],
   "source": [
    "np.array(x_aug).shape"
   ]
  },
  {
   "cell_type": "code",
   "execution_count": 133,
   "metadata": {
    "colab": {
     "base_uri": "https://localhost:8080/"
    },
    "executionInfo": {
     "elapsed": 15,
     "status": "ok",
     "timestamp": 1655580118463,
     "user": {
      "displayName": "Ahmad Raza",
      "userId": "14303897828174014060"
     },
     "user_tz": -300
    },
    "id": "KxmNa6VEHuE6",
    "outputId": "3f02478f-e89a-4614-854a-b8970d1cb80c"
   },
   "outputs": [
    {
     "data": {
      "text/plain": [
       "numpy.ndarray"
      ]
     },
     "execution_count": 133,
     "metadata": {},
     "output_type": "execute_result"
    }
   ],
   "source": [
    "type(characters)"
   ]
  },
  {
   "cell_type": "code",
   "execution_count": 134,
   "metadata": {
    "colab": {
     "base_uri": "https://localhost:8080/"
    },
    "executionInfo": {
     "elapsed": 512,
     "status": "ok",
     "timestamp": 1655580121930,
     "user": {
      "displayName": "Ahmad Raza",
      "userId": "14303897828174014060"
     },
     "user_tz": -300
    },
    "id": "XkqFHIJ-nq-J",
    "outputId": "4059627d-9bdf-49e6-9cb2-9bb5ee86d324"
   },
   "outputs": [
    {
     "data": {
      "text/plain": [
       "(169, 64, 64, 1)"
      ]
     },
     "execution_count": 134,
     "metadata": {},
     "output_type": "execute_result"
    }
   ],
   "source": [
    "characters.shape"
   ]
  },
  {
   "cell_type": "code",
   "execution_count": 135,
   "metadata": {
    "colab": {
     "base_uri": "https://localhost:8080/"
    },
    "executionInfo": {
     "elapsed": 21,
     "status": "ok",
     "timestamp": 1655580123824,
     "user": {
      "displayName": "Ahmad Raza",
      "userId": "14303897828174014060"
     },
     "user_tz": -300
    },
    "id": "3uGHd_linl34",
    "outputId": "46e16292-1f1d-4190-9a6e-2ff0468e62b0"
   },
   "outputs": [
    {
     "data": {
      "text/plain": [
       "(3169, 64, 64, 1)"
      ]
     },
     "execution_count": 135,
     "metadata": {},
     "output_type": "execute_result"
    }
   ],
   "source": [
    "characters = list(characters)\n",
    "characters.extend(x_aug)\n",
    "characters = np.array(characters)\n",
    "characters.shape"
   ]
  },
  {
   "cell_type": "code",
   "execution_count": 136,
   "metadata": {
    "colab": {
     "base_uri": "https://localhost:8080/"
    },
    "executionInfo": {
     "elapsed": 420,
     "status": "ok",
     "timestamp": 1655580126543,
     "user": {
      "displayName": "Ahmad Raza",
      "userId": "14303897828174014060"
     },
     "user_tz": -300
    },
    "id": "JaI_zws3nmIZ",
    "outputId": "c4493731-7e82-4c57-f6f6-4f3f141e02b3"
   },
   "outputs": [
    {
     "data": {
      "text/plain": [
       "3169"
      ]
     },
     "execution_count": 136,
     "metadata": {},
     "output_type": "execute_result"
    }
   ],
   "source": [
    "labels = list(labels)\n",
    "labels.extend(y_aug)\n",
    "len(labels)"
   ]
  },
  {
   "cell_type": "code",
   "execution_count": 137,
   "metadata": {
    "colab": {
     "base_uri": "https://localhost:8080/"
    },
    "executionInfo": {
     "elapsed": 11,
     "status": "ok",
     "timestamp": 1655580129185,
     "user": {
      "displayName": "Ahmad Raza",
      "userId": "14303897828174014060"
     },
     "user_tz": -300
    },
    "id": "rcqKEy9oosvp",
    "outputId": "4aa0e822-8d84-45d5-a5e1-fab7d668fa76"
   },
   "outputs": [
    {
     "data": {
      "text/plain": [
       "[(0, 1597), (1, 1572)]"
      ]
     },
     "execution_count": 137,
     "metadata": {},
     "output_type": "execute_result"
    }
   ],
   "source": [
    "label_counts = [(lbl, labels.count(lbl) ) for lbl in set(labels)]\n",
    "label_counts"
   ]
  },
  {
   "cell_type": "markdown",
   "metadata": {
    "id": "fxY-ozrqEGJW"
   },
   "source": [
    "# Data Spliting"
   ]
  },
  {
   "cell_type": "code",
   "execution_count": 138,
   "metadata": {
    "colab": {
     "base_uri": "https://localhost:8080/"
    },
    "executionInfo": {
     "elapsed": 14,
     "status": "ok",
     "timestamp": 1655580131328,
     "user": {
      "displayName": "Ahmad Raza",
      "userId": "14303897828174014060"
     },
     "user_tz": -300
    },
    "id": "8V1B68-u5BAJ",
    "outputId": "2b5a7edb-5581-43fd-a21d-7d00d1d1d0a1"
   },
   "outputs": [
    {
     "data": {
      "text/plain": [
       "(3169, 64, 64, 1)"
      ]
     },
     "execution_count": 138,
     "metadata": {},
     "output_type": "execute_result"
    }
   ],
   "source": [
    "characters.shape"
   ]
  },
  {
   "cell_type": "code",
   "execution_count": 139,
   "metadata": {
    "executionInfo": {
     "elapsed": 13,
     "status": "ok",
     "timestamp": 1655580133478,
     "user": {
      "displayName": "Ahmad Raza",
      "userId": "14303897828174014060"
     },
     "user_tz": -300
    },
    "id": "4WGfd6AAxjpX"
   },
   "outputs": [],
   "source": [
    "X = characters\n",
    "Y = labels\n",
    "number_classes = len(set(labels))"
   ]
  },
  {
   "cell_type": "code",
   "execution_count": 140,
   "metadata": {
    "executionInfo": {
     "elapsed": 7,
     "status": "ok",
     "timestamp": 1655580135878,
     "user": {
      "displayName": "Ahmad Raza",
      "userId": "14303897828174014060"
     },
     "user_tz": -300
    },
    "id": "sOomgp8gWsjD"
   },
   "outputs": [],
   "source": [
    "\n",
    "X_train, X_val, Y_train, Y_val= train_test_split(X, Y, train_size=0.8, random_state=0)"
   ]
  },
  {
   "cell_type": "code",
   "execution_count": 141,
   "metadata": {
    "executionInfo": {
     "elapsed": 5,
     "status": "ok",
     "timestamp": 1655580137617,
     "user": {
      "displayName": "Ahmad Raza",
      "userId": "14303897828174014060"
     },
     "user_tz": -300
    },
    "id": "szQzVNYLqQKO"
   },
   "outputs": [],
   "source": [
    "from keras.utils import np_utils\n",
    "\n",
    "Y_train = keras.utils.np_utils.to_categorical(Y_train, number_classes)\n",
    "Y_test = keras.utils.np_utils.to_categorical(Y_test, number_classes)\n",
    "Y_val = keras.utils.np_utils.to_categorical(Y_val, number_classes)\n",
    "\n",
    "#Y = keras.utils.to_categorical(Y, number_classes)"
   ]
  },
  {
   "cell_type": "code",
   "execution_count": 142,
   "metadata": {
    "colab": {
     "base_uri": "https://localhost:8080/"
    },
    "executionInfo": {
     "elapsed": 418,
     "status": "ok",
     "timestamp": 1655580142063,
     "user": {
      "displayName": "Ahmad Raza",
      "userId": "14303897828174014060"
     },
     "user_tz": -300
    },
    "id": "XKRrs-AWD1pL",
    "outputId": "95074e59-e293-4a02-f7c7-68de97acc129"
   },
   "outputs": [
    {
     "name": "stdout",
     "output_type": "stream",
     "text": [
      "2535\n",
      "634\n",
      "43\n"
     ]
    }
   ],
   "source": [
    "print(len(X_train))\n",
    "print(len(X_val))\n",
    "print(len(X_test))"
   ]
  },
  {
   "cell_type": "markdown",
   "metadata": {
    "id": "FnbX7XnS8Vm_"
   },
   "source": [
    "# Create Model"
   ]
  },
  {
   "cell_type": "code",
   "execution_count": 143,
   "metadata": {
    "executionInfo": {
     "elapsed": 607,
     "status": "ok",
     "timestamp": 1655580148351,
     "user": {
      "displayName": "Ahmad Raza",
      "userId": "14303897828174014060"
     },
     "user_tz": -300
    },
    "id": "fWlk-1V1eXXK"
   },
   "outputs": [],
   "source": [
    "from tensorflow.keras.optimizers import Adam\n",
    "from tensorflow.keras.layers import BatchNormalization"
   ]
  },
  {
   "cell_type": "code",
   "execution_count": 174,
   "metadata": {
    "executionInfo": {
     "elapsed": 629,
     "status": "ok",
     "timestamp": 1655580930290,
     "user": {
      "displayName": "Ahmad Raza",
      "userId": "14303897828174014060"
     },
     "user_tz": -300
    },
    "id": "lneLl4ZEEdBG"
   },
   "outputs": [],
   "source": [
    "\n",
    "input_shape = X_test[0].shape\n",
    "drop_rate= 0.\n",
    "k3=(3, 3)\n",
    "k5=(5, 5)\n",
    "k7= (7, 7)\n",
    "model = Sequential(layers=[\n",
    "    #1st Convolutional layer\n",
    "    Conv2D(filters=256, kernel_size=k5, padding='same', activation='relu', input_shape=input_shape),  \n",
    "    BatchNormalization(),\n",
    "    MaxPooling2D(pool_size=(3, 3), strides=None, padding='valid', data_format=None),\n",
    "    Dropout(rate=drop_rate),\n",
    "    #2nd Convolutional layer\n",
    "    Conv2D(filters=128, kernel_size=k3, padding='same', activation='relu'), \n",
    "    BatchNormalization(),\n",
    "    Dropout(rate=drop_rate),\n",
    "    #3rd Convolutional layer\n",
    "    Conv2D(filters=128, kernel_size=k3, padding='same', activation='relu'),\n",
    "    BatchNormalization(),\n",
    "    MaxPooling2D(pool_size=(3, 3), strides=None, padding='valid', data_format=None),\n",
    "    Dropout(rate=drop_rate),\n",
    "    \n",
    "    #Flat layer\n",
    "    Flatten(), \n",
    "    \n",
    "    #6th Layer\n",
    "    Dense(4096, activation='relu'),\n",
    "    BatchNormalization(),\n",
    "    Dropout(drop_rate),\n",
    "    \n",
    "    Dense(number_classes, activation='softmax')\n",
    "])"
   ]
  },
  {
   "cell_type": "code",
   "execution_count": 175,
   "metadata": {
    "executionInfo": {
     "elapsed": 511,
     "status": "ok",
     "timestamp": 1655580932522,
     "user": {
      "displayName": "Ahmad Raza",
      "userId": "14303897828174014060"
     },
     "user_tz": -300
    },
    "id": "Nk9YAYVbrYex"
   },
   "outputs": [],
   "source": [
    "\n",
    "model.compile(optimizer=Adam(learning_rate=.00001), loss='categorical_crossentropy', metrics=['accuracy'])"
   ]
  },
  {
   "cell_type": "code",
   "execution_count": 176,
   "metadata": {
    "executionInfo": {
     "elapsed": 839,
     "status": "ok",
     "timestamp": 1655580937365,
     "user": {
      "displayName": "Ahmad Raza",
      "userId": "14303897828174014060"
     },
     "user_tz": -300
    },
    "id": "UU1HXwWVei1Z"
   },
   "outputs": [],
   "source": [
    "!rm -r models\n",
    "import os\n",
    "os.makedirs('./models')"
   ]
  },
  {
   "cell_type": "code",
   "execution_count": 62,
   "metadata": {
    "executionInfo": {
     "elapsed": 450,
     "status": "ok",
     "timestamp": 1655579044535,
     "user": {
      "displayName": "Ahmad Raza",
      "userId": "14303897828174014060"
     },
     "user_tz": -300
    },
    "id": "WNu1Y3z6eibH"
   },
   "outputs": [],
   "source": []
  },
  {
   "cell_type": "code",
   "execution_count": null,
   "metadata": {
    "id": "08_JKD0-q5Mp"
   },
   "outputs": [],
   "source": []
  },
  {
   "cell_type": "markdown",
   "metadata": {
    "id": "jraHgmwEXx8L"
   },
   "source": [
    "# Fit"
   ]
  },
  {
   "cell_type": "code",
   "execution_count": 179,
   "metadata": {
    "colab": {
     "base_uri": "https://localhost:8080/"
    },
    "executionInfo": {
     "elapsed": 47334,
     "status": "ok",
     "timestamp": 1655581077964,
     "user": {
      "displayName": "Ahmad Raza",
      "userId": "14303897828174014060"
     },
     "user_tz": -300
    },
    "id": "_05lklLXT5B6",
    "outputId": "4d0e93cf-ccb6-43b2-edff-47f6d6656d86"
   },
   "outputs": [
    {
     "name": "stdout",
     "output_type": "stream",
     "text": [
      "0\n",
      "80/80 [==============================] - 3s 38ms/step - loss: 0.5579 - accuracy: 0.6536 - val_loss: 0.7637 - val_accuracy: 0.5079\n",
      "1\n",
      "80/80 [==============================] - 3s 34ms/step - loss: 0.5739 - accuracy: 0.6418 - val_loss: 0.8628 - val_accuracy: 0.5142\n",
      "2\n",
      "80/80 [==============================] - 3s 34ms/step - loss: 0.5756 - accuracy: 0.6414 - val_loss: 0.8027 - val_accuracy: 0.4921\n",
      "3\n",
      "80/80 [==============================] - 3s 33ms/step - loss: 0.5636 - accuracy: 0.6355 - val_loss: 0.8300 - val_accuracy: 0.4984\n",
      "4\n",
      "80/80 [==============================] - 3s 32ms/step - loss: 0.5693 - accuracy: 0.6272 - val_loss: 0.7542 - val_accuracy: 0.5489\n",
      "5\n",
      "80/80 [==============================] - 3s 33ms/step - loss: 0.5596 - accuracy: 0.6343 - val_loss: 0.7647 - val_accuracy: 0.5442\n",
      "6\n",
      "80/80 [==============================] - 3s 34ms/step - loss: 0.5600 - accuracy: 0.6584 - val_loss: 0.7746 - val_accuracy: 0.5489\n",
      "7\n",
      "80/80 [==============================] - 3s 34ms/step - loss: 0.5415 - accuracy: 0.6627 - val_loss: 0.7805 - val_accuracy: 0.5237\n",
      "8\n",
      "80/80 [==============================] - 3s 32ms/step - loss: 0.5472 - accuracy: 0.6379 - val_loss: 0.7807 - val_accuracy: 0.4984\n",
      "9\n",
      "80/80 [==============================] - 3s 32ms/step - loss: 0.5471 - accuracy: 0.6635 - val_loss: 0.8122 - val_accuracy: 0.5379\n",
      "10\n",
      "80/80 [==============================] - 3s 33ms/step - loss: 0.5630 - accuracy: 0.6391 - val_loss: 0.8561 - val_accuracy: 0.5000\n"
     ]
    }
   ],
   "source": [
    "i =0\n",
    "epochs = 10\n",
    "train_loss = []\n",
    "val_loss = []\n",
    "val_acc = []\n",
    "train_acc = []\n",
    "while i <= epochs:\n",
    "    print(i)\n",
    "    hist = model.fit(X_train, Y_train, validation_data=(X_val, Y_val), epochs=1, shuffle=True, batch_size=32) #callbacks=[learning_rate_reduction]) \n",
    "    model.save_weights('./models/model'+str(i)+'.hd5')\n",
    "    i = i+1\n",
    "  #break"
   ]
  },
  {
   "cell_type": "code",
   "execution_count": 180,
   "metadata": {
    "colab": {
     "base_uri": "https://localhost:8080/"
    },
    "executionInfo": {
     "elapsed": 5047,
     "status": "ok",
     "timestamp": 1655581094927,
     "user": {
      "displayName": "Ahmad Raza",
      "userId": "14303897828174014060"
     },
     "user_tz": -300
    },
    "id": "yOw3ZsGKrnMP",
    "outputId": "2fe615e6-14b0-4036-84a2-fe3ebc81e920"
   },
   "outputs": [
    {
     "name": "stdout",
     "output_type": "stream",
     "text": [
      "2/2 [==============================] - 0s 13ms/step - loss: 0.9351 - accuracy: 0.7442\n",
      "0: Testing Score: 74.41860437393188, Loss: 0.9351410865783691\n",
      "2/2 [==============================] - 0s 12ms/step - loss: 0.7403 - accuracy: 0.7674\n",
      "1: Testing Score: 76.74418687820435, Loss: 0.7402984499931335\n",
      "2/2 [==============================] - 0s 16ms/step - loss: 0.5812 - accuracy: 0.7442\n",
      "2: Testing Score: 74.41860437393188, Loss: 0.5811589956283569\n",
      "2/2 [==============================] - 0s 12ms/step - loss: 0.9055 - accuracy: 0.6977\n",
      "3: Testing Score: 69.76743936538696, Loss: 0.905520498752594\n",
      "2/2 [==============================] - 0s 12ms/step - loss: 0.8312 - accuracy: 0.6977\n",
      "4: Testing Score: 69.76743936538696, Loss: 0.831231415271759\n",
      "2/2 [==============================] - 0s 12ms/step - loss: 1.0750 - accuracy: 0.6744\n",
      "5: Testing Score: 67.44186282157898, Loss: 1.0750120878219604\n",
      "2/2 [==============================] - 0s 11ms/step - loss: 0.7520 - accuracy: 0.7442\n",
      "6: Testing Score: 74.41860437393188, Loss: 0.752043604850769\n",
      "2/2 [==============================] - 0s 12ms/step - loss: 0.5366 - accuracy: 0.7907\n",
      "7: Testing Score: 79.0697693824768, Loss: 0.5366302132606506\n",
      "2/2 [==============================] - 0s 12ms/step - loss: 0.8412 - accuracy: 0.7209\n",
      "8: Testing Score: 72.09302186965942, Loss: 0.8412324786186218\n",
      "2/2 [==============================] - 0s 12ms/step - loss: 1.1872 - accuracy: 0.6512\n",
      "9: Testing Score: 65.11628031730652, Loss: 1.1871538162231445\n",
      "2/2 [==============================] - 0s 12ms/step - loss: 0.6852 - accuracy: 0.7674\n",
      "10: Testing Score: 76.74418687820435, Loss: 0.6851987242698669\n"
     ]
    }
   ],
   "source": [
    "\n",
    "i = 0\n",
    "precission, recall, f1_, test_acc, test_loss = ([] for i in range(5))\n",
    "while i <= epochs:\n",
    "   \n",
    "    if i%1 == 0:\n",
    "        model.load_weights('./models/model' + str(i) + '.hd5')\n",
    "        predict_x=model.predict(X_test) \n",
    "        yp       =np.argmax(predict_x,axis=1) \n",
    "        #yp = model.predict_classes(X_test)\n",
    "        ya = [np.where(p==1)[0][0] for p in Y_test]\n",
    "\n",
    "        score = model.evaluate(X_test, Y_test)\n",
    "        pre = precision_score(ya, yp, average='weighted')\n",
    "        rec = recall_score(ya, yp, average='macro')\n",
    "        f1 = f1_score(ya, yp, average='micro') \n",
    "        test_acc.append(score[1])\n",
    "        test_loss.append(score[0])\n",
    "        precission.append(pre)\n",
    "        recall.append(recall)\n",
    "        f1_.append(f1)\n",
    "        print( str(i)+': Testing Score: '+str(score[1]*100) + ', Loss: ' + str(score[0]))\n",
    "    i = i + 1"
   ]
  },
  {
   "cell_type": "code",
   "execution_count": 166,
   "metadata": {
    "colab": {
     "base_uri": "https://localhost:8080/"
    },
    "executionInfo": {
     "elapsed": 407,
     "status": "ok",
     "timestamp": 1655580678089,
     "user": {
      "displayName": "Ahmad Raza",
      "userId": "14303897828174014060"
     },
     "user_tz": -300
    },
    "id": "MS2m-7YX4C4c",
    "outputId": "8849ed2a-8a45-4540-a7d1-2cce335bb074"
   },
   "outputs": [
    {
     "name": "stdout",
     "output_type": "stream",
     "text": [
      "Acc: 0.8604651093482971 at 5\n",
      "loss: 0.40779370069503784 at 1\n"
     ]
    }
   ],
   "source": [
    "print('Acc: ' + str(max(test_acc))+ ' at '+ str(np.argmax(test_acc)) )\n",
    "print('loss: '+ str(min(test_loss))+ ' at '+ str(np.argmax(test_loss)) )"
   ]
  },
  {
   "cell_type": "code",
   "execution_count": 167,
   "metadata": {
    "colab": {
     "base_uri": "https://localhost:8080/"
    },
    "executionInfo": {
     "elapsed": 416,
     "status": "ok",
     "timestamp": 1655580716976,
     "user": {
      "displayName": "Ahmad Raza",
      "userId": "14303897828174014060"
     },
     "user_tz": -300
    },
    "id": "AfdIagEae4WB",
    "outputId": "f91c4d46-845f-41fc-8390-af67b32be00c"
   },
   "outputs": [
    {
     "data": {
      "text/plain": [
       "<tensorflow.python.training.tracking.util.CheckpointLoadStatus at 0x7f6534b0c290>"
      ]
     },
     "execution_count": 167,
     "metadata": {},
     "output_type": "execute_result"
    }
   ],
   "source": [
    "model.load_weights('./models/model' + str(5) + '.hd5')"
   ]
  },
  {
   "cell_type": "code",
   "execution_count": 168,
   "metadata": {
    "colab": {
     "base_uri": "https://localhost:8080/"
    },
    "executionInfo": {
     "elapsed": 626,
     "status": "ok",
     "timestamp": 1655580723536,
     "user": {
      "displayName": "Ahmad Raza",
      "userId": "14303897828174014060"
     },
     "user_tz": -300
    },
    "id": "0Mgr5H3RfD5r",
    "outputId": "639c11a9-89e5-4e6d-f2e7-ef28cfaeca26"
   },
   "outputs": [
    {
     "name": "stdout",
     "output_type": "stream",
     "text": [
      "2/2 [==============================] - 0s 13ms/step - loss: 0.4219 - accuracy: 0.8605\n"
     ]
    },
    {
     "data": {
      "text/plain": [
       "[0.42191389203071594, 0.8604651093482971]"
      ]
     },
     "execution_count": 168,
     "metadata": {},
     "output_type": "execute_result"
    }
   ],
   "source": [
    "model.evaluate(X_test, Y_test)"
   ]
  },
  {
   "cell_type": "markdown",
   "metadata": {},
   "source": [
    "# Save Model For Later Use"
   ]
  },
  {
   "cell_type": "code",
   "execution_count": 169,
   "metadata": {
    "colab": {
     "base_uri": "https://localhost:8080/"
    },
    "executionInfo": {
     "elapsed": 2537,
     "status": "ok",
     "timestamp": 1655580759350,
     "user": {
      "displayName": "Ahmad Raza",
      "userId": "14303897828174014060"
     },
     "user_tz": -300
    },
    "id": "Kl92rrfUuJ5T",
    "outputId": "b4c78234-40c3-459b-da3c-faea4ea99e26"
   },
   "outputs": [
    {
     "name": "stdout",
     "output_type": "stream",
     "text": [
      "INFO:tensorflow:Assets written to: model_forniceal_palp_86_04_35.hd5/assets\n"
     ]
    }
   ],
   "source": [
    "model.save('model_forniceal_palp_86_04_35.hd5')"
   ]
  },
  {
   "cell_type": "code",
   "execution_count": null,
   "metadata": {
    "id": "V89sdupFuKK4"
   },
   "outputs": [],
   "source": [
    "print('Acc: ' + str(max(test_acc))+ ' at '+ str(np.argmax(test_acc)) )\n",
    "print('loss: '+ str(min(test_loss))+ ' at '+ str(np.argmax(test_loss)) )"
   ]
  },
  {
   "cell_type": "code",
   "execution_count": 181,
   "metadata": {
    "colab": {
     "base_uri": "https://localhost:8080/"
    },
    "executionInfo": {
     "elapsed": 9810,
     "status": "ok",
     "timestamp": 1655581233610,
     "user": {
      "displayName": "Ahmad Raza",
      "userId": "14303897828174014060"
     },
     "user_tz": -300
    },
    "id": "VnQPproU15d7",
    "outputId": "25c15ce4-cade-462e-beec-22b3b89450ff"
   },
   "outputs": [
    {
     "name": "stdout",
     "output_type": "stream",
     "text": [
      "  adding: model_forniceal_palp_86_04_35.hd5/ (stored 0%)\n",
      "  adding: model_forniceal_palp_86_04_35.hd5/keras_metadata.pb (deflated 93%)\n",
      "  adding: model_forniceal_palp_86_04_35.hd5/variables/ (stored 0%)\n",
      "  adding: model_forniceal_palp_86_04_35.hd5/variables/variables.data-00000-of-00001 (deflated 7%)\n",
      "  adding: model_forniceal_palp_86_04_35.hd5/variables/variables.index (deflated 72%)\n",
      "  adding: model_forniceal_palp_86_04_35.hd5/assets/ (stored 0%)\n",
      "  adding: model_forniceal_palp_86_04_35.hd5/saved_model.pb (deflated 89%)\n"
     ]
    }
   ],
   "source": [
    "!zip -r model_forniceal_palp_86_04_35.zip model_forniceal_palp_86_04_35.hd5/"
   ]
  },
  {
   "cell_type": "code",
   "execution_count": 182,
   "metadata": {
    "executionInfo": {
     "elapsed": 1513,
     "status": "ok",
     "timestamp": 1655581257504,
     "user": {
      "displayName": "Ahmad Raza",
      "userId": "14303897828174014060"
     },
     "user_tz": -300
    },
    "id": "uLAaDuWG2SPI"
   },
   "outputs": [],
   "source": [
    "!mv model_forniceal_palp_86_04_35.zip /content/gdrive/MyDrive/"
   ]
  },
  {
   "cell_type": "code",
   "execution_count": null,
   "metadata": {
    "id": "_Ywg1x3r07fX"
   },
   "outputs": [],
   "source": [
    "from tensorflow.keras.models import load_model\n",
    "\n",
    "model1 = load_model('model_palpebral_93_18.hd5')"
   ]
  },
  {
   "cell_type": "code",
   "execution_count": null,
   "metadata": {},
   "outputs": [],
   "source": [
    "model1.evaluate(X_test, Y_test)"
   ]
  }
 ],
 "metadata": {
  "accelerator": "GPU",
  "colab": {
   "collapsed_sections": [
    "BgB_PrLckqkG",
    "bRIQzFWL2ngL",
    "sStbGHHs2_os",
    "FwrDeJCwB55V",
    "afUlH30QB3b5",
    "mkDtbSBsUqzY",
    "q5Z7zNKQYzGY",
    "YHB3hq7UXtLu"
   ],
   "name": "cnn_aug_forniceal_palpebral.ipynb",
   "provenance": []
  },
  "kernelspec": {
   "display_name": "Python 3 (ipykernel)",
   "language": "python",
   "name": "python3"
  },
  "language_info": {
   "codemirror_mode": {
    "name": "ipython",
    "version": 3
   },
   "file_extension": ".py",
   "mimetype": "text/x-python",
   "name": "python",
   "nbconvert_exporter": "python",
   "pygments_lexer": "ipython3",
   "version": "3.7.9"
  }
 },
 "nbformat": 4,
 "nbformat_minor": 1
}
