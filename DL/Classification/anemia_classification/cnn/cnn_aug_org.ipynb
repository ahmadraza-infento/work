{
 "cells": [
  {
   "cell_type": "code",
   "execution_count": 1,
   "metadata": {
    "executionInfo": {
     "elapsed": 2217,
     "status": "ok",
     "timestamp": 1655676434724,
     "user": {
      "displayName": "Ahmad Raza",
      "userId": "14303897828174014060"
     },
     "user_tz": -300
    },
    "id": "kkVAItyKdKVu"
   },
   "outputs": [],
   "source": [
    "import os\n",
    "import cv2\n",
    "import keras \n",
    "import numpy as np\n",
    "import pandas as pd\n",
    "from sklearn.model_selection import train_test_split\n",
    "from keras import regularizers\n",
    "import pickle\n",
    "import keras \n",
    "from keras import backend as K\n",
    "from keras.layers import Dropout\n",
    "from keras.models import Sequential\n",
    "from keras.layers import Activation, MaxPooling2D\n",
    "from keras.layers.core import Dense, Flatten\n",
    "from keras.metrics import categorical_crossentropy\n",
    "from keras.preprocessing.image import ImageDataGenerator\n",
    "from keras.layers.convolutional import *\n",
    "from sklearn.metrics import confusion_matrix\n",
    "from keras.constraints import max_norm\n",
    "from keras import optimizers\n",
    "from sklearn.metrics import precision_score, recall_score, f1_score\n",
    "from keras.callbacks import ReduceLROnPlateau"
   ]
  },
  {
   "cell_type": "code",
   "execution_count": 2,
   "metadata": {
    "colab": {
     "base_uri": "https://localhost:8080/"
    },
    "executionInfo": {
     "elapsed": 32362,
     "status": "ok",
     "timestamp": 1655676468985,
     "user": {
      "displayName": "Ahmad Raza",
      "userId": "14303897828174014060"
     },
     "user_tz": -300
    },
    "id": "N9S9rv9bqC6_",
    "outputId": "5278a5e2-cd1f-4b3f-9d02-0939e5f64efa"
   },
   "outputs": [
    {
     "name": "stdout",
     "output_type": "stream",
     "text": [
      "Mounted at /content/gdrive\n"
     ]
    }
   ],
   "source": [
    "# To mount drive, if you are at colab\n",
    "from google.colab import drive\n",
    "drive.mount('/content/gdrive', force_remount=True)"
   ]
  },
  {
   "cell_type": "markdown",
   "metadata": {
    "id": "PtLqo1dqDc4O"
   },
   "source": [
    "# Import Data"
   ]
  },
  {
   "cell_type": "code",
   "execution_count": 3,
   "metadata": {
    "executionInfo": {
     "elapsed": 8,
     "status": "ok",
     "timestamp": 1655676468985,
     "user": {
      "displayName": "Ahmad Raza",
      "userId": "14303897828174014060"
     },
     "user_tz": -300
    },
    "id": "z3QQVxjrdF0I"
   },
   "outputs": [],
   "source": [
    "data_dir     = '/content/gdrive/MyDrive/dataset anemia/'\n",
    "india_folder = os.path.join(data_dir, 'India')\n",
    "italy_folder = os.path.join(data_dir, 'Italy')"
   ]
  },
  {
   "cell_type": "code",
   "execution_count": 87,
   "metadata": {
    "colab": {
     "base_uri": "https://localhost:8080/"
    },
    "executionInfo": {
     "elapsed": 975,
     "status": "ok",
     "timestamp": 1655678381522,
     "user": {
      "displayName": "Ahmad Raza",
      "userId": "14303897828174014060"
     },
     "user_tz": -300
    },
    "id": "TFEqZdTPTPUb",
    "outputId": "95cfb6a0-52f2-4fec-8181-9fef5b9b03cf"
   },
   "outputs": [
    {
     "name": "stdout",
     "output_type": "stream",
     "text": [
      "Looking into ->  India\n",
      "/content/gdrive/MyDrive/dataset anemia/India  not found ->  ['.DS_Store', 'IndiaRd.xlsx']\n",
      "Looking into ->  Italy\n",
      "/content/gdrive/MyDrive/dataset anemia/Italy  not found ->  ['.DS_Store', 'Italyrd.xlsx']\n"
     ]
    }
   ],
   "source": [
    "def should_use_img(img_name, img_type):\n",
    "    if img_name.split(\".\")[1] in [\"jpg\", \"png\"]:\n",
    "        img_name = img_name.split(\".\")[0]\n",
    "        \n",
    "        if img_type == \"\":\n",
    "            img_types   = [\"forniceal\", \"forniceal_palpebral\", \"palpebral\"]\n",
    "            for _type in img_types:\n",
    "                if img_name.endswith(_type):\n",
    "                    return False\n",
    "            return True\n",
    "        elif img_type == \"palpebral\":\n",
    "            img_name = img_name.split(\".\")[0]\n",
    "            if img_name.endswith(\"forniceal_palpebral\"):\n",
    "                    return False\n",
    "            return True if img_name.endswith(img_type) else False\n",
    "            \n",
    "        else:\n",
    "            return True if img_name.endswith(img_type)  else False\n",
    "    \n",
    "    else:\n",
    "        return False\n",
    "        \n",
    "\n",
    "img_to_use  = \"\"\n",
    "img_files   = {\"India\":[], \"Italy\":[]}\n",
    "\n",
    "for folder in ['India', 'Italy']:\n",
    "    img_folder = os.path.join(data_dir, folder)\n",
    "    print(\"Looking into -> \", folder)\n",
    "    for root, dirs, files in os.walk(img_folder):\n",
    "        flag = False\n",
    "        for file in files:\n",
    "            if should_use_img(file, img_to_use):\n",
    "                cls = root.split(\"\\\\\")[-1]\n",
    "                img_files[folder].append( ( os.path.join(root, file), cls) )\n",
    "                flag = True\n",
    "                break\n",
    "        if flag is False:\n",
    "            print(root, \" not found -> \", files)\n"
   ]
  },
  {
   "cell_type": "code",
   "execution_count": 88,
   "metadata": {
    "colab": {
     "base_uri": "https://localhost:8080/"
    },
    "executionInfo": {
     "elapsed": 3,
     "status": "ok",
     "timestamp": 1655678382025,
     "user": {
      "displayName": "Ahmad Raza",
      "userId": "14303897828174014060"
     },
     "user_tz": -300
    },
    "id": "vWnmQph2TPiI",
    "outputId": "4be6ec26-9b2a-450d-baf4-e62aaa3f49b3"
   },
   "outputs": [
    {
     "name": "stdout",
     "output_type": "stream",
     "text": [
      "items for India -> 95\n",
      "items for Italy -> 123\n"
     ]
    }
   ],
   "source": [
    "for key, items in img_files.items():\n",
    "    print(f\"items for {key} -> {len(items)}\")"
   ]
  },
  {
   "cell_type": "code",
   "execution_count": 89,
   "metadata": {
    "colab": {
     "base_uri": "https://localhost:8080/"
    },
    "executionInfo": {
     "elapsed": 545,
     "status": "ok",
     "timestamp": 1655678383512,
     "user": {
      "displayName": "Ahmad Raza",
      "userId": "14303897828174014060"
     },
     "user_tz": -300
    },
    "id": "LPF6FW0Obm6J",
    "outputId": "74d9ae91-42bc-465b-e062-3ac4819572eb"
   },
   "outputs": [
    {
     "data": {
      "text/plain": [
       "('/content/gdrive/MyDrive/dataset anemia/India/95/20200318_130225.jpg',\n",
       " '/content/gdrive/MyDrive/dataset anemia/India/95')"
      ]
     },
     "execution_count": 89,
     "metadata": {},
     "output_type": "execute_result"
    }
   ],
   "source": [
    "img_files[\"India\"][0]"
   ]
  },
  {
   "cell_type": "code",
   "execution_count": 90,
   "metadata": {
    "executionInfo": {
     "elapsed": 7,
     "status": "ok",
     "timestamp": 1655678383513,
     "user": {
      "displayName": "Ahmad Raza",
      "userId": "14303897828174014060"
     },
     "user_tz": -300
    },
    "id": "QAGUxccMbsIn"
   },
   "outputs": [],
   "source": [
    "data_dir = '/content/gdrive/MyDrive/dataset anemia/'\n",
    "file1    = data_dir+'India/IndiaRd.xlsx'\n",
    "file2    = data_dir+'Italy/Italyrd.xlsx'"
   ]
  },
  {
   "cell_type": "code",
   "execution_count": 91,
   "metadata": {
    "colab": {
     "base_uri": "https://localhost:8080/"
    },
    "executionInfo": {
     "elapsed": 7,
     "status": "ok",
     "timestamp": 1655678383514,
     "user": {
      "displayName": "Ahmad Raza",
      "userId": "14303897828174014060"
     },
     "user_tz": -300
    },
    "id": "DmQYBZoJb2rz",
    "outputId": "82ba0540-215c-4c5f-c9fc-37723464ce93"
   },
   "outputs": [
    {
     "name": "stdout",
     "output_type": "stream",
     "text": [
      "{'No Anemia': 0, 'Anemia': 1}\n"
     ]
    }
   ],
   "source": [
    "\n",
    "labels = {}\n",
    "\n",
    "d1 = pd.read_excel(file1)\n",
    "d1[\"Anemia\"] = d1[\"Note\"]\n",
    "d1 = d1[[\"Number\", \"Anemia\" ]]\n",
    "d1.replace(\"No anemia\", \"No Anemia\", inplace=True)\n",
    "\n",
    "d2 = pd.read_excel(file2)[[\"Number\", \"Anemia\" ]]\n",
    "d2.replace(\"No anemia\", \"No Anemia\", inplace=True)\n",
    "\n",
    "unique_values   = list(d1['Anemia'].unique())\n",
    "enum            = {val:i for i, val in enumerate(unique_values)} \n",
    "print(enum)\n",
    "\n",
    "d1['Anemia'].replace(enum, inplace=True)\n",
    "d2['Anemia'].replace(enum, inplace=True)\n",
    "\n",
    "labels[\"India\"] = { row[\"Number\"]:row[\"Anemia\"] for index, row in d1.iterrows() }\n",
    "labels[\"Italy\"] = { row[\"Number\"]:row[\"Anemia\"] for index, row in d2.iterrows() }\n"
   ]
  },
  {
   "cell_type": "markdown",
   "metadata": {
    "id": "q9qVhP9mcGD6"
   },
   "source": [
    "# Read Images"
   ]
  },
  {
   "cell_type": "code",
   "execution_count": 92,
   "metadata": {
    "executionInfo": {
     "elapsed": 52011,
     "status": "ok",
     "timestamp": 1655678438909,
     "user": {
      "displayName": "Ahmad Raza",
      "userId": "14303897828174014060"
     },
     "user_tz": -300
    },
    "id": "p5GKKxq6cEpR"
   },
   "outputs": [],
   "source": [
    "\n",
    "X = []\n",
    "y = []\n",
    "\n",
    "\n",
    "for key, items in img_files.items():\n",
    "    for item in items:\n",
    "        img_path, cls = item\n",
    "        cls           = cls.split(\"/\")[-1]\n",
    "        img           = cv2.imread(img_path)\n",
    "        img           = cv2.resize(img, (64, 64))\n",
    "        img           = cv2.cvtColor(img, cv2.COLOR_BGR2GRAY)\n",
    "        kernel        = np.array([[-1,-1,-1], \n",
    "                                    [-1, 9,-1],\n",
    "                                    [-1,-1,-1]])\n",
    "        sharpened     = cv2.filter2D(img, -1, kernel)\n",
    "        img           = cv2.GaussianBlur(sharpened, (5, 5), 0)\n",
    "        img           = img.reshape(64, 64, 1)\n",
    "        lbl           = labels[key][int(cls)]\n",
    "        \n",
    "        X.append(img)\n",
    "        y.append(lbl)\n",
    "        "
   ]
  },
  {
   "cell_type": "code",
   "execution_count": 95,
   "metadata": {
    "colab": {
     "base_uri": "https://localhost:8080/"
    },
    "executionInfo": {
     "elapsed": 619,
     "status": "ok",
     "timestamp": 1655678550307,
     "user": {
      "displayName": "Ahmad Raza",
      "userId": "14303897828174014060"
     },
     "user_tz": -300
    },
    "id": "AECjNyTbdL2Y",
    "outputId": "e9733262-412d-4307-f33a-63c12268ce5b"
   },
   "outputs": [
    {
     "name": "stdout",
     "output_type": "stream",
     "text": [
      "len(X) -> 218\n",
      "len(y) -> 218\n"
     ]
    }
   ],
   "source": [
    "print(f\"len(X) -> {len(X)}\")\n",
    "print(f\"len(y) -> {len(y)}\")"
   ]
  },
  {
   "cell_type": "code",
   "execution_count": 96,
   "metadata": {
    "executionInfo": {
     "elapsed": 13,
     "status": "ok",
     "timestamp": 1655678552000,
     "user": {
      "displayName": "Ahmad Raza",
      "userId": "14303897828174014060"
     },
     "user_tz": -300
    },
    "id": "Isp0G941dMpQ"
   },
   "outputs": [],
   "source": [
    "y = [0 if i == 0 else 1 for i in y]"
   ]
  },
  {
   "cell_type": "code",
   "execution_count": 97,
   "metadata": {
    "colab": {
     "base_uri": "https://localhost:8080/"
    },
    "executionInfo": {
     "elapsed": 14,
     "status": "ok",
     "timestamp": 1655678555415,
     "user": {
      "displayName": "Ahmad Raza",
      "userId": "14303897828174014060"
     },
     "user_tz": -300
    },
    "id": "50AQiEYLdM5b",
    "outputId": "32f48347-11f6-4847-d5bd-2d4d23224185"
   },
   "outputs": [
    {
     "data": {
      "text/plain": [
       "(218, 64, 64, 1)"
      ]
     },
     "execution_count": 97,
     "metadata": {},
     "output_type": "execute_result"
    }
   ],
   "source": [
    "X = np.array(X)\n",
    "X.shape"
   ]
  },
  {
   "cell_type": "code",
   "execution_count": 98,
   "metadata": {
    "colab": {
     "base_uri": "https://localhost:8080/"
    },
    "executionInfo": {
     "elapsed": 13,
     "status": "ok",
     "timestamp": 1655678555416,
     "user": {
      "displayName": "Ahmad Raza",
      "userId": "14303897828174014060"
     },
     "user_tz": -300
    },
    "id": "X6k7p9GedXvu",
    "outputId": "9e26a56c-7701-4092-f212-8d5ab7504a76"
   },
   "outputs": [
    {
     "data": {
      "text/plain": [
       "{0, 1}"
      ]
     },
     "execution_count": 98,
     "metadata": {},
     "output_type": "execute_result"
    }
   ],
   "source": [
    "set(y)"
   ]
  },
  {
   "cell_type": "code",
   "execution_count": 175,
   "metadata": {
    "colab": {
     "base_uri": "https://localhost:8080/"
    },
    "executionInfo": {
     "elapsed": 9,
     "status": "ok",
     "timestamp": 1655679811389,
     "user": {
      "displayName": "Ahmad Raza",
      "userId": "14303897828174014060"
     },
     "user_tz": -300
    },
    "id": "nsHk9WQrdX8d",
    "outputId": "6b194b9f-cde0-4d49-fa20-de005b423976"
   },
   "outputs": [
    {
     "data": {
      "text/plain": [
       "2"
      ]
     },
     "execution_count": 175,
     "metadata": {},
     "output_type": "execute_result"
    }
   ],
   "source": [
    "number_classes = len(set(y))\n",
    "number_classes"
   ]
  },
  {
   "cell_type": "code",
   "execution_count": 176,
   "metadata": {
    "executionInfo": {
     "elapsed": 12,
     "status": "ok",
     "timestamp": 1655679816469,
     "user": {
      "displayName": "Ahmad Raza",
      "userId": "14303897828174014060"
     },
     "user_tz": -300
    },
    "id": "oPVDaurddYGA"
   },
   "outputs": [],
   "source": [
    "X_train, X_test, Y_train, Y_test = train_test_split(X, y, train_size=0.8, random_state=0)"
   ]
  },
  {
   "cell_type": "markdown",
   "metadata": {
    "id": "4Ojeh0wj7KQa"
   },
   "source": [
    "# Augmentation"
   ]
  },
  {
   "cell_type": "code",
   "execution_count": 177,
   "metadata": {
    "colab": {
     "base_uri": "https://localhost:8080/"
    },
    "executionInfo": {
     "elapsed": 1549,
     "status": "ok",
     "timestamp": 1655679829232,
     "user": {
      "displayName": "Ahmad Raza",
      "userId": "14303897828174014060"
     },
     "user_tz": -300
    },
    "id": "C8D14-HxVoti",
    "outputId": "b5b2cf9d-3cde-4d5a-af30-339470840391"
   },
   "outputs": [
    {
     "data": {
      "text/plain": [
       "(174, 64, 64, 1)"
      ]
     },
     "execution_count": 177,
     "metadata": {},
     "output_type": "execute_result"
    }
   ],
   "source": [
    "X_train.shape"
   ]
  },
  {
   "cell_type": "code",
   "execution_count": 178,
   "metadata": {
    "executionInfo": {
     "elapsed": 3,
     "status": "ok",
     "timestamp": 1655679832024,
     "user": {
      "displayName": "Ahmad Raza",
      "userId": "14303897828174014060"
     },
     "user_tz": -300
    },
    "id": "_Sj_qXwux2hm"
   },
   "outputs": [],
   "source": [
    "characters  = X_train\n",
    "labels      = np.array(Y_train.copy()) "
   ]
  },
  {
   "cell_type": "code",
   "execution_count": 179,
   "metadata": {
    "executionInfo": {
     "elapsed": 13,
     "status": "ok",
     "timestamp": 1655679835200,
     "user": {
      "displayName": "Ahmad Raza",
      "userId": "14303897828174014060"
     },
     "user_tz": -300
    },
    "id": "uk9I3WKw7I6P"
   },
   "outputs": [],
   "source": [
    "datagen = ImageDataGenerator( width_shift_range=[-200,200],\n",
    "    rotation_range=30,\n",
    "    zoom_range=0.15,\n",
    "    height_shift_range=0.2,\n",
    "    shear_range=0.15,\n",
    "    horizontal_flip=True,\n",
    "    fill_mode=\"nearest\")\n",
    "\n"
   ]
  },
  {
   "cell_type": "code",
   "execution_count": 180,
   "metadata": {
    "executionInfo": {
     "elapsed": 14,
     "status": "ok",
     "timestamp": 1655679835203,
     "user": {
      "displayName": "Ahmad Raza",
      "userId": "14303897828174014060"
     },
     "user_tz": -300
    },
    "id": "xtp2KIca75Zw"
   },
   "outputs": [],
   "source": [
    "iterator = datagen.flow(characters, labels)"
   ]
  },
  {
   "cell_type": "code",
   "execution_count": 181,
   "metadata": {
    "colab": {
     "base_uri": "https://localhost:8080/"
    },
    "executionInfo": {
     "elapsed": 11,
     "status": "ok",
     "timestamp": 1655679836734,
     "user": {
      "displayName": "Ahmad Raza",
      "userId": "14303897828174014060"
     },
     "user_tz": -300
    },
    "id": "7KCecID7HZUk",
    "outputId": "a16d0d4c-6a62-4edc-f244-7d3e18ad24fd"
   },
   "outputs": [
    {
     "data": {
      "text/plain": [
       "{0, 1}"
      ]
     },
     "execution_count": 181,
     "metadata": {},
     "output_type": "execute_result"
    }
   ],
   "source": [
    "set(labels)"
   ]
  },
  {
   "cell_type": "code",
   "execution_count": 182,
   "metadata": {
    "colab": {
     "base_uri": "https://localhost:8080/"
    },
    "executionInfo": {
     "elapsed": 9,
     "status": "ok",
     "timestamp": 1655679837765,
     "user": {
      "displayName": "Ahmad Raza",
      "userId": "14303897828174014060"
     },
     "user_tz": -300
    },
    "id": "pJiUu4QxHZsL",
    "outputId": "1d6fa472-b764-4671-a082-8fc61e4da033"
   },
   "outputs": [
    {
     "data": {
      "text/plain": [
       "[(0, 102), (1, 72)]"
      ]
     },
     "execution_count": 182,
     "metadata": {},
     "output_type": "execute_result"
    }
   ],
   "source": [
    "label_counts = [(lbl, list(labels).count(lbl) ) for lbl in set(labels)]\n",
    "label_counts"
   ]
  },
  {
   "cell_type": "code",
   "execution_count": 183,
   "metadata": {
    "executionInfo": {
     "elapsed": 1444,
     "status": "ok",
     "timestamp": 1655679843753,
     "user": {
      "displayName": "Ahmad Raza",
      "userId": "14303897828174014060"
     },
     "user_tz": -300
    },
    "id": "dYZwqibvH_Rj"
   },
   "outputs": [],
   "source": [
    "augment_lbls = [0, 1]\n",
    "NUM = 1500\n",
    "sample_count = {item:0 for item in augment_lbls}\n",
    "x_aug = []\n",
    "y_aug = []\n",
    "while True:\n",
    "    x_tmp, y_tmp = iterator.next()\n",
    "    for x, y in zip(x_tmp, y_tmp):\n",
    "    if y in augment_lbls:\n",
    "        if sample_count[y] < NUM:\n",
    "            x_aug.append(x)\n",
    "            y_aug.append(y)\n",
    "            sample_count[y] += 1\n",
    "    if sum([sample_count[key] >= NUM for key in sample_count.keys()]) == len(sample_count.keys()):\n",
    "    break"
   ]
  },
  {
   "cell_type": "code",
   "execution_count": 184,
   "metadata": {
    "colab": {
     "base_uri": "https://localhost:8080/"
    },
    "executionInfo": {
     "elapsed": 27,
     "status": "ok",
     "timestamp": 1655679845455,
     "user": {
      "displayName": "Ahmad Raza",
      "userId": "14303897828174014060"
     },
     "user_tz": -300
    },
    "id": "LwNsQis5HeAX",
    "outputId": "6369d31f-8b3f-4775-a5cd-3328aa804608"
   },
   "outputs": [
    {
     "data": {
      "text/plain": [
       "{0, 1}"
      ]
     },
     "execution_count": 184,
     "metadata": {},
     "output_type": "execute_result"
    }
   ],
   "source": [
    "set(y_aug)"
   ]
  },
  {
   "cell_type": "code",
   "execution_count": 185,
   "metadata": {
    "colab": {
     "base_uri": "https://localhost:8080/"
    },
    "executionInfo": {
     "elapsed": 20,
     "status": "ok",
     "timestamp": 1655679849669,
     "user": {
      "displayName": "Ahmad Raza",
      "userId": "14303897828174014060"
     },
     "user_tz": -300
    },
    "id": "zQMHnRqFHnmK",
    "outputId": "c1f7243c-cb38-47bb-b9a0-d7c8157670ee"
   },
   "outputs": [
    {
     "data": {
      "text/plain": [
       "[(0, 500), (1, 500)]"
      ]
     },
     "execution_count": 185,
     "metadata": {},
     "output_type": "execute_result"
    }
   ],
   "source": [
    "label_counts = [(lbl, y_aug.count(lbl) ) for lbl in set(y_aug)]\n",
    "label_counts"
   ]
  },
  {
   "cell_type": "code",
   "execution_count": 186,
   "metadata": {
    "colab": {
     "base_uri": "https://localhost:8080/"
    },
    "executionInfo": {
     "elapsed": 14,
     "status": "ok",
     "timestamp": 1655679853017,
     "user": {
      "displayName": "Ahmad Raza",
      "userId": "14303897828174014060"
     },
     "user_tz": -300
    },
    "id": "9o_kCnOdHn3C",
    "outputId": "18c00c1a-8e57-4e86-f406-88621c8fac0b"
   },
   "outputs": [
    {
     "data": {
      "text/plain": [
       "(1000, 64, 64, 1)"
      ]
     },
     "execution_count": 186,
     "metadata": {},
     "output_type": "execute_result"
    }
   ],
   "source": [
    "np.array(x_aug).shape"
   ]
  },
  {
   "cell_type": "code",
   "execution_count": 187,
   "metadata": {
    "colab": {
     "base_uri": "https://localhost:8080/"
    },
    "executionInfo": {
     "elapsed": 15,
     "status": "ok",
     "timestamp": 1655679854994,
     "user": {
      "displayName": "Ahmad Raza",
      "userId": "14303897828174014060"
     },
     "user_tz": -300
    },
    "id": "KxmNa6VEHuE6",
    "outputId": "1eaf7fbc-5480-460e-eb4c-af2c4e89bd3d"
   },
   "outputs": [
    {
     "data": {
      "text/plain": [
       "numpy.ndarray"
      ]
     },
     "execution_count": 187,
     "metadata": {},
     "output_type": "execute_result"
    }
   ],
   "source": [
    "type(characters)"
   ]
  },
  {
   "cell_type": "code",
   "execution_count": 188,
   "metadata": {
    "colab": {
     "base_uri": "https://localhost:8080/"
    },
    "executionInfo": {
     "elapsed": 12,
     "status": "ok",
     "timestamp": 1655679856714,
     "user": {
      "displayName": "Ahmad Raza",
      "userId": "14303897828174014060"
     },
     "user_tz": -300
    },
    "id": "XkqFHIJ-nq-J",
    "outputId": "dba33612-cb9c-413e-b31b-5594433127fd"
   },
   "outputs": [
    {
     "data": {
      "text/plain": [
       "(174, 64, 64, 1)"
      ]
     },
     "execution_count": 188,
     "metadata": {},
     "output_type": "execute_result"
    }
   ],
   "source": [
    "characters.shape"
   ]
  },
  {
   "cell_type": "code",
   "execution_count": 189,
   "metadata": {
    "colab": {
     "base_uri": "https://localhost:8080/"
    },
    "executionInfo": {
     "elapsed": 8,
     "status": "ok",
     "timestamp": 1655679857509,
     "user": {
      "displayName": "Ahmad Raza",
      "userId": "14303897828174014060"
     },
     "user_tz": -300
    },
    "id": "3uGHd_linl34",
    "outputId": "2374fff7-d750-47b1-81ad-815a85de3c59"
   },
   "outputs": [
    {
     "data": {
      "text/plain": [
       "(1174, 64, 64, 1)"
      ]
     },
     "execution_count": 189,
     "metadata": {},
     "output_type": "execute_result"
    }
   ],
   "source": [
    "characters = list(characters)\n",
    "characters.extend(x_aug)\n",
    "characters = np.array(characters)\n",
    "characters.shape"
   ]
  },
  {
   "cell_type": "code",
   "execution_count": 190,
   "metadata": {
    "colab": {
     "base_uri": "https://localhost:8080/"
    },
    "executionInfo": {
     "elapsed": 12,
     "status": "ok",
     "timestamp": 1655679858256,
     "user": {
      "displayName": "Ahmad Raza",
      "userId": "14303897828174014060"
     },
     "user_tz": -300
    },
    "id": "JaI_zws3nmIZ",
    "outputId": "bc06fd19-ae38-4540-df5c-8a6bbe0d9b9f"
   },
   "outputs": [
    {
     "data": {
      "text/plain": [
       "1174"
      ]
     },
     "execution_count": 190,
     "metadata": {},
     "output_type": "execute_result"
    }
   ],
   "source": [
    "labels = list(labels)\n",
    "labels.extend(y_aug)\n",
    "len(labels)"
   ]
  },
  {
   "cell_type": "code",
   "execution_count": 191,
   "metadata": {
    "colab": {
     "base_uri": "https://localhost:8080/"
    },
    "executionInfo": {
     "elapsed": 7,
     "status": "ok",
     "timestamp": 1655679860653,
     "user": {
      "displayName": "Ahmad Raza",
      "userId": "14303897828174014060"
     },
     "user_tz": -300
    },
    "id": "rcqKEy9oosvp",
    "outputId": "fe96f37a-5f30-44c9-9f72-8ffb78119745"
   },
   "outputs": [
    {
     "data": {
      "text/plain": [
       "[(0, 602), (1, 572)]"
      ]
     },
     "execution_count": 191,
     "metadata": {},
     "output_type": "execute_result"
    }
   ],
   "source": [
    "label_counts = [(lbl, labels.count(lbl) ) for lbl in set(labels)]\n",
    "label_counts"
   ]
  },
  {
   "cell_type": "markdown",
   "metadata": {
    "id": "fxY-ozrqEGJW"
   },
   "source": [
    "# Data Spliting"
   ]
  },
  {
   "cell_type": "code",
   "execution_count": 192,
   "metadata": {
    "colab": {
     "base_uri": "https://localhost:8080/"
    },
    "executionInfo": {
     "elapsed": 11,
     "status": "ok",
     "timestamp": 1655679864028,
     "user": {
      "displayName": "Ahmad Raza",
      "userId": "14303897828174014060"
     },
     "user_tz": -300
    },
    "id": "8V1B68-u5BAJ",
    "outputId": "842fd74a-187c-4d95-c9b3-ba28ca2e78a6"
   },
   "outputs": [
    {
     "data": {
      "text/plain": [
       "(1174, 64, 64, 1)"
      ]
     },
     "execution_count": 192,
     "metadata": {},
     "output_type": "execute_result"
    }
   ],
   "source": [
    "characters.shape"
   ]
  },
  {
   "cell_type": "code",
   "execution_count": 193,
   "metadata": {
    "executionInfo": {
     "elapsed": 9,
     "status": "ok",
     "timestamp": 1655679864746,
     "user": {
      "displayName": "Ahmad Raza",
      "userId": "14303897828174014060"
     },
     "user_tz": -300
    },
    "id": "4WGfd6AAxjpX"
   },
   "outputs": [],
   "source": [
    "X = characters\n",
    "Y = labels\n",
    "number_classes = len(set(labels))"
   ]
  },
  {
   "cell_type": "code",
   "execution_count": 194,
   "metadata": {
    "executionInfo": {
     "elapsed": 8,
     "status": "ok",
     "timestamp": 1655679867126,
     "user": {
      "displayName": "Ahmad Raza",
      "userId": "14303897828174014060"
     },
     "user_tz": -300
    },
    "id": "sOomgp8gWsjD"
   },
   "outputs": [],
   "source": [
    "\n",
    "X_train, X_val, Y_train, Y_val= train_test_split(X, Y, train_size=0.8, random_state=0)"
   ]
  },
  {
   "cell_type": "code",
   "execution_count": 195,
   "metadata": {
    "executionInfo": {
     "elapsed": 4,
     "status": "ok",
     "timestamp": 1655679869023,
     "user": {
      "displayName": "Ahmad Raza",
      "userId": "14303897828174014060"
     },
     "user_tz": -300
    },
    "id": "szQzVNYLqQKO"
   },
   "outputs": [],
   "source": [
    "from keras.utils import np_utils\n",
    "\n",
    "Y_train = keras.utils.np_utils.to_categorical(Y_train, number_classes)\n",
    "Y_test = keras.utils.np_utils.to_categorical(Y_test, number_classes)\n",
    "Y_val = keras.utils.np_utils.to_categorical(Y_val, number_classes)\n",
    "\n",
    "#Y = keras.utils.to_categorical(Y, number_classes)"
   ]
  },
  {
   "cell_type": "code",
   "execution_count": 196,
   "metadata": {
    "colab": {
     "base_uri": "https://localhost:8080/"
    },
    "executionInfo": {
     "elapsed": 1025,
     "status": "ok",
     "timestamp": 1655679893893,
     "user": {
      "displayName": "Ahmad Raza",
      "userId": "14303897828174014060"
     },
     "user_tz": -300
    },
    "id": "XKRrs-AWD1pL",
    "outputId": "cf510aca-7e0c-4a9b-92de-e00a527f6989"
   },
   "outputs": [
    {
     "name": "stdout",
     "output_type": "stream",
     "text": [
      "939\n",
      "235\n",
      "44\n"
     ]
    }
   ],
   "source": [
    "print(len(X_train))\n",
    "print(len(X_val))\n",
    "print(len(X_test))"
   ]
  },
  {
   "cell_type": "markdown",
   "metadata": {
    "id": "FnbX7XnS8Vm_"
   },
   "source": [
    "# Create Model"
   ]
  },
  {
   "cell_type": "code",
   "execution_count": 123,
   "metadata": {
    "executionInfo": {
     "elapsed": 1095,
     "status": "ok",
     "timestamp": 1655678634617,
     "user": {
      "displayName": "Ahmad Raza",
      "userId": "14303897828174014060"
     },
     "user_tz": -300
    },
    "id": "fWlk-1V1eXXK"
   },
   "outputs": [],
   "source": [
    "from tensorflow.keras.optimizers import Adam\n",
    "from tensorflow.keras.layers import BatchNormalization"
   ]
  },
  {
   "cell_type": "code",
   "execution_count": 233,
   "metadata": {
    "executionInfo": {
     "elapsed": 563,
     "status": "ok",
     "timestamp": 1655680564228,
     "user": {
      "displayName": "Ahmad Raza",
      "userId": "14303897828174014060"
     },
     "user_tz": -300
    },
    "id": "lneLl4ZEEdBG"
   },
   "outputs": [],
   "source": [
    "\n",
    "input_shape = X_test[0].shape\n",
    "drop_rate= 0.30\n",
    "k3=(3, 3)\n",
    "k5=(5, 5)\n",
    "k7= (7, 7)\n",
    "model = Sequential(layers=[\n",
    "    #1st Convolutional layer\n",
    "    Conv2D(filters=256, kernel_size=k5, padding='same', activation='relu', input_shape=input_shape),  \n",
    "    BatchNormalization(),\n",
    "    MaxPooling2D(pool_size=(3, 3), strides=None, padding='valid', data_format=None),\n",
    "    Dropout(rate=drop_rate),\n",
    "    #2nd Convolutional layer\n",
    "    Conv2D(filters=128, kernel_size=k3, padding='same', activation='relu'), \n",
    "    BatchNormalization(),\n",
    "    Dropout(rate=drop_rate),\n",
    "    #3rd Convolutional layer\n",
    "    Conv2D(filters=128, kernel_size=k3, padding='same', activation='relu'), \n",
    "    BatchNormalization(),\n",
    "    MaxPooling2D(pool_size=(3, 3), strides=None, padding='valid', data_format=None),\n",
    "    Dropout(rate=drop_rate),\n",
    "    \n",
    "    #Flat layer\n",
    "    Flatten(),\n",
    "    \n",
    "    #6th Layer\n",
    "    Dense(4096, activation='relu'),\n",
    "    BatchNormalization(),\n",
    "    Dropout(drop_rate),\n",
    "    \n",
    "    Dense(number_classes, activation='softmax') \n",
    "])"
   ]
  },
  {
   "cell_type": "code",
   "execution_count": 234,
   "metadata": {
    "executionInfo": {
     "elapsed": 6,
     "status": "ok",
     "timestamp": 1655680567050,
     "user": {
      "displayName": "Ahmad Raza",
      "userId": "14303897828174014060"
     },
     "user_tz": -300
    },
    "id": "Nk9YAYVbrYex"
   },
   "outputs": [],
   "source": [
    "model.compile(optimizer=Adam(learning_rate=.00001), loss='categorical_crossentropy', metrics=['accuracy'])"
   ]
  },
  {
   "cell_type": "markdown",
   "metadata": {
    "id": "jraHgmwEXx8L"
   },
   "source": [
    "# Fit"
   ]
  },
  {
   "cell_type": "code",
   "execution_count": 244,
   "metadata": {
    "executionInfo": {
     "elapsed": 1658,
     "status": "ok",
     "timestamp": 1655680733359,
     "user": {
      "displayName": "Ahmad Raza",
      "userId": "14303897828174014060"
     },
     "user_tz": -300
    },
    "id": "TJHK61N-GOg-"
   },
   "outputs": [],
   "source": [
    "!rm -r models\n",
    "import os\n",
    "os.makedirs('./models')"
   ]
  },
  {
   "cell_type": "code",
   "execution_count": 245,
   "metadata": {
    "colab": {
     "base_uri": "https://localhost:8080/"
    },
    "executionInfo": {
     "elapsed": 21925,
     "status": "ok",
     "timestamp": 1655680757834,
     "user": {
      "displayName": "Ahmad Raza",
      "userId": "14303897828174014060"
     },
     "user_tz": -300
    },
    "id": "_05lklLXT5B6",
    "outputId": "5a7b2c22-243b-4660-df51-7784ecf7d68f"
   },
   "outputs": [
    {
     "name": "stdout",
     "output_type": "stream",
     "text": [
      "0\n",
      "30/30 [==============================] - 1s 38ms/step - loss: 0.7823 - accuracy: 0.6283 - val_loss: 0.9747 - val_accuracy: 0.5702\n",
      "1\n",
      "30/30 [==============================] - 1s 38ms/step - loss: 0.7815 - accuracy: 0.6262 - val_loss: 0.9740 - val_accuracy: 0.5830\n",
      "2\n",
      "30/30 [==============================] - 1s 35ms/step - loss: 0.8344 - accuracy: 0.5900 - val_loss: 0.9349 - val_accuracy: 0.5660\n",
      "3\n",
      "30/30 [==============================] - 1s 34ms/step - loss: 0.7747 - accuracy: 0.6113 - val_loss: 0.9909 - val_accuracy: 0.5872\n",
      "4\n",
      "30/30 [==============================] - 1s 38ms/step - loss: 0.8225 - accuracy: 0.5985 - val_loss: 0.9449 - val_accuracy: 0.5957\n",
      "5\n",
      "30/30 [==============================] - 1s 35ms/step - loss: 0.7584 - accuracy: 0.6166 - val_loss: 0.9850 - val_accuracy: 0.5915\n",
      "6\n",
      "30/30 [==============================] - 1s 35ms/step - loss: 0.7746 - accuracy: 0.6230 - val_loss: 0.9410 - val_accuracy: 0.5830\n",
      "7\n",
      "30/30 [==============================] - 1s 37ms/step - loss: 0.7897 - accuracy: 0.6209 - val_loss: 0.9298 - val_accuracy: 0.5957\n",
      "8\n",
      "30/30 [==============================] - 1s 35ms/step - loss: 0.8016 - accuracy: 0.6102 - val_loss: 0.9378 - val_accuracy: 0.6000\n",
      "9\n",
      "30/30 [==============================] - 1s 37ms/step - loss: 0.7689 - accuracy: 0.6124 - val_loss: 0.9370 - val_accuracy: 0.5957\n",
      "10\n",
      "30/30 [==============================] - 1s 37ms/step - loss: 0.7659 - accuracy: 0.6379 - val_loss: 0.8652 - val_accuracy: 0.5532\n"
     ]
    }
   ],
   "source": [
    "i =0\n",
    "epochs = 10\n",
    "train_loss = []\n",
    "val_loss = []\n",
    "val_acc = []\n",
    "train_acc = []\n",
    "while i <= epochs:\n",
    "    print(i)\n",
    "    hist = model.fit(X_train, Y_train, validation_data=(X_val, Y_val), epochs=1, shuffle=True, batch_size=32) #callbacks=[learning_rate_reduction]) \n",
    "    model.save_weights('./models/model'+str(i)+'.hd5')\n",
    "    i = i+1\n",
    "  #break"
   ]
  },
  {
   "cell_type": "code",
   "execution_count": null,
   "metadata": {
    "id": "8YY_mAjuhmTa"
   },
   "outputs": [],
   "source": []
  },
  {
   "cell_type": "code",
   "execution_count": 246,
   "metadata": {
    "colab": {
     "base_uri": "https://localhost:8080/"
    },
    "executionInfo": {
     "elapsed": 5219,
     "status": "ok",
     "timestamp": 1655680765561,
     "user": {
      "displayName": "Ahmad Raza",
      "userId": "14303897828174014060"
     },
     "user_tz": -300
    },
    "id": "yOw3ZsGKrnMP",
    "outputId": "c0f09cd9-83bf-448f-b846-6ef69708298b"
   },
   "outputs": [
    {
     "name": "stdout",
     "output_type": "stream",
     "text": [
      "2/2 [==============================] - 0s 11ms/step - loss: 0.7207 - accuracy: 0.7500\n",
      "0: Testing Score: 75.0, Loss: 0.7206766605377197\n",
      "2/2 [==============================] - 0s 11ms/step - loss: 0.8087 - accuracy: 0.7273\n",
      "1: Testing Score: 72.72727489471436, Loss: 0.8086675405502319\n",
      "2/2 [==============================] - 0s 11ms/step - loss: 0.9013 - accuracy: 0.7045\n",
      "2: Testing Score: 70.45454382896423, Loss: 0.9012613892555237\n",
      "2/2 [==============================] - 0s 12ms/step - loss: 0.7819 - accuracy: 0.7500\n",
      "3: Testing Score: 75.0, Loss: 0.7819459438323975\n",
      "2/2 [==============================] - 0s 10ms/step - loss: 0.7796 - accuracy: 0.7273\n",
      "4: Testing Score: 72.72727489471436, Loss: 0.7795547842979431\n",
      "2/2 [==============================] - 0s 13ms/step - loss: 0.7633 - accuracy: 0.7500\n",
      "5: Testing Score: 75.0, Loss: 0.7632985711097717\n",
      "2/2 [==============================] - 0s 11ms/step - loss: 0.7389 - accuracy: 0.7500\n",
      "6: Testing Score: 75.0, Loss: 0.7388763427734375\n",
      "2/2 [==============================] - 0s 10ms/step - loss: 0.8117 - accuracy: 0.7500\n",
      "7: Testing Score: 75.0, Loss: 0.8117219805717468\n",
      "2/2 [==============================] - 0s 11ms/step - loss: 0.7850 - accuracy: 0.7500\n",
      "8: Testing Score: 75.0, Loss: 0.7850360870361328\n",
      "2/2 [==============================] - 0s 11ms/step - loss: 0.7574 - accuracy: 0.7500\n",
      "9: Testing Score: 75.0, Loss: 0.7573883533477783\n",
      "2/2 [==============================] - 0s 13ms/step - loss: 0.8849 - accuracy: 0.7045\n",
      "10: Testing Score: 70.45454382896423, Loss: 0.8849029541015625\n"
     ]
    }
   ],
   "source": [
    "\n",
    "i = 0\n",
    "precission, recall, f1_, test_acc, test_loss = ([] for i in range(5))\n",
    "while i <= epochs:\n",
    "   \n",
    "    if i%1 == 0:\n",
    "        model.load_weights('./models/model' + str(i) + '.hd5')\n",
    "        predict_x=model.predict(X_test) \n",
    "        yp       =np.argmax(predict_x,axis=1) \n",
    "        #yp = model.predict_classes(X_test)\n",
    "        ya = [np.where(p==1)[0][0] for p in Y_test]\n",
    "\n",
    "        score = model.evaluate(X_test, Y_test)\n",
    "        pre = precision_score(ya, yp, average='weighted')\n",
    "        rec = recall_score(ya, yp, average='macro')\n",
    "        f1 = f1_score(ya, yp, average='micro') \n",
    "        test_acc.append(score[1])\n",
    "        test_loss.append(score[0])\n",
    "        precission.append(pre)\n",
    "        recall.append(recall)\n",
    "        f1_.append(f1)\n",
    "        print( str(i)+': Testing Score: '+str(score[1]*100) + ', Loss: ' + str(score[0]))\n",
    "    i = i + 1"
   ]
  },
  {
   "cell_type": "code",
   "execution_count": 219,
   "metadata": {
    "colab": {
     "base_uri": "https://localhost:8080/"
    },
    "executionInfo": {
     "elapsed": 532,
     "status": "ok",
     "timestamp": 1655680283601,
     "user": {
      "displayName": "Ahmad Raza",
      "userId": "14303897828174014060"
     },
     "user_tz": -300
    },
    "id": "MS2m-7YX4C4c",
    "outputId": "c1ce167c-b2d1-414a-de6e-377dac2ee1d8"
   },
   "outputs": [
    {
     "name": "stdout",
     "output_type": "stream",
     "text": [
      "Acc: 0.8181818127632141 at 0\n",
      "loss: 0.6473844647407532 at 10\n"
     ]
    }
   ],
   "source": [
    "print('Acc: ' + str(max(test_acc))+ ' at '+ str(np.argmax(test_acc)) )\n",
    "print('loss: '+ str(min(test_loss))+ ' at '+ str(np.argmax(test_loss)) )"
   ]
  },
  {
   "cell_type": "code",
   "execution_count": 210,
   "metadata": {
    "colab": {
     "base_uri": "https://localhost:8080/"
    },
    "executionInfo": {
     "elapsed": 606,
     "status": "ok",
     "timestamp": 1655680120921,
     "user": {
      "displayName": "Ahmad Raza",
      "userId": "14303897828174014060"
     },
     "user_tz": -300
    },
    "id": "AfdIagEae4WB",
    "outputId": "6183d61e-a240-4b52-89f6-ca48ab347aa9"
   },
   "outputs": [
    {
     "data": {
      "text/plain": [
       "<tensorflow.python.training.tracking.util.CheckpointLoadStatus at 0x7f200f75dcd0>"
      ]
     },
     "execution_count": 210,
     "metadata": {},
     "output_type": "execute_result"
    }
   ],
   "source": [
    "model.load_weights('./models/model' + str(10) + '.hd5')"
   ]
  },
  {
   "cell_type": "code",
   "execution_count": 211,
   "metadata": {
    "colab": {
     "base_uri": "https://localhost:8080/"
    },
    "executionInfo": {
     "elapsed": 23,
     "status": "ok",
     "timestamp": 1655680124615,
     "user": {
      "displayName": "Ahmad Raza",
      "userId": "14303897828174014060"
     },
     "user_tz": -300
    },
    "id": "0Mgr5H3RfD5r",
    "outputId": "5cfe8c50-953d-453b-be43-19e9a6cd8f73"
   },
   "outputs": [
    {
     "name": "stdout",
     "output_type": "stream",
     "text": [
      "2/2 [==============================] - 0s 11ms/step - loss: 0.6131 - accuracy: 0.8409\n"
     ]
    },
    {
     "data": {
      "text/plain": [
       "[0.6131115555763245, 0.8409090638160706]"
      ]
     },
     "execution_count": 211,
     "metadata": {},
     "output_type": "execute_result"
    }
   ],
   "source": [
    "model.evaluate(X_test, Y_test)"
   ]
  },
  {
   "cell_type": "markdown",
   "metadata": {},
   "source": [
    "# Save Model For Later Use"
   ]
  },
  {
   "cell_type": "code",
   "execution_count": 212,
   "metadata": {
    "colab": {
     "base_uri": "https://localhost:8080/"
    },
    "executionInfo": {
     "elapsed": 3627,
     "status": "ok",
     "timestamp": 1655680144687,
     "user": {
      "displayName": "Ahmad Raza",
      "userId": "14303897828174014060"
     },
     "user_tz": -300
    },
    "id": "Kl92rrfUuJ5T",
    "outputId": "271cdfb4-1fde-4256-fdbd-52c0c3b9b8ea"
   },
   "outputs": [
    {
     "name": "stdout",
     "output_type": "stream",
     "text": [
      "INFO:tensorflow:Assets written to: model_palpebral_84_09.hd5/assets\n"
     ]
    }
   ],
   "source": [
    "model.save('model_palpebral_84_09.hd5')"
   ]
  },
  {
   "cell_type": "code",
   "execution_count": null,
   "metadata": {
    "id": "V89sdupFuKK4"
   },
   "outputs": [],
   "source": [
    "print('Acc: ' + str(max(test_acc))+ ' at '+ str(np.argmax(test_acc)) )\n",
    "print('loss: '+ str(min(test_loss))+ ' at '+ str(np.argmax(test_loss)) )"
   ]
  },
  {
   "cell_type": "code",
   "execution_count": 249,
   "metadata": {
    "colab": {
     "base_uri": "https://localhost:8080/"
    },
    "executionInfo": {
     "elapsed": 3798,
     "status": "ok",
     "timestamp": 1655680991732,
     "user": {
      "displayName": "Ahmad Raza",
      "userId": "14303897828174014060"
     },
     "user_tz": -300
    },
    "id": "VnQPproU15d7",
    "outputId": "530f9231-b599-40ea-ca7d-f38b7f5c1644"
   },
   "outputs": [
    {
     "name": "stdout",
     "output_type": "stream",
     "text": [
      "  adding: model_org_84_09.hd5/ (stored 0%)\n",
      "  adding: model_org_84_09.hd5/keras_metadata.pb (deflated 93%)\n",
      "  adding: model_org_84_09.hd5/variables/ (stored 0%)\n",
      "  adding: model_org_84_09.hd5/variables/variables.data-00000-of-00001 (deflated 9%)\n",
      "  adding: model_org_84_09.hd5/variables/variables.index (deflated 65%)\n",
      "  adding: model_org_84_09.hd5/assets/ (stored 0%)\n",
      "  adding: model_org_84_09.hd5/saved_model.pb (deflated 89%)\n"
     ]
    }
   ],
   "source": [
    "!zip -r model_org_84_09.zip model_org_84_09.hd5/"
   ]
  },
  {
   "cell_type": "code",
   "execution_count": null,
   "metadata": {},
   "outputs": [],
   "source": [
    "!mv model_org_84_09.zip /content/gdrive/MyDrive/"
   ]
  },
  {
   "cell_type": "code",
   "execution_count": null,
   "metadata": {},
   "outputs": [],
   "source": [
    "from tensorflow.keras.models import load_model\n",
    "\n",
    "model1 = load_model('model_org_84_09.hd5')"
   ]
  },
  {
   "cell_type": "code",
   "execution_count": null,
   "metadata": {},
   "outputs": [],
   "source": [
    "model1.evaluate(X_test, Y_test)"
   ]
  }
 ],
 "metadata": {
  "accelerator": "GPU",
  "colab": {
   "collapsed_sections": [
    "BgB_PrLckqkG",
    "bRIQzFWL2ngL",
    "sStbGHHs2_os",
    "FwrDeJCwB55V",
    "afUlH30QB3b5",
    "mkDtbSBsUqzY",
    "q5Z7zNKQYzGY",
    "YHB3hq7UXtLu"
   ],
   "name": "cnn_aug_org.ipynb",
   "provenance": []
  },
  "kernelspec": {
   "display_name": "Python 3 (ipykernel)",
   "language": "python",
   "name": "python3"
  },
  "language_info": {
   "codemirror_mode": {
    "name": "ipython",
    "version": 3
   },
   "file_extension": ".py",
   "mimetype": "text/x-python",
   "name": "python",
   "nbconvert_exporter": "python",
   "pygments_lexer": "ipython3",
   "version": "3.7.9"
  }
 },
 "nbformat": 4,
 "nbformat_minor": 1
}
