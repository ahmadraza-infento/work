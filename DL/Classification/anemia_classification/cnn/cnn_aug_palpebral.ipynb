{
 "cells": [
  {
   "cell_type": "code",
   "execution_count": 1,
   "metadata": {
    "executionInfo": {
     "elapsed": 3192,
     "status": "ok",
     "timestamp": 1655329327597,
     "user": {
      "displayName": "Ahmad Raza",
      "userId": "14303897828174014060"
     },
     "user_tz": -300
    },
    "id": "kkVAItyKdKVu"
   },
   "outputs": [],
   "source": [
    "import os\n",
    "import cv2\n",
    "import keras \n",
    "import numpy as np\n",
    "import pandas as pd\n",
    "from sklearn.model_selection import train_test_split\n",
    "from keras import regularizers\n",
    "import pickle\n",
    "import keras \n",
    "from keras import backend as K\n",
    "from keras.layers import Dropout\n",
    "from keras.models import Sequential\n",
    "from keras.layers import Activation, MaxPooling2D\n",
    "from keras.layers.core import Dense, Flatten\n",
    "from keras.metrics import categorical_crossentropy\n",
    "from keras.preprocessing.image import ImageDataGenerator\n",
    "from keras.layers.convolutional import *\n",
    "from sklearn.metrics import confusion_matrix\n",
    "from keras.constraints import max_norm\n",
    "from keras import optimizers\n",
    "from sklearn.metrics import precision_score, recall_score, f1_score\n",
    "from keras.callbacks import ReduceLROnPlateau"
   ]
  },
  {
   "cell_type": "code",
   "execution_count": 2,
   "metadata": {
    "colab": {
     "base_uri": "https://localhost:8080/"
    },
    "executionInfo": {
     "elapsed": 26515,
     "status": "ok",
     "timestamp": 1655329356919,
     "user": {
      "displayName": "Ahmad Raza",
      "userId": "14303897828174014060"
     },
     "user_tz": -300
    },
    "id": "N9S9rv9bqC6_",
    "outputId": "a72d0b2f-1185-414b-aed9-92d163b97abd"
   },
   "outputs": [
    {
     "name": "stdout",
     "output_type": "stream",
     "text": [
      "Mounted at /content/gdrive\n"
     ]
    }
   ],
   "source": [
    "# To mount drive, if you are at colab\n",
    "from google.colab import drive\n",
    "drive.mount('/content/gdrive', force_remount=True)"
   ]
  },
  {
   "cell_type": "markdown",
   "metadata": {
    "id": "PtLqo1dqDc4O"
   },
   "source": [
    "# Import Data"
   ]
  },
  {
   "cell_type": "code",
   "execution_count": 3,
   "metadata": {
    "executionInfo": {
     "elapsed": 376,
     "status": "ok",
     "timestamp": 1655329363444,
     "user": {
      "displayName": "Ahmad Raza",
      "userId": "14303897828174014060"
     },
     "user_tz": -300
    },
    "id": "z3QQVxjrdF0I"
   },
   "outputs": [],
   "source": [
    "data_dir     = '/content/gdrive/MyDrive/dataset anemia/'\n",
    "india_folder = os.path.join(data_dir, 'India')\n",
    "italy_folder = os.path.join(data_dir, 'Italy')"
   ]
  },
  {
   "cell_type": "code",
   "execution_count": 45,
   "metadata": {
    "colab": {
     "base_uri": "https://localhost:8080/"
    },
    "executionInfo": {
     "elapsed": 364,
     "status": "ok",
     "timestamp": 1655330650021,
     "user": {
      "displayName": "Ahmad Raza",
      "userId": "14303897828174014060"
     },
     "user_tz": -300
    },
    "id": "TFEqZdTPTPUb",
    "outputId": "294d57da-982c-4ed8-8673-356b8454a342"
   },
   "outputs": [
    {
     "name": "stdout",
     "output_type": "stream",
     "text": [
      "Looking into ->  India\n",
      "/content/gdrive/MyDrive/dataset anemia/India  not found ->  ['.DS_Store', 'IndiaRd.xlsx']\n",
      "Looking into ->  Italy\n",
      "/content/gdrive/MyDrive/dataset anemia/Italy  not found ->  ['.DS_Store', 'Italyrd.xlsx']\n"
     ]
    }
   ],
   "source": [
    "def should_use_img(img_name, img_type):\n",
    "    if img_name.split(\".\")[1] in [\"jpg\", \"png\"]:\n",
    "        img_name = img_name.split(\".\")[0]\n",
    "        \n",
    "        if img_type == \"\":\n",
    "            img_types   = [\"forniceal\", \"forniceal_palpebral\", \"palpebral\"]\n",
    "            for _type in img_types:\n",
    "                if img_name.endswith(_type):\n",
    "                    return False\n",
    "            return True\n",
    "        elif img_type == \"palpebral\":\n",
    "            img_name = img_name.split(\".\")[0]\n",
    "            if img_name.endswith(\"forniceal_palpebral\"):\n",
    "                    return False\n",
    "            return True if img_name.endswith(img_type) else False\n",
    "            \n",
    "        else:\n",
    "            return True if img_name.endswith(img_type)  else False\n",
    "    \n",
    "    else:\n",
    "        return False\n",
    "        \n",
    "\n",
    "img_to_use  = \"palpebral\"\n",
    "img_files   = {\"India\":[], \"Italy\":[]}\n",
    "\n",
    "for folder in ['India', 'Italy']:\n",
    "    img_folder = os.path.join(data_dir, folder)\n",
    "    print(\"Looking into -> \", folder)\n",
    "    for root, dirs, files in os.walk(img_folder):\n",
    "        flag = False\n",
    "        for file in files:\n",
    "            if should_use_img(file, img_to_use):\n",
    "                cls = root.split(\"\\\\\")[-1]\n",
    "                img_files[folder].append( ( os.path.join(root, file), cls) )\n",
    "                flag = True\n",
    "                break\n",
    "        if flag is False:\n",
    "            print(root, \" not found -> \", files)\n"
   ]
  },
  {
   "cell_type": "code",
   "execution_count": 46,
   "metadata": {
    "colab": {
     "base_uri": "https://localhost:8080/"
    },
    "executionInfo": {
     "elapsed": 379,
     "status": "ok",
     "timestamp": 1655330658800,
     "user": {
      "displayName": "Ahmad Raza",
      "userId": "14303897828174014060"
     },
     "user_tz": -300
    },
    "id": "vWnmQph2TPiI",
    "outputId": "b31f6ffb-296d-4219-c7a9-bcde0edfc428"
   },
   "outputs": [
    {
     "name": "stdout",
     "output_type": "stream",
     "text": [
      "items for India -> 95\n",
      "items for Italy -> 123\n"
     ]
    }
   ],
   "source": [
    "for key, items in img_files.items():\n",
    "    print(f\"items for {key} -> {len(items)}\")"
   ]
  },
  {
   "cell_type": "code",
   "execution_count": 47,
   "metadata": {
    "colab": {
     "base_uri": "https://localhost:8080/"
    },
    "executionInfo": {
     "elapsed": 417,
     "status": "ok",
     "timestamp": 1655330662384,
     "user": {
      "displayName": "Ahmad Raza",
      "userId": "14303897828174014060"
     },
     "user_tz": -300
    },
    "id": "LPF6FW0Obm6J",
    "outputId": "2755d120-1eff-41be-c282-24a14187d62d"
   },
   "outputs": [
    {
     "data": {
      "text/plain": [
       "('/content/gdrive/MyDrive/dataset anemia/India/95/20200318_130225_palpebral.png',\n",
       " '/content/gdrive/MyDrive/dataset anemia/India/95')"
      ]
     },
     "execution_count": 47,
     "metadata": {},
     "output_type": "execute_result"
    }
   ],
   "source": [
    "img_files[\"India\"][0]"
   ]
  },
  {
   "cell_type": "code",
   "execution_count": 48,
   "metadata": {
    "executionInfo": {
     "elapsed": 4,
     "status": "ok",
     "timestamp": 1655330662912,
     "user": {
      "displayName": "Ahmad Raza",
      "userId": "14303897828174014060"
     },
     "user_tz": -300
    },
    "id": "QAGUxccMbsIn"
   },
   "outputs": [],
   "source": [
    "data_dir = '/content/gdrive/MyDrive/dataset anemia/'\n",
    "file1    = data_dir+'India/IndiaRd.xlsx'\n",
    "file2    = data_dir+'Italy/Italyrd.xlsx'"
   ]
  },
  {
   "cell_type": "code",
   "execution_count": 49,
   "metadata": {
    "colab": {
     "base_uri": "https://localhost:8080/"
    },
    "executionInfo": {
     "elapsed": 1018,
     "status": "ok",
     "timestamp": 1655330664775,
     "user": {
      "displayName": "Ahmad Raza",
      "userId": "14303897828174014060"
     },
     "user_tz": -300
    },
    "id": "DmQYBZoJb2rz",
    "outputId": "3978ccc8-aebb-4a72-bce2-decb25a4b076"
   },
   "outputs": [
    {
     "name": "stdout",
     "output_type": "stream",
     "text": [
      "{'No Anemia': 0, 'Anemia': 1}\n"
     ]
    }
   ],
   "source": [
    "\n",
    "labels = {}\n",
    "\n",
    "d1 = pd.read_excel(file1)\n",
    "d1[\"Anemia\"] = d1[\"Note\"]\n",
    "d1 = d1[[\"Number\", \"Anemia\" ]]\n",
    "d1.replace(\"No anemia\", \"No Anemia\", inplace=True)\n",
    "\n",
    "d2 = pd.read_excel(file2)[[\"Number\", \"Anemia\" ]]\n",
    "d2.replace(\"No anemia\", \"No Anemia\", inplace=True)\n",
    "\n",
    "unique_values   = list(d1['Anemia'].unique())\n",
    "enum            = {val:i for i, val in enumerate(unique_values)} \n",
    "print(enum)\n",
    "\n",
    "d1['Anemia'].replace(enum, inplace=True)\n",
    "d2['Anemia'].replace(enum, inplace=True)\n",
    "\n",
    "labels[\"India\"] = { row[\"Number\"]:row[\"Anemia\"] for index, row in d1.iterrows() }\n",
    "labels[\"Italy\"] = { row[\"Number\"]:row[\"Anemia\"] for index, row in d2.iterrows() }\n"
   ]
  },
  {
   "cell_type": "markdown",
   "metadata": {
    "id": "q9qVhP9mcGD6"
   },
   "source": [
    "# Read Images"
   ]
  },
  {
   "cell_type": "code",
   "execution_count": 59,
   "metadata": {
    "executionInfo": {
     "elapsed": 3558,
     "status": "ok",
     "timestamp": 1655330731512,
     "user": {
      "displayName": "Ahmad Raza",
      "userId": "14303897828174014060"
     },
     "user_tz": -300
    },
    "id": "p5GKKxq6cEpR"
   },
   "outputs": [],
   "source": [
    "\n",
    "X = []\n",
    "y = []\n",
    "\n",
    "\n",
    "for key, items in img_files.items():\n",
    "    for item in items:\n",
    "        img_path, cls = item\n",
    "        cls           = cls.split(\"/\")[-1]\n",
    "        img           = cv2.imread(img_path)\n",
    "        img           = cv2.resize(img, (64, 64))\n",
    "        img           = cv2.cvtColor(img, cv2.COLOR_BGR2GRAY)\n",
    "        kernel        = np.array([[-1,-1,-1], \n",
    "                                    [-1, 9,-1],\n",
    "                                    [-1,-1,-1]])\n",
    "        sharpened     = cv2.filter2D(img, -1, kernel)\n",
    "        img           = cv2.GaussianBlur(sharpened, (5, 5), 0)\n",
    "        img           = img.reshape(64, 64, 1)\n",
    "        lbl           = labels[key][int(cls)]\n",
    "        \n",
    "        X.append(img)\n",
    "        y.append(lbl)\n",
    "        "
   ]
  },
  {
   "cell_type": "code",
   "execution_count": 60,
   "metadata": {
    "colab": {
     "base_uri": "https://localhost:8080/"
    },
    "executionInfo": {
     "elapsed": 874,
     "status": "ok",
     "timestamp": 1655330736604,
     "user": {
      "displayName": "Ahmad Raza",
      "userId": "14303897828174014060"
     },
     "user_tz": -300
    },
    "id": "AECjNyTbdL2Y",
    "outputId": "b36d3f78-b6c7-417e-a76b-db574815d918"
   },
   "outputs": [
    {
     "name": "stdout",
     "output_type": "stream",
     "text": [
      "len(X) -> 218\n",
      "len(y) -> 218\n"
     ]
    }
   ],
   "source": [
    "print(f\"len(X) -> {len(X)}\")\n",
    "print(f\"len(y) -> {len(y)}\")"
   ]
  },
  {
   "cell_type": "code",
   "execution_count": 61,
   "metadata": {
    "executionInfo": {
     "elapsed": 6,
     "status": "ok",
     "timestamp": 1655330739143,
     "user": {
      "displayName": "Ahmad Raza",
      "userId": "14303897828174014060"
     },
     "user_tz": -300
    },
    "id": "Isp0G941dMpQ"
   },
   "outputs": [],
   "source": [
    "y = [0 if i == 0 else 1 for i in y]"
   ]
  },
  {
   "cell_type": "code",
   "execution_count": 62,
   "metadata": {
    "colab": {
     "base_uri": "https://localhost:8080/"
    },
    "executionInfo": {
     "elapsed": 23,
     "status": "ok",
     "timestamp": 1655330740803,
     "user": {
      "displayName": "Ahmad Raza",
      "userId": "14303897828174014060"
     },
     "user_tz": -300
    },
    "id": "50AQiEYLdM5b",
    "outputId": "0398bcb7-33ce-4cfb-fa20-6127e147c3b3"
   },
   "outputs": [
    {
     "data": {
      "text/plain": [
       "(218, 64, 64, 1)"
      ]
     },
     "execution_count": 62,
     "metadata": {},
     "output_type": "execute_result"
    }
   ],
   "source": [
    "X = np.array(X)\n",
    "X.shape"
   ]
  },
  {
   "cell_type": "code",
   "execution_count": 63,
   "metadata": {
    "colab": {
     "base_uri": "https://localhost:8080/"
    },
    "executionInfo": {
     "elapsed": 724,
     "status": "ok",
     "timestamp": 1655330743527,
     "user": {
      "displayName": "Ahmad Raza",
      "userId": "14303897828174014060"
     },
     "user_tz": -300
    },
    "id": "X6k7p9GedXvu",
    "outputId": "7030ab56-a27b-4a9a-fc53-480b9f84dae3"
   },
   "outputs": [
    {
     "data": {
      "text/plain": [
       "{0, 1}"
      ]
     },
     "execution_count": 63,
     "metadata": {},
     "output_type": "execute_result"
    }
   ],
   "source": [
    "set(y)"
   ]
  },
  {
   "cell_type": "code",
   "execution_count": 64,
   "metadata": {
    "colab": {
     "base_uri": "https://localhost:8080/"
    },
    "executionInfo": {
     "elapsed": 9,
     "status": "ok",
     "timestamp": 1655330744108,
     "user": {
      "displayName": "Ahmad Raza",
      "userId": "14303897828174014060"
     },
     "user_tz": -300
    },
    "id": "nsHk9WQrdX8d",
    "outputId": "126b679b-6112-4ec3-8952-1d2a97539df7"
   },
   "outputs": [
    {
     "data": {
      "text/plain": [
       "2"
      ]
     },
     "execution_count": 64,
     "metadata": {},
     "output_type": "execute_result"
    }
   ],
   "source": [
    "number_classes = len(set(y))\n",
    "number_classes"
   ]
  },
  {
   "cell_type": "code",
   "execution_count": 65,
   "metadata": {
    "executionInfo": {
     "elapsed": 11,
     "status": "ok",
     "timestamp": 1655330744703,
     "user": {
      "displayName": "Ahmad Raza",
      "userId": "14303897828174014060"
     },
     "user_tz": -300
    },
    "id": "oPVDaurddYGA"
   },
   "outputs": [],
   "source": [
    "X_train, X_test, Y_train, Y_test = train_test_split(X, y, train_size=0.8, random_state=0)"
   ]
  },
  {
   "cell_type": "markdown",
   "metadata": {
    "id": "4Ojeh0wj7KQa"
   },
   "source": [
    "# Augmentation"
   ]
  },
  {
   "cell_type": "code",
   "execution_count": 66,
   "metadata": {
    "colab": {
     "base_uri": "https://localhost:8080/"
    },
    "executionInfo": {
     "elapsed": 350,
     "status": "ok",
     "timestamp": 1655330751154,
     "user": {
      "displayName": "Ahmad Raza",
      "userId": "14303897828174014060"
     },
     "user_tz": -300
    },
    "id": "C8D14-HxVoti",
    "outputId": "6454c810-7448-422f-a63f-2509b758ae35"
   },
   "outputs": [
    {
     "data": {
      "text/plain": [
       "(174, 64, 64, 1)"
      ]
     },
     "execution_count": 66,
     "metadata": {},
     "output_type": "execute_result"
    }
   ],
   "source": [
    "X_train.shape"
   ]
  },
  {
   "cell_type": "code",
   "execution_count": 67,
   "metadata": {
    "executionInfo": {
     "elapsed": 357,
     "status": "ok",
     "timestamp": 1655330757940,
     "user": {
      "displayName": "Ahmad Raza",
      "userId": "14303897828174014060"
     },
     "user_tz": -300
    },
    "id": "_Sj_qXwux2hm"
   },
   "outputs": [],
   "source": [
    "characters  = X_train\n",
    "labels      = np.array(Y_train.copy()) "
   ]
  },
  {
   "cell_type": "code",
   "execution_count": 68,
   "metadata": {
    "executionInfo": {
     "elapsed": 578,
     "status": "ok",
     "timestamp": 1655330766882,
     "user": {
      "displayName": "Ahmad Raza",
      "userId": "14303897828174014060"
     },
     "user_tz": -300
    },
    "id": "uk9I3WKw7I6P"
   },
   "outputs": [],
   "source": [
    "datagen = ImageDataGenerator( width_shift_range=[-200,200],\n",
    "    rotation_range=30,\n",
    "    zoom_range=0.15,\n",
    "    height_shift_range=0.2,\n",
    "    shear_range=0.15,\n",
    "    horizontal_flip=True,\n",
    "    fill_mode=\"nearest\")\n",
    "\n"
   ]
  },
  {
   "cell_type": "code",
   "execution_count": 69,
   "metadata": {
    "executionInfo": {
     "elapsed": 4,
     "status": "ok",
     "timestamp": 1655330768481,
     "user": {
      "displayName": "Ahmad Raza",
      "userId": "14303897828174014060"
     },
     "user_tz": -300
    },
    "id": "xtp2KIca75Zw"
   },
   "outputs": [],
   "source": [
    "iterator = datagen.flow(characters, labels)"
   ]
  },
  {
   "cell_type": "code",
   "execution_count": 70,
   "metadata": {
    "colab": {
     "base_uri": "https://localhost:8080/"
    },
    "executionInfo": {
     "elapsed": 13,
     "status": "ok",
     "timestamp": 1655330770158,
     "user": {
      "displayName": "Ahmad Raza",
      "userId": "14303897828174014060"
     },
     "user_tz": -300
    },
    "id": "7KCecID7HZUk",
    "outputId": "9e3ee87d-bab9-48fa-e1b7-c61181f0cec2"
   },
   "outputs": [
    {
     "data": {
      "text/plain": [
       "{0, 1}"
      ]
     },
     "execution_count": 70,
     "metadata": {},
     "output_type": "execute_result"
    }
   ],
   "source": [
    "set(labels)"
   ]
  },
  {
   "cell_type": "code",
   "execution_count": 71,
   "metadata": {
    "colab": {
     "base_uri": "https://localhost:8080/"
    },
    "executionInfo": {
     "elapsed": 554,
     "status": "ok",
     "timestamp": 1655330775611,
     "user": {
      "displayName": "Ahmad Raza",
      "userId": "14303897828174014060"
     },
     "user_tz": -300
    },
    "id": "pJiUu4QxHZsL",
    "outputId": "450b2567-1b2d-4dd8-bda7-a9cce62351f3"
   },
   "outputs": [
    {
     "data": {
      "text/plain": [
       "[(0, 102), (1, 72)]"
      ]
     },
     "execution_count": 71,
     "metadata": {},
     "output_type": "execute_result"
    }
   ],
   "source": [
    "label_counts = [(lbl, list(labels).count(lbl) ) for lbl in set(labels)]\n",
    "label_counts"
   ]
  },
  {
   "cell_type": "code",
   "execution_count": 72,
   "metadata": {
    "executionInfo": {
     "elapsed": 1398,
     "status": "ok",
     "timestamp": 1655330789356,
     "user": {
      "displayName": "Ahmad Raza",
      "userId": "14303897828174014060"
     },
     "user_tz": -300
    },
    "id": "dYZwqibvH_Rj"
   },
   "outputs": [],
   "source": [
    "augment_lbls = [0, 1]\n",
    "NUM = 1500\n",
    "sample_count = {item:0 for item in augment_lbls}\n",
    "x_aug = []\n",
    "y_aug = []\n",
    "while True:\n",
    "    x_tmp, y_tmp = iterator.next()\n",
    "    for x, y in zip(x_tmp, y_tmp):\n",
    "    if y in augment_lbls:\n",
    "        if sample_count[y] < NUM:\n",
    "            x_aug.append(x)\n",
    "            y_aug.append(y)\n",
    "            sample_count[y] += 1\n",
    "    if sum([sample_count[key] >= NUM for key in sample_count.keys()]) == len(sample_count.keys()):\n",
    "    break"
   ]
  },
  {
   "cell_type": "code",
   "execution_count": 73,
   "metadata": {
    "colab": {
     "base_uri": "https://localhost:8080/"
    },
    "executionInfo": {
     "elapsed": 753,
     "status": "ok",
     "timestamp": 1655330794538,
     "user": {
      "displayName": "Ahmad Raza",
      "userId": "14303897828174014060"
     },
     "user_tz": -300
    },
    "id": "LwNsQis5HeAX",
    "outputId": "4f1a0bf0-deae-4c4a-91d8-7b004e442401"
   },
   "outputs": [
    {
     "data": {
      "text/plain": [
       "{0, 1}"
      ]
     },
     "execution_count": 73,
     "metadata": {},
     "output_type": "execute_result"
    }
   ],
   "source": [
    "set(y_aug)"
   ]
  },
  {
   "cell_type": "code",
   "execution_count": 74,
   "metadata": {
    "colab": {
     "base_uri": "https://localhost:8080/"
    },
    "executionInfo": {
     "elapsed": 18,
     "status": "ok",
     "timestamp": 1655330797458,
     "user": {
      "displayName": "Ahmad Raza",
      "userId": "14303897828174014060"
     },
     "user_tz": -300
    },
    "id": "zQMHnRqFHnmK",
    "outputId": "e7168fb1-fee4-4461-cec4-6e52289f7897"
   },
   "outputs": [
    {
     "data": {
      "text/plain": [
       "[(0, 1000), (1, 1000)]"
      ]
     },
     "execution_count": 74,
     "metadata": {},
     "output_type": "execute_result"
    }
   ],
   "source": [
    "label_counts = [(lbl, y_aug.count(lbl) ) for lbl in set(y_aug)]\n",
    "label_counts"
   ]
  },
  {
   "cell_type": "code",
   "execution_count": 75,
   "metadata": {
    "colab": {
     "base_uri": "https://localhost:8080/"
    },
    "executionInfo": {
     "elapsed": 15,
     "status": "ok",
     "timestamp": 1655330800774,
     "user": {
      "displayName": "Ahmad Raza",
      "userId": "14303897828174014060"
     },
     "user_tz": -300
    },
    "id": "9o_kCnOdHn3C",
    "outputId": "64a3ade8-9962-4315-ce9c-4efea1c46088"
   },
   "outputs": [
    {
     "data": {
      "text/plain": [
       "(2000, 64, 64, 1)"
      ]
     },
     "execution_count": 75,
     "metadata": {},
     "output_type": "execute_result"
    }
   ],
   "source": [
    "np.array(x_aug).shape"
   ]
  },
  {
   "cell_type": "code",
   "execution_count": 27,
   "metadata": {
    "colab": {
     "base_uri": "https://localhost:8080/"
    },
    "executionInfo": {
     "elapsed": 535,
     "status": "ok",
     "timestamp": 1655329914409,
     "user": {
      "displayName": "Ahmad Raza",
      "userId": "14303897828174014060"
     },
     "user_tz": -300
    },
    "id": "KxmNa6VEHuE6",
    "outputId": "4905eefb-9569-4d19-f6c1-31f05b08b170"
   },
   "outputs": [
    {
     "data": {
      "text/plain": [
       "numpy.ndarray"
      ]
     },
     "execution_count": 27,
     "metadata": {},
     "output_type": "execute_result"
    }
   ],
   "source": [
    "type(characters)"
   ]
  },
  {
   "cell_type": "code",
   "execution_count": 76,
   "metadata": {
    "colab": {
     "base_uri": "https://localhost:8080/"
    },
    "executionInfo": {
     "elapsed": 507,
     "status": "ok",
     "timestamp": 1655330807826,
     "user": {
      "displayName": "Ahmad Raza",
      "userId": "14303897828174014060"
     },
     "user_tz": -300
    },
    "id": "XkqFHIJ-nq-J",
    "outputId": "a78e6037-7d61-4e34-8c0f-44b3bf9b3e65"
   },
   "outputs": [
    {
     "data": {
      "text/plain": [
       "(174, 64, 64, 1)"
      ]
     },
     "execution_count": 76,
     "metadata": {},
     "output_type": "execute_result"
    }
   ],
   "source": [
    "characters.shape"
   ]
  },
  {
   "cell_type": "code",
   "execution_count": 77,
   "metadata": {
    "colab": {
     "base_uri": "https://localhost:8080/"
    },
    "executionInfo": {
     "elapsed": 379,
     "status": "ok",
     "timestamp": 1655330812262,
     "user": {
      "displayName": "Ahmad Raza",
      "userId": "14303897828174014060"
     },
     "user_tz": -300
    },
    "id": "3uGHd_linl34",
    "outputId": "53af1c93-c07b-484f-c639-cfb7af1fd785"
   },
   "outputs": [
    {
     "data": {
      "text/plain": [
       "(2174, 64, 64, 1)"
      ]
     },
     "execution_count": 77,
     "metadata": {},
     "output_type": "execute_result"
    }
   ],
   "source": [
    "characters = list(characters)\n",
    "characters.extend(x_aug)\n",
    "characters = np.array(characters)\n",
    "characters.shape"
   ]
  },
  {
   "cell_type": "code",
   "execution_count": 78,
   "metadata": {
    "colab": {
     "base_uri": "https://localhost:8080/"
    },
    "executionInfo": {
     "elapsed": 485,
     "status": "ok",
     "timestamp": 1655330817459,
     "user": {
      "displayName": "Ahmad Raza",
      "userId": "14303897828174014060"
     },
     "user_tz": -300
    },
    "id": "JaI_zws3nmIZ",
    "outputId": "1eadfe93-1f17-4763-ee89-93cc157d064f"
   },
   "outputs": [
    {
     "data": {
      "text/plain": [
       "2174"
      ]
     },
     "execution_count": 78,
     "metadata": {},
     "output_type": "execute_result"
    }
   ],
   "source": [
    "labels = list(labels)\n",
    "labels.extend(y_aug)\n",
    "len(labels)"
   ]
  },
  {
   "cell_type": "code",
   "execution_count": 79,
   "metadata": {
    "colab": {
     "base_uri": "https://localhost:8080/"
    },
    "executionInfo": {
     "elapsed": 510,
     "status": "ok",
     "timestamp": 1655330827694,
     "user": {
      "displayName": "Ahmad Raza",
      "userId": "14303897828174014060"
     },
     "user_tz": -300
    },
    "id": "rcqKEy9oosvp",
    "outputId": "5668d0ed-635a-4fae-919e-94f21290c01b"
   },
   "outputs": [
    {
     "data": {
      "text/plain": [
       "[(0, 1102), (1, 1072)]"
      ]
     },
     "execution_count": 79,
     "metadata": {},
     "output_type": "execute_result"
    }
   ],
   "source": [
    "label_counts = [(lbl, labels.count(lbl) ) for lbl in set(labels)]\n",
    "label_counts"
   ]
  },
  {
   "cell_type": "markdown",
   "metadata": {
    "id": "fxY-ozrqEGJW"
   },
   "source": [
    "# Data Spliting"
   ]
  },
  {
   "cell_type": "code",
   "execution_count": 80,
   "metadata": {
    "colab": {
     "base_uri": "https://localhost:8080/"
    },
    "executionInfo": {
     "elapsed": 502,
     "status": "ok",
     "timestamp": 1655330834284,
     "user": {
      "displayName": "Ahmad Raza",
      "userId": "14303897828174014060"
     },
     "user_tz": -300
    },
    "id": "8V1B68-u5BAJ",
    "outputId": "df44a54e-02ff-46ac-9d5b-7e6d996e4a83"
   },
   "outputs": [
    {
     "data": {
      "text/plain": [
       "(2174, 64, 64, 1)"
      ]
     },
     "execution_count": 80,
     "metadata": {},
     "output_type": "execute_result"
    }
   ],
   "source": [
    "characters.shape"
   ]
  },
  {
   "cell_type": "code",
   "execution_count": 81,
   "metadata": {
    "executionInfo": {
     "elapsed": 481,
     "status": "ok",
     "timestamp": 1655330840131,
     "user": {
      "displayName": "Ahmad Raza",
      "userId": "14303897828174014060"
     },
     "user_tz": -300
    },
    "id": "4WGfd6AAxjpX"
   },
   "outputs": [],
   "source": [
    "X = characters\n",
    "Y = labels\n",
    "number_classes = len(set(labels))"
   ]
  },
  {
   "cell_type": "code",
   "execution_count": 82,
   "metadata": {
    "executionInfo": {
     "elapsed": 416,
     "status": "ok",
     "timestamp": 1655330844170,
     "user": {
      "displayName": "Ahmad Raza",
      "userId": "14303897828174014060"
     },
     "user_tz": -300
    },
    "id": "sOomgp8gWsjD"
   },
   "outputs": [],
   "source": [
    "\n",
    "X_train, X_val, Y_train, Y_val= train_test_split(X, Y, train_size=0.8, random_state=0)"
   ]
  },
  {
   "cell_type": "code",
   "execution_count": 83,
   "metadata": {
    "executionInfo": {
     "elapsed": 390,
     "status": "ok",
     "timestamp": 1655330848562,
     "user": {
      "displayName": "Ahmad Raza",
      "userId": "14303897828174014060"
     },
     "user_tz": -300
    },
    "id": "szQzVNYLqQKO"
   },
   "outputs": [],
   "source": [
    "from keras.utils import np_utils\n",
    "\n",
    "Y_train = keras.utils.np_utils.to_categorical(Y_train, number_classes)\n",
    "Y_test = keras.utils.np_utils.to_categorical(Y_test, number_classes)\n",
    "Y_val = keras.utils.np_utils.to_categorical(Y_val, number_classes)\n",
    "\n",
    "#Y = keras.utils.to_categorical(Y, number_classes)"
   ]
  },
  {
   "cell_type": "code",
   "execution_count": 84,
   "metadata": {
    "colab": {
     "base_uri": "https://localhost:8080/"
    },
    "executionInfo": {
     "elapsed": 517,
     "status": "ok",
     "timestamp": 1655330853502,
     "user": {
      "displayName": "Ahmad Raza",
      "userId": "14303897828174014060"
     },
     "user_tz": -300
    },
    "id": "XKRrs-AWD1pL",
    "outputId": "58b5daf7-ec79-40db-a183-1137b00ee7e5"
   },
   "outputs": [
    {
     "name": "stdout",
     "output_type": "stream",
     "text": [
      "1739\n",
      "435\n",
      "44\n"
     ]
    }
   ],
   "source": [
    "print(len(X_train))\n",
    "print(len(X_val))\n",
    "print(len(X_test))"
   ]
  },
  {
   "cell_type": "markdown",
   "metadata": {
    "id": "FnbX7XnS8Vm_"
   },
   "source": [
    "# Create Model"
   ]
  },
  {
   "cell_type": "code",
   "execution_count": 85,
   "metadata": {
    "executionInfo": {
     "elapsed": 384,
     "status": "ok",
     "timestamp": 1655330861161,
     "user": {
      "displayName": "Ahmad Raza",
      "userId": "14303897828174014060"
     },
     "user_tz": -300
    },
    "id": "fWlk-1V1eXXK"
   },
   "outputs": [],
   "source": [
    "from tensorflow.keras.optimizers import Adam\n",
    "from tensorflow.keras.layers import BatchNormalization"
   ]
  },
  {
   "cell_type": "code",
   "execution_count": 161,
   "metadata": {
    "executionInfo": {
     "elapsed": 411,
     "status": "ok",
     "timestamp": 1655333237260,
     "user": {
      "displayName": "Ahmad Raza",
      "userId": "14303897828174014060"
     },
     "user_tz": -300
    },
    "id": "lneLl4ZEEdBG"
   },
   "outputs": [],
   "source": [
    "\n",
    "input_shape = X_test[0].shape\n",
    "drop_rate= 0.\n",
    "k3=(3, 3)\n",
    "k5=(5, 5)\n",
    "k7= (7, 7)\n",
    "model = Sequential(layers=[\n",
    "    #1st Convolutional layer\n",
    "    Conv2D(filters=256, kernel_size=k5, padding='same', activation='relu', input_shape=input_shape),  \n",
    "    BatchNormalization(),\n",
    "    MaxPooling2D(pool_size=(3, 3), strides=None, padding='valid', data_format=None),\n",
    "    Dropout(rate=drop_rate),\n",
    "    #2nd Convolutional layer\n",
    "    Conv2D(filters=128, kernel_size=k3, padding='same', activation='relu'), \n",
    "    BatchNormalization(),\n",
    "    Dropout(rate=drop_rate),\n",
    "    #3rd Convolutional layer\n",
    "    Conv2D(filters=128, kernel_size=k3, padding='same', activation='relu'), \n",
    "    BatchNormalization(),\n",
    "    MaxPooling2D(pool_size=(3, 3), strides=None, padding='valid', data_format=None),\n",
    "    Dropout(rate=drop_rate),\n",
    "    \n",
    "    #Flat layer\n",
    "    Flatten(), #32*32*5=5120 neurons\n",
    "    \n",
    "    #6th Layer\n",
    "    Dense(2048, activation='relu'),\n",
    "    BatchNormalization(),\n",
    "    Dropout(drop_rate),\n",
    "    \n",
    "    Dense(number_classes, activation='softmax') # number_classes neurons\n",
    "])"
   ]
  },
  {
   "cell_type": "code",
   "execution_count": 162,
   "metadata": {
    "executionInfo": {
     "elapsed": 10,
     "status": "ok",
     "timestamp": 1655333241055,
     "user": {
      "displayName": "Ahmad Raza",
      "userId": "14303897828174014060"
     },
     "user_tz": -300
    },
    "id": "Nk9YAYVbrYex"
   },
   "outputs": [],
   "source": [
    "\n",
    "model.compile(optimizer=Adam(learning_rate=.00001), loss='categorical_crossentropy', metrics=['accuracy'])"
   ]
  },
  {
   "cell_type": "code",
   "execution_count": 163,
   "metadata": {
    "colab": {
     "base_uri": "https://localhost:8080/"
    },
    "executionInfo": {
     "elapsed": 431,
     "status": "ok",
     "timestamp": 1655333246396,
     "user": {
      "displayName": "Ahmad Raza",
      "userId": "14303897828174014060"
     },
     "user_tz": -300
    },
    "id": "UU1HXwWVei1Z",
    "outputId": "8d26d578-a4c2-40fb-a18c-675436e2d7c3"
   },
   "outputs": [
    {
     "name": "stdout",
     "output_type": "stream",
     "text": [
      "rm: cannot remove 'models': No such file or directory\n"
     ]
    }
   ],
   "source": [
    "!rm -r models"
   ]
  },
  {
   "cell_type": "code",
   "execution_count": 164,
   "metadata": {
    "executionInfo": {
     "elapsed": 370,
     "status": "ok",
     "timestamp": 1655333250124,
     "user": {
      "displayName": "Ahmad Raza",
      "userId": "14303897828174014060"
     },
     "user_tz": -300
    },
    "id": "WNu1Y3z6eibH"
   },
   "outputs": [],
   "source": [
    "import os\n",
    "os.makedirs('./models')"
   ]
  },
  {
   "cell_type": "code",
   "execution_count": null,
   "metadata": {
    "id": "08_JKD0-q5Mp"
   },
   "outputs": [],
   "source": []
  },
  {
   "cell_type": "markdown",
   "metadata": {
    "id": "jraHgmwEXx8L"
   },
   "source": [
    "# Fit"
   ]
  },
  {
   "cell_type": "code",
   "execution_count": 165,
   "metadata": {
    "colab": {
     "base_uri": "https://localhost:8080/"
    },
    "executionInfo": {
     "elapsed": 28273,
     "status": "ok",
     "timestamp": 1655333282051,
     "user": {
      "displayName": "Ahmad Raza",
      "userId": "14303897828174014060"
     },
     "user_tz": -300
    },
    "id": "_05lklLXT5B6",
    "outputId": "4026fed9-38fa-4232-b865-bb40b758688b"
   },
   "outputs": [
    {
     "name": "stdout",
     "output_type": "stream",
     "text": [
      "0\n",
      "55/55 [==============================] - 3s 33ms/step - loss: 0.7889 - accuracy: 0.5601 - val_loss: 0.8740 - val_accuracy: 0.5149\n",
      "1\n",
      "55/55 [==============================] - 2s 29ms/step - loss: 0.6614 - accuracy: 0.5975 - val_loss: 0.8788 - val_accuracy: 0.5218\n",
      "2\n",
      "55/55 [==============================] - 2s 30ms/step - loss: 0.6371 - accuracy: 0.5986 - val_loss: 0.8448 - val_accuracy: 0.5172\n",
      "3\n",
      "55/55 [==============================] - 2s 29ms/step - loss: 0.6111 - accuracy: 0.6072 - val_loss: 0.8599 - val_accuracy: 0.5172\n",
      "4\n",
      "55/55 [==============================] - 2s 29ms/step - loss: 0.5890 - accuracy: 0.6262 - val_loss: 0.7192 - val_accuracy: 0.5241\n",
      "5\n",
      "55/55 [==============================] - 2s 29ms/step - loss: 0.5769 - accuracy: 0.6492 - val_loss: 0.7070 - val_accuracy: 0.5885\n",
      "6\n",
      "55/55 [==============================] - 2s 29ms/step - loss: 0.5595 - accuracy: 0.6607 - val_loss: 0.8842 - val_accuracy: 0.5172\n",
      "7\n",
      "55/55 [==============================] - 2s 30ms/step - loss: 0.5665 - accuracy: 0.6394 - val_loss: 0.7878 - val_accuracy: 0.5310\n",
      "8\n",
      "55/55 [==============================] - 2s 29ms/step - loss: 0.5582 - accuracy: 0.6590 - val_loss: 0.7734 - val_accuracy: 0.6069\n",
      "9\n",
      "55/55 [==============================] - 2s 30ms/step - loss: 0.5786 - accuracy: 0.6371 - val_loss: 0.7641 - val_accuracy: 0.5356\n",
      "10\n",
      "55/55 [==============================] - 2s 30ms/step - loss: 0.5622 - accuracy: 0.6567 - val_loss: 0.7821 - val_accuracy: 0.5126\n"
     ]
    }
   ],
   "source": [
    "i =0\n",
    "epochs = 10\n",
    "train_loss = []\n",
    "val_loss = []\n",
    "val_acc = []\n",
    "train_acc = []\n",
    "while i <= epochs:\n",
    "    print(i)\n",
    "    hist = model.fit(X_train, Y_train, validation_data=(X_val, Y_val), epochs=1, shuffle=True, batch_size=32) #callbacks=[learning_rate_reduction]) \n",
    "    model.save_weights('./models/model'+str(i)+'.hd5')\n",
    "    i = i+1\n",
    "  #break"
   ]
  },
  {
   "cell_type": "code",
   "execution_count": null,
   "metadata": {
    "id": "8YY_mAjuhmTa"
   },
   "outputs": [],
   "source": []
  },
  {
   "cell_type": "code",
   "execution_count": 166,
   "metadata": {
    "colab": {
     "base_uri": "https://localhost:8080/"
    },
    "executionInfo": {
     "elapsed": 3951,
     "status": "ok",
     "timestamp": 1655333288777,
     "user": {
      "displayName": "Ahmad Raza",
      "userId": "14303897828174014060"
     },
     "user_tz": -300
    },
    "id": "yOw3ZsGKrnMP",
    "outputId": "6043ee17-5325-4d2d-f119-5d6d2b8b5841"
   },
   "outputs": [
    {
     "name": "stdout",
     "output_type": "stream",
     "text": [
      "2/2 [==============================] - 0s 12ms/step - loss: 0.4287 - accuracy: 0.8182\n",
      "0: Testing Score: 81.81818127632141, Loss: 0.42869412899017334\n",
      "2/2 [==============================] - 0s 11ms/step - loss: 0.4187 - accuracy: 0.8182\n",
      "1: Testing Score: 81.81818127632141, Loss: 0.4186926782131195\n",
      "2/2 [==============================] - 0s 11ms/step - loss: 0.3680 - accuracy: 0.8636\n",
      "2: Testing Score: 86.36363744735718, Loss: 0.36796197295188904\n",
      "2/2 [==============================] - 0s 9ms/step - loss: 0.3563 - accuracy: 0.9318\n",
      "3: Testing Score: 93.18181872367859, Loss: 0.35634416341781616\n",
      "2/2 [==============================] - 0s 11ms/step - loss: 0.4465 - accuracy: 0.7955\n",
      "4: Testing Score: 79.54545617103577, Loss: 0.44646313786506653\n",
      "2/2 [==============================] - 0s 11ms/step - loss: 0.4282 - accuracy: 0.7727\n",
      "5: Testing Score: 77.27272510528564, Loss: 0.42824843525886536\n",
      "2/2 [==============================] - 0s 20ms/step - loss: 0.3647 - accuracy: 0.8182\n",
      "6: Testing Score: 81.81818127632141, Loss: 0.3646586239337921\n",
      "2/2 [==============================] - 0s 12ms/step - loss: 0.4335 - accuracy: 0.7500\n",
      "7: Testing Score: 75.0, Loss: 0.43351468443870544\n",
      "2/2 [==============================] - 0s 13ms/step - loss: 0.8964 - accuracy: 0.6591\n",
      "8: Testing Score: 65.90909361839294, Loss: 0.8964142203330994\n",
      "2/2 [==============================] - 0s 11ms/step - loss: 0.5285 - accuracy: 0.7273\n",
      "9: Testing Score: 72.72727489471436, Loss: 0.5284590125083923\n",
      "2/2 [==============================] - 0s 11ms/step - loss: 0.6830 - accuracy: 0.6818\n",
      "10: Testing Score: 68.18181872367859, Loss: 0.6830112934112549\n"
     ]
    }
   ],
   "source": [
    "\n",
    "i = 0\n",
    "precission, recall, f1_, test_acc, test_loss = ([] for i in range(5))\n",
    "while i <= epochs:\n",
    "   \n",
    "    if i%1 == 0:\n",
    "        model.load_weights('./models/model' + str(i) + '.hd5')\n",
    "        predict_x=model.predict(X_test) \n",
    "        yp       =np.argmax(predict_x,axis=1) \n",
    "        #yp = model.predict_classes(X_test)\n",
    "        ya = [np.where(p==1)[0][0] for p in Y_test]\n",
    "\n",
    "        score = model.evaluate(X_test, Y_test)\n",
    "        pre = precision_score(ya, yp, average='weighted')\n",
    "        rec = recall_score(ya, yp, average='macro')\n",
    "        f1 = f1_score(ya, yp, average='micro') \n",
    "        test_acc.append(score[1])\n",
    "        test_loss.append(score[0])\n",
    "        precission.append(pre)\n",
    "        recall.append(recall)\n",
    "        f1_.append(f1)\n",
    "        print( str(i)+': Testing Score: '+str(score[1]*100) + ', Loss: ' + str(score[0]))\n",
    "    i = i + 1"
   ]
  },
  {
   "cell_type": "code",
   "execution_count": null,
   "metadata": {
    "id": "sTtjjT7twhH2"
   },
   "outputs": [],
   "source": []
  },
  {
   "cell_type": "code",
   "execution_count": 167,
   "metadata": {
    "colab": {
     "base_uri": "https://localhost:8080/"
    },
    "executionInfo": {
     "elapsed": 436,
     "status": "ok",
     "timestamp": 1655333329150,
     "user": {
      "displayName": "Ahmad Raza",
      "userId": "14303897828174014060"
     },
     "user_tz": -300
    },
    "id": "MS2m-7YX4C4c",
    "outputId": "050ca129-fc2d-4b58-a8b8-5bb0c9dedc04"
   },
   "outputs": [
    {
     "name": "stdout",
     "output_type": "stream",
     "text": [
      "Acc: 0.9318181872367859 at 3\n",
      "loss: 0.35634416341781616 at 8\n"
     ]
    }
   ],
   "source": [
    "print('Acc: ' + str(max(test_acc))+ ' at '+ str(np.argmax(test_acc)) )\n",
    "print('loss: '+ str(min(test_loss))+ ' at '+ str(np.argmax(test_loss)) )"
   ]
  },
  {
   "cell_type": "code",
   "execution_count": 168,
   "metadata": {
    "colab": {
     "base_uri": "https://localhost:8080/"
    },
    "executionInfo": {
     "elapsed": 381,
     "status": "ok",
     "timestamp": 1655333341938,
     "user": {
      "displayName": "Ahmad Raza",
      "userId": "14303897828174014060"
     },
     "user_tz": -300
    },
    "id": "AfdIagEae4WB",
    "outputId": "5f55bb0f-4f1c-4f48-ae39-0c8ff8b80473"
   },
   "outputs": [
    {
     "data": {
      "text/plain": [
       "<tensorflow.python.training.tracking.util.CheckpointLoadStatus at 0x7f3dff024f90>"
      ]
     },
     "execution_count": 168,
     "metadata": {},
     "output_type": "execute_result"
    }
   ],
   "source": [
    "model.load_weights('./models/model' + str(3) + '.hd5')"
   ]
  },
  {
   "cell_type": "code",
   "execution_count": 169,
   "metadata": {
    "colab": {
     "base_uri": "https://localhost:8080/"
    },
    "executionInfo": {
     "elapsed": 461,
     "status": "ok",
     "timestamp": 1655333346695,
     "user": {
      "displayName": "Ahmad Raza",
      "userId": "14303897828174014060"
     },
     "user_tz": -300
    },
    "id": "0Mgr5H3RfD5r",
    "outputId": "cb77b316-4767-4192-fd9e-4877421cdcaa"
   },
   "outputs": [
    {
     "name": "stdout",
     "output_type": "stream",
     "text": [
      "2/2 [==============================] - 0s 11ms/step - loss: 0.3563 - accuracy: 0.9318\n"
     ]
    },
    {
     "data": {
      "text/plain": [
       "[0.35634416341781616, 0.9318181872367859]"
      ]
     },
     "execution_count": 169,
     "metadata": {},
     "output_type": "execute_result"
    }
   ],
   "source": [
    "model.evaluate(X_test, Y_test)"
   ]
  },
  {
   "cell_type": "markdown",
   "metadata": {},
   "source": [
    "# Save Model For Later Use"
   ]
  },
  {
   "cell_type": "code",
   "execution_count": 170,
   "metadata": {
    "colab": {
     "base_uri": "https://localhost:8080/"
    },
    "executionInfo": {
     "elapsed": 2348,
     "status": "ok",
     "timestamp": 1655333415688,
     "user": {
      "displayName": "Ahmad Raza",
      "userId": "14303897828174014060"
     },
     "user_tz": -300
    },
    "id": "Kl92rrfUuJ5T",
    "outputId": "7982925d-35e2-471e-b6a3-effad8ac4015"
   },
   "outputs": [
    {
     "name": "stdout",
     "output_type": "stream",
     "text": [
      "INFO:tensorflow:Assets written to: model_palpebral_93_18.hd5/assets\n"
     ]
    }
   ],
   "source": [
    "model.save('model_palpebral_93_18.hd5')"
   ]
  },
  {
   "cell_type": "code",
   "execution_count": null,
   "metadata": {
    "id": "V89sdupFuKK4"
   },
   "outputs": [],
   "source": [
    "print('Acc: ' + str(max(test_acc))+ ' at '+ str(np.argmax(test_acc)) )\n",
    "print('loss: '+ str(min(test_loss))+ ' at '+ str(np.argmax(test_loss)) )"
   ]
  },
  {
   "cell_type": "code",
   "execution_count": 171,
   "metadata": {
    "colab": {
     "base_uri": "https://localhost:8080/"
    },
    "executionInfo": {
     "elapsed": 9003,
     "status": "ok",
     "timestamp": 1655333452898,
     "user": {
      "displayName": "Ahmad Raza",
      "userId": "14303897828174014060"
     },
     "user_tz": -300
    },
    "id": "VnQPproU15d7",
    "outputId": "34cb9600-ed5d-4d37-ce68-d4b710b5c68d"
   },
   "outputs": [
    {
     "name": "stdout",
     "output_type": "stream",
     "text": [
      "  adding: model_palpebral_93_18.hd5/ (stored 0%)\n",
      "  adding: model_palpebral_93_18.hd5/variables/ (stored 0%)\n",
      "  adding: model_palpebral_93_18.hd5/variables/variables.data-00000-of-00001 (deflated 7%)\n",
      "  adding: model_palpebral_93_18.hd5/variables/variables.index (deflated 72%)\n",
      "  adding: model_palpebral_93_18.hd5/saved_model.pb (deflated 89%)\n",
      "  adding: model_palpebral_93_18.hd5/keras_metadata.pb (deflated 93%)\n",
      "  adding: model_palpebral_93_18.hd5/assets/ (stored 0%)\n"
     ]
    }
   ],
   "source": [
    "!zip -r model_palpebral_93_18.zip model_palpebral_93_18.hd5/"
   ]
  },
  {
   "cell_type": "code",
   "execution_count": 172,
   "metadata": {
    "executionInfo": {
     "elapsed": 784,
     "status": "ok",
     "timestamp": 1655333472411,
     "user": {
      "displayName": "Ahmad Raza",
      "userId": "14303897828174014060"
     },
     "user_tz": -300
    },
    "id": "uLAaDuWG2SPI"
   },
   "outputs": [],
   "source": [
    "!mv model_palpebral_93_18.zip /content/gdrive/MyDrive/"
   ]
  },
  {
   "cell_type": "code",
   "execution_count": 173,
   "metadata": {
    "executionInfo": {
     "elapsed": 1608,
     "status": "ok",
     "timestamp": 1655333492607,
     "user": {
      "displayName": "Ahmad Raza",
      "userId": "14303897828174014060"
     },
     "user_tz": -300
    },
    "id": "_Ywg1x3r07fX"
   },
   "outputs": [],
   "source": [
    "from tensorflow.keras.models import load_model\n",
    "\n",
    "model1 = load_model('model_palpebral_93_18.hd5')"
   ]
  },
  {
   "cell_type": "code",
   "execution_count": null,
   "metadata": {},
   "outputs": [],
   "source": [
    "model1.evaluate(X_test, Y_test)"
   ]
  }
 ],
 "metadata": {
  "accelerator": "GPU",
  "colab": {
   "collapsed_sections": [
    "BgB_PrLckqkG",
    "bRIQzFWL2ngL",
    "sStbGHHs2_os",
    "FwrDeJCwB55V",
    "afUlH30QB3b5",
    "mkDtbSBsUqzY",
    "q5Z7zNKQYzGY",
    "YHB3hq7UXtLu",
    "jraHgmwEXx8L"
   ],
   "name": "cnn_aug_palpebral.ipynb",
   "provenance": []
  },
  "kernelspec": {
   "display_name": "Python 3 (ipykernel)",
   "language": "python",
   "name": "python3"
  },
  "language_info": {
   "codemirror_mode": {
    "name": "ipython",
    "version": 3
   },
   "file_extension": ".py",
   "mimetype": "text/x-python",
   "name": "python",
   "nbconvert_exporter": "python",
   "pygments_lexer": "ipython3",
   "version": "3.7.9"
  }
 },
 "nbformat": 4,
 "nbformat_minor": 1
}
