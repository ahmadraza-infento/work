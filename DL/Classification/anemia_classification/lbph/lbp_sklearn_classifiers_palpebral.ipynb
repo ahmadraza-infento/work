{
 "cells": [
  {
   "cell_type": "code",
   "execution_count": 1,
   "metadata": {
    "id": "kkVAItyKdKVu"
   },
   "outputs": [],
   "source": [
    "import os\n",
    "import cv2\n",
    "import pandas as pd\n",
    "import numpy as np\n",
    "from skimage import feature\n",
    "\n",
    "#for plotting\n",
    "import matplotlib.pyplot as plt\n",
    "import seaborn as sns\n",
    "import plotly.express as px\n",
    "\n",
    "#for data splitting\n",
    "from sklearn.model_selection import train_test_split\n",
    "from sklearn.model_selection import GridSearchCV\n",
    "\n",
    "#for the model prediction\n",
    "from sklearn.ensemble import RandomForestClassifier\n",
    "from sklearn.tree import DecisionTreeClassifier\n",
    "from sklearn.svm import SVC\n",
    "from xgboost import XGBClassifier\n",
    "from sklearn.linear_model import LogisticRegression"
   ]
  },
  {
   "cell_type": "code",
   "execution_count": 2,
   "metadata": {
    "id": "uUv2-6dKjWuc"
   },
   "outputs": [],
   "source": [
    "data_dir     = './dataset anemia/'\n",
    "india_folder = os.path.join(data_dir, 'India')\n",
    "italy_folder = os.path.join(data_dir, 'Italy')\n"
   ]
  },
  {
   "cell_type": "code",
   "execution_count": 3,
   "metadata": {
    "colab": {
     "background_save": true
    },
    "id": "qVZUfhZJqfcl"
   },
   "outputs": [
    {
     "name": "stdout",
     "output_type": "stream",
     "text": [
      "./dataset anemia/India  not found ->  ['.DS_Store', 'IndiaRd.xlsx']\n",
      "./dataset anemia/Italy  not found ->  ['.DS_Store', 'Italyrd.xlsx']\n"
     ]
    }
   ],
   "source": [
    "def should_use_img(img_name, img_type):\n",
    "    if img_name.split(\".\")[1] in [\"jpg\", \"png\"]:\n",
    "        img_name = img_name.split(\".\")[0]\n",
    "        \n",
    "        if img_type == \"\":\n",
    "            img_types   = [\"forniceal\", \"forniceal_palpebral\", \"palpebral\"]\n",
    "            for _type in img_types:\n",
    "                if img_name.endswith(_type):\n",
    "                    return False\n",
    "            return True\n",
    "        elif img_type == \"palpebral\":\n",
    "            img_name = img_name.split(\".\")[0]\n",
    "            if img_name.endswith(\"forniceal_palpebral\"):\n",
    "                    return False\n",
    "            return True if img_name.endswith(img_type) else False\n",
    "            \n",
    "        else:\n",
    "            return True if img_name.endswith(img_type)  else False\n",
    "    \n",
    "    else:\n",
    "        return False\n",
    "        \n",
    "\n",
    "img_to_use  = \"palpebral\"\n",
    "img_files   = {\"India\":[], \"Italy\":[]}\n",
    "\n",
    "for folder in ['India', 'Italy']:\n",
    "    img_folder = os.path.join(data_dir, folder)\n",
    "    for root, dirs, files in os.walk(img_folder):\n",
    "        flag = False\n",
    "        for file in files:\n",
    "            if should_use_img(file, img_to_use):\n",
    "                cls = root.split(\"\\\\\")[-1]\n",
    "                img_files[folder].append( ( os.path.join(root, file), cls) )\n",
    "                flag = True\n",
    "                break\n",
    "        if flag is False:\n",
    "            print(root, \" not found -> \", files)\n"
   ]
  },
  {
   "cell_type": "code",
   "execution_count": 4,
   "metadata": {},
   "outputs": [
    {
     "name": "stdout",
     "output_type": "stream",
     "text": [
      "items for India -> 95\n",
      "items for Italy -> 123\n"
     ]
    }
   ],
   "source": [
    "for key, items in img_files.items():\n",
    "    print(f\"items for {key} -> {len(items)}\")"
   ]
  },
  {
   "cell_type": "code",
   "execution_count": 5,
   "metadata": {},
   "outputs": [
    {
     "data": {
      "text/plain": [
       "('./dataset anemia/India\\\\1\\\\20200118_164733_palpebral.png', '1')"
      ]
     },
     "execution_count": 5,
     "metadata": {},
     "output_type": "execute_result"
    }
   ],
   "source": [
    "img_files[\"India\"][0]"
   ]
  },
  {
   "cell_type": "code",
   "execution_count": 6,
   "metadata": {},
   "outputs": [],
   "source": [
    "data_dir = './dataset anemia/'\n",
    "file1    = data_dir+'India/IndiaRd.xlsx'\n",
    "file2    = data_dir+'Italy/Italyrd.xlsx'"
   ]
  },
  {
   "cell_type": "code",
   "execution_count": 7,
   "metadata": {},
   "outputs": [
    {
     "name": "stdout",
     "output_type": "stream",
     "text": [
      "{'No Anemia': 0, 'Anemia': 1}\n"
     ]
    }
   ],
   "source": [
    "labels = {}\n",
    "\n",
    "d1 = pd.read_excel(file1)\n",
    "d1[\"Anemia\"] = d1[\"Note\"]\n",
    "d1 = d1[[\"Number\", \"Anemia\" ]]\n",
    "d1.replace(\"No anemia\", \"No Anemia\", inplace=True)\n",
    "\n",
    "d2 = pd.read_excel(file2)[[\"Number\", \"Anemia\" ]]\n",
    "d2.replace(\"No anemia\", \"No Anemia\", inplace=True)\n",
    "\n",
    "unique_values   = list(d1['Anemia'].unique())\n",
    "enum            = {val:i for i, val in enumerate(unique_values)} \n",
    "print(enum)\n",
    "\n",
    "d1['Anemia'].replace(enum, inplace=True)\n",
    "d2['Anemia'].replace(enum, inplace=True)\n",
    "\n",
    "labels[\"India\"] = { row[\"Number\"]:row[\"Anemia\"] for index, row in d1.iterrows() }\n",
    "labels[\"Italy\"] = { row[\"Number\"]:row[\"Anemia\"] for index, row in d2.iterrows() }\n"
   ]
  },
  {
   "cell_type": "markdown",
   "metadata": {},
   "source": [
    "## Load Images"
   ]
  },
  {
   "cell_type": "markdown",
   "metadata": {},
   "source": [
    "### Feature Extractors"
   ]
  },
  {
   "cell_type": "code",
   "execution_count": 8,
   "metadata": {},
   "outputs": [],
   "source": [
    "class LocalBinaryPatterns:\n",
    "    def __init__(self, numPoints, radius):\n",
    "        self.numPoints = numPoints\n",
    "        self.radius = radius\n",
    "    \n",
    "    def preprocess(self, image):\n",
    "        gray = cv2.cvtColor(image, cv2.COLOR_BGR2GRAY)\n",
    "        return gray\n",
    "    \n",
    "    def describe(self, image, eps = 1e-7):\n",
    "        image = self.preprocess(image)\n",
    "        lbp   = feature.local_binary_pattern(image, self.numPoints, self.radius, method=\"uniform\")\n",
    "        (hist, _) = np.histogram(lbp.ravel(), bins=np.arange(0, self.numPoints+3), range=(0, self.numPoints + 2))\n",
    "\n",
    "        # Normalize the histogram\n",
    "        hist = hist.astype('float')\n",
    "        hist /= (hist.sum() + eps)\n",
    "\n",
    "        return hist, lbp"
   ]
  },
  {
   "cell_type": "code",
   "execution_count": 9,
   "metadata": {},
   "outputs": [],
   "source": [
    "# LBP Hist\n",
    "\n",
    "# Un-comment this code to generate LBPH features again OR use next tab to use pre-generaated features\n",
    "\"\"\"\n",
    "X = []\n",
    "y = []\n",
    "\n",
    "desc = LocalBinaryPatterns(24, 8)\n",
    "\n",
    "for key, items in img_files.items():\n",
    "    for item in items:\n",
    "        img_path, cls = item\n",
    "        img           = cv2.imread(img_path)\n",
    "        hist, lbp     = desc.describe(img)\n",
    "        lbl           = labels[key][int(cls)]\n",
    "        \n",
    "        X.append(hist)\n",
    "        y.append(lbl)\n",
    "\n",
    "\n",
    "import pickle\n",
    "\n",
    "file = open(\"data_palpebral.pickle\", \"wb\")\n",
    "pickle.dump((X, y), file)\n",
    "file.close()\n",
    "\n",
    "\"\"\""
   ]
  },
  {
   "cell_type": "code",
   "execution_count": 2,
   "metadata": {},
   "outputs": [],
   "source": [
    "# Use this tab to load pre-generated features\n",
    "import pickle\n",
    "\n",
    "file = open(\"data_palpebral.pickle\", \"rb\")\n",
    "X, y = pickle.load(file)\n",
    "file.close()"
   ]
  },
  {
   "cell_type": "code",
   "execution_count": 11,
   "metadata": {},
   "outputs": [
    {
     "name": "stdout",
     "output_type": "stream",
     "text": [
      "len(X) -> 218\n",
      "len(y) -> 218\n"
     ]
    }
   ],
   "source": [
    "print(f\"len(X) -> {len(X)}\")\n",
    "print(f\"len(y) -> {len(y)}\")"
   ]
  },
  {
   "cell_type": "code",
   "execution_count": 12,
   "metadata": {},
   "outputs": [],
   "source": [
    "y = [0 if i == 0 else 1 for i in y]"
   ]
  },
  {
   "cell_type": "code",
   "execution_count": null,
   "metadata": {},
   "outputs": [],
   "source": []
  },
  {
   "cell_type": "code",
   "execution_count": null,
   "metadata": {},
   "outputs": [],
   "source": []
  },
  {
   "cell_type": "code",
   "execution_count": null,
   "metadata": {},
   "outputs": [],
   "source": []
  },
  {
   "cell_type": "markdown",
   "metadata": {
    "id": "sCEtI0zVJUC_"
   },
   "source": [
    "# Training"
   ]
  },
  {
   "cell_type": "code",
   "execution_count": 13,
   "metadata": {
    "id": "iXtQ3Y8EuS9E"
   },
   "outputs": [
    {
     "data": {
      "text/plain": [
       "(218, 26)"
      ]
     },
     "execution_count": 13,
     "metadata": {},
     "output_type": "execute_result"
    }
   ],
   "source": [
    "X = np.array(X)\n",
    "X.shape"
   ]
  },
  {
   "cell_type": "code",
   "execution_count": 7,
   "metadata": {},
   "outputs": [
    {
     "data": {
      "text/plain": [
       "array([0.02933798, 0.02768168, 0.00533081, 0.00256741, 0.00193696,\n",
       "       0.00205869, 0.00253323, 0.00369055, 0.00558778, 0.0086782 ,\n",
       "       0.013298  , 0.01938485, 0.0226868 , 0.02116112, 0.0143746 ,\n",
       "       0.00940097, 0.00588331, 0.00411981, 0.00282455, 0.00248938,\n",
       "       0.00245762, 0.00335008, 0.00690925, 0.03283306, 0.0376732 ,\n",
       "       0.71175011])"
      ]
     },
     "execution_count": 7,
     "metadata": {},
     "output_type": "execute_result"
    }
   ],
   "source": [
    "X[2]"
   ]
  },
  {
   "cell_type": "code",
   "execution_count": 14,
   "metadata": {},
   "outputs": [
    {
     "data": {
      "text/plain": [
       "218"
      ]
     },
     "execution_count": 14,
     "metadata": {},
     "output_type": "execute_result"
    }
   ],
   "source": [
    "Y = y.copy()\n",
    "len(Y)"
   ]
  },
  {
   "cell_type": "code",
   "execution_count": 15,
   "metadata": {
    "colab": {
     "base_uri": "https://localhost:8080/"
    },
    "id": "35lVz8VIJVUZ",
    "outputId": "28132ad1-ceaf-4b77-d541-902b43406da3"
   },
   "outputs": [
    {
     "name": "stdout",
     "output_type": "stream",
     "text": [
      "Training Samples: 152 \n",
      " Test Samples: 66\n"
     ]
    }
   ],
   "source": [
    "X_train, X_test, Y_train, Y_test= train_test_split(X, Y, train_size=0.7, random_state=123)\n",
    "print('Training Samples: '+str(len(X_train)) + ' \\n Test Samples: ' + str(len(X_test)))"
   ]
  },
  {
   "cell_type": "markdown",
   "metadata": {
    "id": "cxo8kvXRuao2"
   },
   "source": [
    "## Tf Model"
   ]
  },
  {
   "cell_type": "code",
   "execution_count": 18,
   "metadata": {
    "id": "EHF1U8ObuY2y"
   },
   "outputs": [],
   "source": [
    "import tensorflow as tf\n",
    "\n"
   ]
  },
  {
   "cell_type": "code",
   "execution_count": 16,
   "metadata": {
    "colab": {
     "base_uri": "https://localhost:8080/"
    },
    "id": "GOhQiSgAuoYO",
    "outputId": "591bba7d-a582-4db4-9bcb-fa2d2578f0c8"
   },
   "outputs": [
    {
     "data": {
      "text/plain": [
       "(152, 26)"
      ]
     },
     "execution_count": 16,
     "metadata": {},
     "output_type": "execute_result"
    }
   ],
   "source": [
    "X_train.shape"
   ]
  },
  {
   "cell_type": "code",
   "execution_count": 19,
   "metadata": {},
   "outputs": [],
   "source": [
    "y_train = tf.keras.utils.to_categorical(Y_train, 2)\n",
    "y_test  = tf.keras.utils.to_categorical(Y_test, 2)"
   ]
  },
  {
   "cell_type": "code",
   "execution_count": 20,
   "metadata": {},
   "outputs": [
    {
     "data": {
      "text/plain": [
       "(152, 2)"
      ]
     },
     "execution_count": 20,
     "metadata": {},
     "output_type": "execute_result"
    }
   ],
   "source": [
    "y_train.shape"
   ]
  },
  {
   "cell_type": "code",
   "execution_count": null,
   "metadata": {},
   "outputs": [],
   "source": []
  },
  {
   "cell_type": "code",
   "execution_count": 21,
   "metadata": {
    "id": "Yak4mXBPuiy9"
   },
   "outputs": [],
   "source": [
    "model =   tf.keras.models.Sequential([\n",
    "                            tf.keras.layers.Dense(128, input_shape=(None, X_train.shape[1]), activation='relu'),\n",
    "                            tf.keras.layers.Dense(56,  activation='relu'),\n",
    "                            tf.keras.layers.Dense(2)\n",
    "                            ])"
   ]
  },
  {
   "cell_type": "code",
   "execution_count": 22,
   "metadata": {
    "id": "xqgbO81EuZdN"
   },
   "outputs": [],
   "source": [
    "loss_fn = tf.keras.losses.CategoricalCrossentropy()\n",
    "model.compile(optimizer='adam',loss=loss_fn, metrics=['accuracy'])"
   ]
  },
  {
   "cell_type": "code",
   "execution_count": 23,
   "metadata": {
    "colab": {
     "base_uri": "https://localhost:8080/"
    },
    "id": "noJxkYMDviIH",
    "outputId": "d1b83ff7-0361-4d48-a232-fab714e347b5"
   },
   "outputs": [
    {
     "name": "stdout",
     "output_type": "stream",
     "text": [
      "Epoch 1/50\n",
      "WARNING:tensorflow:Model was constructed with shape (None, None, 26) for input KerasTensor(type_spec=TensorSpec(shape=(None, None, 26), dtype=tf.float32, name='dense_input'), name='dense_input', description=\"created by layer 'dense_input'\"), but it was called on an input with incompatible shape (None, 26).\n",
      "WARNING:tensorflow:Model was constructed with shape (None, None, 26) for input KerasTensor(type_spec=TensorSpec(shape=(None, None, 26), dtype=tf.float32, name='dense_input'), name='dense_input', description=\"created by layer 'dense_input'\"), but it was called on an input with incompatible shape (None, 26).\n",
      "5/5 [==============================] - 1s 2ms/step - loss: 9.7557 - accuracy: 0.3947\n",
      "Epoch 2/50\n",
      "5/5 [==============================] - 0s 2ms/step - loss: 9.7557 - accuracy: 0.3947\n",
      "Epoch 3/50\n",
      "5/5 [==============================] - 0s 3ms/step - loss: 9.7557 - accuracy: 0.3947\n",
      "Epoch 4/50\n",
      "5/5 [==============================] - 0s 3ms/step - loss: 9.7557 - accuracy: 0.3947\n",
      "Epoch 5/50\n",
      "5/5 [==============================] - 0s 2ms/step - loss: 9.7557 - accuracy: 0.3947\n",
      "Epoch 6/50\n",
      "5/5 [==============================] - 0s 3ms/step - loss: 9.7557 - accuracy: 0.3947\n",
      "Epoch 7/50\n",
      "5/5 [==============================] - 0s 2ms/step - loss: 9.7557 - accuracy: 0.3947\n",
      "Epoch 8/50\n",
      "5/5 [==============================] - 0s 2ms/step - loss: 9.7557 - accuracy: 0.3947\n",
      "Epoch 9/50\n",
      "5/5 [==============================] - 0s 2ms/step - loss: 9.7557 - accuracy: 0.3947\n",
      "Epoch 10/50\n",
      "5/5 [==============================] - 0s 3ms/step - loss: 9.7557 - accuracy: 0.3947\n",
      "Epoch 11/50\n",
      "5/5 [==============================] - 0s 3ms/step - loss: 9.7557 - accuracy: 0.3947\n",
      "Epoch 12/50\n",
      "5/5 [==============================] - 0s 3ms/step - loss: 9.7557 - accuracy: 0.3947\n",
      "Epoch 13/50\n",
      "5/5 [==============================] - 0s 3ms/step - loss: 9.7557 - accuracy: 0.3947\n",
      "Epoch 14/50\n",
      "5/5 [==============================] - 0s 2ms/step - loss: 9.7557 - accuracy: 0.3947\n",
      "Epoch 15/50\n",
      "5/5 [==============================] - 0s 2ms/step - loss: 9.7557 - accuracy: 0.3947\n",
      "Epoch 16/50\n",
      "5/5 [==============================] - 0s 4ms/step - loss: 9.7557 - accuracy: 0.3947\n",
      "Epoch 17/50\n",
      "5/5 [==============================] - 0s 2ms/step - loss: 9.7557 - accuracy: 0.3947\n",
      "Epoch 18/50\n",
      "5/5 [==============================] - 0s 2ms/step - loss: 9.7557 - accuracy: 0.3947\n",
      "Epoch 19/50\n",
      "5/5 [==============================] - 0s 2ms/step - loss: 9.7557 - accuracy: 0.3947\n",
      "Epoch 20/50\n",
      "5/5 [==============================] - 0s 3ms/step - loss: 9.7557 - accuracy: 0.3947\n",
      "Epoch 21/50\n",
      "5/5 [==============================] - 0s 3ms/step - loss: 9.7557 - accuracy: 0.3947\n",
      "Epoch 22/50\n",
      "5/5 [==============================] - 0s 2ms/step - loss: 9.7557 - accuracy: 0.3947\n",
      "Epoch 23/50\n",
      "5/5 [==============================] - 0s 2ms/step - loss: 9.7557 - accuracy: 0.3947\n",
      "Epoch 24/50\n",
      "5/5 [==============================] - 0s 2ms/step - loss: 9.7557 - accuracy: 0.3947\n",
      "Epoch 25/50\n",
      "5/5 [==============================] - 0s 3ms/step - loss: 9.7557 - accuracy: 0.3947\n",
      "Epoch 26/50\n",
      "5/5 [==============================] - 0s 2ms/step - loss: 9.7557 - accuracy: 0.3947\n",
      "Epoch 27/50\n",
      "5/5 [==============================] - 0s 2ms/step - loss: 9.7557 - accuracy: 0.3947\n",
      "Epoch 28/50\n",
      "5/5 [==============================] - 0s 4ms/step - loss: 9.7557 - accuracy: 0.3947\n",
      "Epoch 29/50\n",
      "5/5 [==============================] - 0s 2ms/step - loss: 9.7557 - accuracy: 0.3947\n",
      "Epoch 30/50\n",
      "5/5 [==============================] - 0s 2ms/step - loss: 9.7557 - accuracy: 0.3947\n",
      "Epoch 31/50\n",
      "5/5 [==============================] - 0s 2ms/step - loss: 9.7557 - accuracy: 0.3947\n",
      "Epoch 32/50\n",
      "5/5 [==============================] - 0s 2ms/step - loss: 9.7557 - accuracy: 0.3947\n",
      "Epoch 33/50\n",
      "5/5 [==============================] - 0s 2ms/step - loss: 9.7557 - accuracy: 0.3947\n",
      "Epoch 34/50\n",
      "5/5 [==============================] - 0s 2ms/step - loss: 9.7557 - accuracy: 0.3947\n",
      "Epoch 35/50\n",
      "5/5 [==============================] - 0s 2ms/step - loss: 9.7557 - accuracy: 0.3947\n",
      "Epoch 36/50\n",
      "5/5 [==============================] - 0s 3ms/step - loss: 9.7557 - accuracy: 0.3947\n",
      "Epoch 37/50\n",
      "5/5 [==============================] - 0s 3ms/step - loss: 9.7557 - accuracy: 0.3947\n",
      "Epoch 38/50\n",
      "5/5 [==============================] - 0s 2ms/step - loss: 9.7557 - accuracy: 0.3947\n",
      "Epoch 39/50\n",
      "5/5 [==============================] - 0s 4ms/step - loss: 9.7557 - accuracy: 0.3947\n",
      "Epoch 40/50\n",
      "5/5 [==============================] - 0s 2ms/step - loss: 9.7557 - accuracy: 0.3947\n",
      "Epoch 41/50\n",
      "5/5 [==============================] - 0s 4ms/step - loss: 9.7557 - accuracy: 0.3947\n",
      "Epoch 42/50\n",
      "5/5 [==============================] - 0s 2ms/step - loss: 9.7557 - accuracy: 0.3947\n",
      "Epoch 43/50\n",
      "5/5 [==============================] - 0s 3ms/step - loss: 9.7557 - accuracy: 0.3947\n",
      "Epoch 44/50\n",
      "5/5 [==============================] - 0s 3ms/step - loss: 9.7557 - accuracy: 0.3947\n",
      "Epoch 45/50\n",
      "5/5 [==============================] - 0s 2ms/step - loss: 9.7557 - accuracy: 0.3947\n",
      "Epoch 46/50\n",
      "5/5 [==============================] - 0s 3ms/step - loss: 9.7557 - accuracy: 0.3947\n",
      "Epoch 47/50\n",
      "5/5 [==============================] - 0s 3ms/step - loss: 9.7557 - accuracy: 0.3947\n",
      "Epoch 48/50\n",
      "5/5 [==============================] - 0s 2ms/step - loss: 9.7557 - accuracy: 0.3947\n",
      "Epoch 49/50\n",
      "5/5 [==============================] - 0s 2ms/step - loss: 9.7557 - accuracy: 0.3947\n",
      "Epoch 50/50\n",
      "5/5 [==============================] - 0s 3ms/step - loss: 9.7557 - accuracy: 0.3947\n"
     ]
    },
    {
     "data": {
      "text/plain": [
       "<keras.callbacks.History at 0x1dba0d87b08>"
      ]
     },
     "execution_count": 23,
     "metadata": {},
     "output_type": "execute_result"
    }
   ],
   "source": [
    "model.fit(X_train, y_train, epochs=50)"
   ]
  },
  {
   "cell_type": "code",
   "execution_count": 24,
   "metadata": {
    "colab": {
     "base_uri": "https://localhost:8080/"
    },
    "id": "rZwLeRRfviek",
    "outputId": "2972f549-1c65-4ed8-b4a7-51d783dd2bd3"
   },
   "outputs": [
    {
     "name": "stdout",
     "output_type": "stream",
     "text": [
      "WARNING:tensorflow:Model was constructed with shape (None, None, 26) for input KerasTensor(type_spec=TensorSpec(shape=(None, None, 26), dtype=tf.float32, name='dense_input'), name='dense_input', description=\"created by layer 'dense_input'\"), but it was called on an input with incompatible shape (None, 26).\n",
      "3/3 [==============================] - 0s 1ms/step - loss: 10.7454 - accuracy: 0.3333\n"
     ]
    }
   ],
   "source": [
    "res = model.evaluate(X_test, y_test)"
   ]
  },
  {
   "cell_type": "code",
   "execution_count": 25,
   "metadata": {
    "colab": {
     "base_uri": "https://localhost:8080/"
    },
    "id": "KqbZ0Ujk5BXP",
    "outputId": "e8bde214-53ed-4004-b29a-1a6b9ed50954"
   },
   "outputs": [
    {
     "data": {
      "text/plain": [
       "[10.745396614074707, 0.3333333432674408]"
      ]
     },
     "execution_count": 25,
     "metadata": {},
     "output_type": "execute_result"
    }
   ],
   "source": [
    "res"
   ]
  },
  {
   "cell_type": "markdown",
   "metadata": {
    "id": "vXNKDH_dLrqQ"
   },
   "source": [
    "## SVM"
   ]
  },
  {
   "cell_type": "code",
   "execution_count": 26,
   "metadata": {},
   "outputs": [
    {
     "data": {
      "text/plain": [
       "array([[1.02389878e-03, 9.13776945e-04, 6.82989691e-04, ...,\n",
       "        4.66260544e-04, 9.61842784e-01, 1.43955014e-02],\n",
       "       [1.87441425e-04, 1.60496720e-04, 4.68603561e-05, ...,\n",
       "        1.49718838e-03, 9.21023899e-01, 9.91096532e-03],\n",
       "       [3.30599813e-03, 3.01312090e-03, 1.60848172e-03, ...,\n",
       "        1.51124649e-03, 9.03202905e-01, 4.46965792e-02],\n",
       "       ...,\n",
       "       [5.35262418e-03, 3.85777882e-03, 3.39151828e-03, ...,\n",
       "        3.84840675e-03, 7.55377226e-01, 8.96989222e-02],\n",
       "       [5.31865042e-04, 4.18228679e-04, 3.61996251e-04, ...,\n",
       "        2.09348641e-03, 9.11008669e-01, 1.92396907e-02],\n",
       "       [3.63636364e-03, 2.69915651e-03, 1.90604499e-03, ...,\n",
       "        1.96579194e-03, 9.25014058e-01, 4.34594658e-02]])"
      ]
     },
     "execution_count": 26,
     "metadata": {},
     "output_type": "execute_result"
    }
   ],
   "source": [
    "X_train"
   ]
  },
  {
   "cell_type": "code",
   "execution_count": 27,
   "metadata": {
    "colab": {
     "base_uri": "https://localhost:8080/"
    },
    "id": "HT1NEdRiKJ80",
    "outputId": "3653820c-e209-49b7-e397-febe7e083a08"
   },
   "outputs": [
    {
     "name": "stdout",
     "output_type": "stream",
     "text": [
      "Training Score: 0.625\n",
      "Testing Score: 0.6818181818181818\n"
     ]
    }
   ],
   "source": [
    "param_grid = {'C':[2**1], 'gamma':[0.1, 10], 'kernel':['poly']}\n",
    "gridSVM = GridSearchCV(SVC(), param_grid=param_grid, cv = 5)\n",
    "\n",
    "#gridSVM = SVC(C=2, gamma=0.1, kernel='poly')\n",
    "gridSVM.fit(X_train, Y_train)\n",
    "\n",
    "print('Training Score: ' + str(gridSVM.score(X_train, Y_train)))\n",
    "print(\"Testing Score: \" + str(gridSVM.score(X_test, Y_test)))"
   ]
  },
  {
   "cell_type": "code",
   "execution_count": 28,
   "metadata": {
    "colab": {
     "base_uri": "https://localhost:8080/"
    },
    "id": "zYs1Vck0LqWy",
    "outputId": "1053adb3-18b5-48e1-ed3d-d0745a9984c7"
   },
   "outputs": [
    {
     "data": {
      "text/plain": [
       "{'C': 2, 'gamma': 10, 'kernel': 'poly'}"
      ]
     },
     "execution_count": 28,
     "metadata": {},
     "output_type": "execute_result"
    }
   ],
   "source": [
    "gridSVM.best_params_"
   ]
  },
  {
   "cell_type": "code",
   "execution_count": 29,
   "metadata": {
    "colab": {
     "base_uri": "https://localhost:8080/"
    },
    "id": "i2iP0VIRKKCa",
    "outputId": "d6327ae1-d5ae-40c2-ebbe-b1243fa3f0c3"
   },
   "outputs": [
    {
     "name": "stdout",
     "output_type": "stream",
     "text": [
      "Training Score: 0.756578947368421\n",
      "Testing Score: 0.6212121212121212\n"
     ]
    }
   ],
   "source": [
    "param_grid = {'C':[0.5, 2**1, 2**2, 2**3 ], 'gamma':[0.1, 2, 10, 100], 'kernel':['poly']}\n",
    "gridSVM = GridSearchCV(SVC(), param_grid=param_grid, cv = 5)\n",
    "\n",
    "#gridSVM = SVC(C=2, gamma=0.1, kernel='poly')\n",
    "gridSVM.fit(X_train, Y_train)\n",
    "\n",
    "print('Training Score: ' + str(gridSVM.score(X_train, Y_train)))\n",
    "print(\"Testing Score: \" + str(gridSVM.score(X_test, Y_test)))"
   ]
  },
  {
   "cell_type": "code",
   "execution_count": 30,
   "metadata": {
    "colab": {
     "base_uri": "https://localhost:8080/"
    },
    "id": "zygBgFI-L21m",
    "outputId": "f533e619-83bf-4eb6-a2bb-fe28c1fe46bc"
   },
   "outputs": [
    {
     "data": {
      "text/plain": [
       "{'C': 8, 'gamma': 100, 'kernel': 'poly'}"
      ]
     },
     "execution_count": 30,
     "metadata": {},
     "output_type": "execute_result"
    }
   ],
   "source": [
    "gridSVM.best_params_"
   ]
  },
  {
   "cell_type": "code",
   "execution_count": 31,
   "metadata": {
    "colab": {
     "base_uri": "https://localhost:8080/"
    },
    "id": "Bcl4V-dkL6ZB",
    "outputId": "e2a01df0-9ba8-4cc8-b99e-2df359b22754"
   },
   "outputs": [
    {
     "name": "stdout",
     "output_type": "stream",
     "text": [
      "Training Score: 0.756578947368421\n",
      "Testing Score: 0.6212121212121212\n"
     ]
    }
   ],
   "source": [
    "param_grid = {'C':[0.5, 2**1, 2**2, 2**3, 2**4, 2**5 ], 'gamma':[0.01, 0.1, 2, 10, 100], 'kernel':['poly']}\n",
    "gridSVM = GridSearchCV(SVC(), param_grid=param_grid, cv = 5)\n",
    "\n",
    "#gridSVM = SVC(C=2, gamma=0.1, kernel='poly')\n",
    "gridSVM.fit(X_train, Y_train)\n",
    "\n",
    "print('Training Score: ' + str(gridSVM.score(X_train, Y_train)))\n",
    "print(\"Testing Score: \" + str(gridSVM.score(X_test, Y_test)))"
   ]
  },
  {
   "cell_type": "code",
   "execution_count": 32,
   "metadata": {
    "colab": {
     "base_uri": "https://localhost:8080/"
    },
    "id": "iWLwgY4AMJE8",
    "outputId": "d86f9a95-2c2d-4a2e-f240-3af09931ac40"
   },
   "outputs": [
    {
     "data": {
      "text/plain": [
       "{'C': 8, 'gamma': 100, 'kernel': 'poly'}"
      ]
     },
     "execution_count": 32,
     "metadata": {},
     "output_type": "execute_result"
    }
   ],
   "source": [
    "gridSVM.best_params_"
   ]
  },
  {
   "cell_type": "code",
   "execution_count": 33,
   "metadata": {
    "colab": {
     "base_uri": "https://localhost:8080/"
    },
    "id": "rIpLVN_ZMOMv",
    "outputId": "63c3a7ad-ff3d-4a2e-95c2-8914fdba029d"
   },
   "outputs": [
    {
     "name": "stdout",
     "output_type": "stream",
     "text": [
      "Training Score: 0.756578947368421\n",
      "Testing Score: 0.6212121212121212\n"
     ]
    }
   ],
   "source": [
    "param_grid = {'C':[0.5, 2**1, 2**2, 2**3, 2**4, 2**5, 2**6, 2**8 ], 'gamma':[0.01, 0.1, 2, 10, 100], 'kernel':['poly', 'linear', 'rbf', 'sigmoid']}\n",
    "gridSVM = GridSearchCV(SVC(), param_grid=param_grid, cv = 5)\n",
    "\n",
    "#gridSVM = SVC(C=2, gamma=0.1, kernel='poly')\n",
    "gridSVM.fit(X_train, Y_train)\n",
    "\n",
    "print('Training Score: ' + str(gridSVM.score(X_train, Y_train)))\n",
    "print(\"Testing Score: \" + str(gridSVM.score(X_test, Y_test)))"
   ]
  },
  {
   "cell_type": "code",
   "execution_count": 34,
   "metadata": {
    "colab": {
     "base_uri": "https://localhost:8080/"
    },
    "id": "6cFNDCZ9MyVP",
    "outputId": "9853c70a-cc71-4dc3-c7b6-f01091ae1d1e"
   },
   "outputs": [
    {
     "data": {
      "text/plain": [
       "{'C': 8, 'gamma': 100, 'kernel': 'poly'}"
      ]
     },
     "execution_count": 34,
     "metadata": {},
     "output_type": "execute_result"
    }
   ],
   "source": [
    "gridSVM.best_params_"
   ]
  },
  {
   "cell_type": "code",
   "execution_count": 35,
   "metadata": {
    "colab": {
     "base_uri": "https://localhost:8080/"
    },
    "id": "BitYRoIBNC52",
    "outputId": "0a452890-33e4-40dd-b543-54b52670c1f4"
   },
   "outputs": [
    {
     "name": "stdout",
     "output_type": "stream",
     "text": [
      "Training Score: 0.6052631578947368\n",
      "Testing Score: 0.6666666666666666\n"
     ]
    }
   ],
   "source": [
    "param_grid = {'C':[0.5, 2**1, 2**2, 2**3 ], 'gamma':[0.1, 2, 10, 100], 'kernel':['linear']}\n",
    "gridSVM = GridSearchCV(SVC(), param_grid=param_grid, cv = 5)\n",
    "\n",
    "#gridSVM = SVC(C=2, gamma=0.1, kernel='poly')\n",
    "gridSVM.fit(X_train, Y_train)\n",
    "\n",
    "print('Training Score: ' + str(gridSVM.score(X_train, Y_train)))\n",
    "print(\"Testing Score: \" + str(gridSVM.score(X_test, Y_test)))"
   ]
  },
  {
   "cell_type": "code",
   "execution_count": 36,
   "metadata": {
    "colab": {
     "base_uri": "https://localhost:8080/"
    },
    "id": "w2G6MvqRxucm",
    "outputId": "c5a88f48-95e2-4481-a314-fe888b784b43"
   },
   "outputs": [
    {
     "data": {
      "text/plain": [
       "{'C': 0.5, 'gamma': 0.1, 'kernel': 'linear'}"
      ]
     },
     "execution_count": 36,
     "metadata": {},
     "output_type": "execute_result"
    }
   ],
   "source": [
    "gridSVM.best_params_"
   ]
  },
  {
   "cell_type": "code",
   "execution_count": 37,
   "metadata": {
    "colab": {
     "base_uri": "https://localhost:8080/"
    },
    "id": "mvT5hZS3x8Bl",
    "outputId": "984bc4f5-417f-4922-aeaa-faa628a0e8cc"
   },
   "outputs": [
    {
     "name": "stdout",
     "output_type": "stream",
     "text": [
      "Training Score: 0.6052631578947368\n",
      "Testing Score: 0.6666666666666666\n"
     ]
    }
   ],
   "source": [
    "param_grid = {'C':[0.5, 2**1, 2**2, 2**3 ], 'gamma':[0.1, 2, 10, 100], 'kernel':['sigmoid']}\n",
    "gridSVM = GridSearchCV(SVC(), param_grid=param_grid, cv = 5)\n",
    "\n",
    "#gridSVM = SVC(C=2, gamma=0.1, kernel='poly')\n",
    "gridSVM.fit(X_train, Y_train)\n",
    "\n",
    "print('Training Score: ' + str(gridSVM.score(X_train, Y_train)))\n",
    "print(\"Testing Score: \" + str(gridSVM.score(X_test, Y_test)))"
   ]
  },
  {
   "cell_type": "code",
   "execution_count": 38,
   "metadata": {
    "colab": {
     "base_uri": "https://localhost:8080/"
    },
    "id": "hlc9ZV4Dx93m",
    "outputId": "d4307b26-cda8-49d8-b6ba-d81a431f50fe"
   },
   "outputs": [
    {
     "data": {
      "text/plain": [
       "{'C': 0.5, 'gamma': 0.1, 'kernel': 'sigmoid'}"
      ]
     },
     "execution_count": 38,
     "metadata": {},
     "output_type": "execute_result"
    }
   ],
   "source": [
    "gridSVM.best_params_"
   ]
  },
  {
   "cell_type": "markdown",
   "metadata": {
    "id": "m3wKRULZNeuE"
   },
   "source": [
    "## KNN"
   ]
  },
  {
   "cell_type": "code",
   "execution_count": 39,
   "metadata": {
    "id": "3A5q7ojKNgPX"
   },
   "outputs": [],
   "source": [
    "from sklearn.neighbors import KNeighborsClassifier\n"
   ]
  },
  {
   "cell_type": "code",
   "execution_count": 40,
   "metadata": {
    "colab": {
     "base_uri": "https://localhost:8080/"
    },
    "id": "dUljPSQ10pOc",
    "outputId": "04911561-ead7-4cbf-f580-42c9af35970b"
   },
   "outputs": [
    {
     "data": {
      "text/plain": [
       "0.6060606060606061"
      ]
     },
     "execution_count": 40,
     "metadata": {},
     "output_type": "execute_result"
    }
   ],
   "source": [
    "model = KNeighborsClassifier(n_neighbors=1, weights='uniform', algorithm='auto', leaf_size=30, p=2, metric_params=None, n_jobs=-1)\n",
    "model.fit(X_train, Y_train)\n",
    "model.score(X_test, Y_test)"
   ]
  },
  {
   "cell_type": "code",
   "execution_count": 41,
   "metadata": {
    "colab": {
     "base_uri": "https://localhost:8080/"
    },
    "id": "ZKJdq79C2zEE",
    "outputId": "645f431d-e8fd-4203-a003-5de00b978965"
   },
   "outputs": [
    {
     "data": {
      "text/plain": [
       "0.6060606060606061"
      ]
     },
     "execution_count": 41,
     "metadata": {},
     "output_type": "execute_result"
    }
   ],
   "source": [
    "knnAlgos = ['auto', 'ball_tree', 'kd_tree', 'brute']\n",
    "\n",
    "model = KNeighborsClassifier(n_neighbors=1, weights='uniform', algorithm=knnAlgos[3], leaf_size=30, p=2, metric_params=None, n_jobs=-1)\n",
    "model.fit(X_train, Y_train)\n",
    "model.score(X_test, Y_test)"
   ]
  },
  {
   "cell_type": "code",
   "execution_count": 42,
   "metadata": {
    "colab": {
     "base_uri": "https://localhost:8080/"
    },
    "id": "pmIuW2gT0o-D",
    "outputId": "638cbdd4-72b8-4c68-c4dd-929dd1629c4b"
   },
   "outputs": [
    {
     "data": {
      "text/plain": [
       "0.6363636363636364"
      ]
     },
     "execution_count": 42,
     "metadata": {},
     "output_type": "execute_result"
    }
   ],
   "source": [
    "model = KNeighborsClassifier(n_neighbors=3, weights='uniform', algorithm='ball_tree', leaf_size=30, p=2, metric_params=None, n_jobs=-1)\n",
    "model.fit(X_train, Y_train)\n",
    "model.score(X_test, Y_test)"
   ]
  },
  {
   "cell_type": "code",
   "execution_count": 43,
   "metadata": {
    "colab": {
     "base_uri": "https://localhost:8080/"
    },
    "id": "Np9BjbYa2O55",
    "outputId": "83da5e63-4274-4f6c-ad3b-76f2ad081135"
   },
   "outputs": [
    {
     "data": {
      "text/plain": [
       "0.5454545454545454"
      ]
     },
     "execution_count": 43,
     "metadata": {},
     "output_type": "execute_result"
    }
   ],
   "source": [
    "model = KNeighborsClassifier(n_neighbors=5, weights='uniform', algorithm='auto', leaf_size=30, p=2, metric_params=None, n_jobs=-1)\n",
    "model.fit(X_train, Y_train)\n",
    "model.score(X_test, Y_test)"
   ]
  },
  {
   "cell_type": "code",
   "execution_count": 44,
   "metadata": {
    "colab": {
     "base_uri": "https://localhost:8080/"
    },
    "id": "IywS1i_ZB4bs",
    "outputId": "f7bc60b3-3aa6-4a34-bc56-918a17a7d33a"
   },
   "outputs": [
    {
     "data": {
      "text/plain": [
       "0.6212121212121212"
      ]
     },
     "execution_count": 44,
     "metadata": {},
     "output_type": "execute_result"
    }
   ],
   "source": [
    "model = KNeighborsClassifier(n_neighbors=7, weights='uniform', algorithm='auto', leaf_size=30, p=2, metric_params=None, n_jobs=-1)\n",
    "model.fit(X_train, Y_train)\n",
    "model.score(X_test, Y_test)"
   ]
  },
  {
   "cell_type": "code",
   "execution_count": 45,
   "metadata": {
    "colab": {
     "base_uri": "https://localhost:8080/"
    },
    "id": "qqTwHQQ2CnTD",
    "outputId": "1cb09440-f6a6-4b63-de3a-776dc2e6868e"
   },
   "outputs": [
    {
     "data": {
      "text/plain": [
       "0.6515151515151515"
      ]
     },
     "execution_count": 45,
     "metadata": {},
     "output_type": "execute_result"
    }
   ],
   "source": [
    "model = KNeighborsClassifier(n_neighbors=21, weights='uniform', algorithm='auto', leaf_size=30, p=2, metric_params=None, n_jobs=-1)\n",
    "model.fit(X_train, Y_train)\n",
    "model.score(X_test, Y_test)"
   ]
  },
  {
   "cell_type": "code",
   "execution_count": 46,
   "metadata": {
    "colab": {
     "base_uri": "https://localhost:8080/"
    },
    "id": "LBY8a4IdCwKb",
    "outputId": "10bc808d-1850-4dde-d0ec-4e1baf04ccae"
   },
   "outputs": [
    {
     "data": {
      "text/plain": [
       "0.6515151515151515"
      ]
     },
     "execution_count": 46,
     "metadata": {},
     "output_type": "execute_result"
    }
   ],
   "source": [
    "model = KNeighborsClassifier(n_neighbors=21, weights='uniform', algorithm='kd_tree', leaf_size=30, p=2, metric_params=None, n_jobs=-1)\n",
    "model.fit(X_train, Y_train)\n",
    "model.score(X_test, Y_test)"
   ]
  },
  {
   "cell_type": "code",
   "execution_count": 47,
   "metadata": {
    "colab": {
     "base_uri": "https://localhost:8080/"
    },
    "id": "RoN44Woz2bTs",
    "outputId": "7ca90098-3005-4b65-83ff-13cebf8ecefd"
   },
   "outputs": [
    {
     "data": {
      "text/plain": [
       "0.6666666666666666"
      ]
     },
     "execution_count": 47,
     "metadata": {},
     "output_type": "execute_result"
    }
   ],
   "source": [
    "model = KNeighborsClassifier(n_neighbors=61, weights='uniform', algorithm='auto', leaf_size=30, p=2, metric_params=None, n_jobs=-1)\n",
    "model.fit(X_train, Y_train)\n",
    "model.score(X_test, Y_test)"
   ]
  },
  {
   "cell_type": "code",
   "execution_count": 48,
   "metadata": {
    "colab": {
     "base_uri": "https://localhost:8080/"
    },
    "id": "CcOk9R393SOq",
    "outputId": "440ab293-5248-4c9d-e1b0-8331c204e7ab"
   },
   "outputs": [
    {
     "data": {
      "text/plain": [
       "GridSearchCV(cv=5, estimator=KNeighborsClassifier(),\n",
       "             param_grid={'algorithm': ['auto', 'ball_tree', 'kd_tree', 'brute'],\n",
       "                         'n_neighbors': [1, 3, 5, 21, 61]})"
      ]
     },
     "execution_count": 48,
     "metadata": {},
     "output_type": "execute_result"
    }
   ],
   "source": [
    "# Grid Search\n",
    "param_grid = {'n_neighbors':[1, 3, 5, 21, 61], 'algorithm':['auto', 'ball_tree', 'kd_tree', 'brute']}\n",
    "\n",
    "gridKNN = GridSearchCV(KNeighborsClassifier(), param_grid=param_grid, cv=5)\n",
    "gridKNN.fit(X_train, Y_train)"
   ]
  },
  {
   "cell_type": "code",
   "execution_count": 49,
   "metadata": {
    "colab": {
     "base_uri": "https://localhost:8080/"
    },
    "id": "TqvxR4Qb34Vz",
    "outputId": "232ea0b8-da25-4e09-c4b6-b820d893bde5"
   },
   "outputs": [
    {
     "data": {
      "text/plain": [
       "0.5454545454545454"
      ]
     },
     "execution_count": 49,
     "metadata": {},
     "output_type": "execute_result"
    }
   ],
   "source": [
    "gridKNN.score(X_test, Y_test)"
   ]
  },
  {
   "cell_type": "code",
   "execution_count": 50,
   "metadata": {
    "colab": {
     "base_uri": "https://localhost:8080/"
    },
    "id": "dyCDtm0o348f",
    "outputId": "87922e17-364a-4c86-dc9a-411cd76c24cc"
   },
   "outputs": [
    {
     "data": {
      "text/plain": [
       "0.6503225806451612"
      ]
     },
     "execution_count": 50,
     "metadata": {},
     "output_type": "execute_result"
    }
   ],
   "source": [
    "gridKNN.best_score_"
   ]
  },
  {
   "cell_type": "code",
   "execution_count": 51,
   "metadata": {
    "colab": {
     "base_uri": "https://localhost:8080/"
    },
    "id": "nd4Z2Qoq4euN",
    "outputId": "cfad17a9-5e03-4a2b-afa7-8473d3f95561"
   },
   "outputs": [
    {
     "data": {
      "text/plain": [
       "{'algorithm': 'auto', 'n_neighbors': 5}"
      ]
     },
     "execution_count": 51,
     "metadata": {},
     "output_type": "execute_result"
    }
   ],
   "source": [
    "gridKNN.best_params_"
   ]
  },
  {
   "cell_type": "markdown",
   "metadata": {
    "id": "a9tw0tQD0p2p"
   },
   "source": [
    "# Random Forest"
   ]
  },
  {
   "cell_type": "code",
   "execution_count": 52,
   "metadata": {
    "colab": {
     "base_uri": "https://localhost:8080/"
    },
    "id": "ffQn1hRc1XjO",
    "outputId": "a989f373-5398-4118-d54b-b7fb42e6fc75"
   },
   "outputs": [
    {
     "name": "stdout",
     "output_type": "stream",
     "text": [
      "Training Score: 0.9868421052631579\n",
      "Testing Score: 0.6060606060606061\n"
     ]
    }
   ],
   "source": [
    "param_grid = {'n_estimators':[1500, 1800, 2000]}\n",
    "#gridRFT = GridSearchCV(RandomForestClassifier(), param_grid=param_grid, cv = 5)\n",
    "gridRFT = RandomForestClassifier(n_estimators=10)\n",
    "gridRFT.fit(X_train, Y_train)\n",
    "\n",
    "print('Training Score: ' + str(gridRFT.score(X_train, Y_train)))\n",
    "print(\"Testing Score: \" + str(gridRFT.score(X_test, Y_test)))"
   ]
  },
  {
   "cell_type": "code",
   "execution_count": 53,
   "metadata": {
    "colab": {
     "base_uri": "https://localhost:8080/"
    },
    "id": "7gZgk9Yy1dFQ",
    "outputId": "3646c15f-fc31-4bff-c309-0f5f0cdf3f5f"
   },
   "outputs": [
    {
     "name": "stdout",
     "output_type": "stream",
     "text": [
      "Training Score: 0.993421052631579\n",
      "Testing Score: 0.5606060606060606\n"
     ]
    }
   ],
   "source": [
    "param_grid = {'n_estimators':[1500, 1800, 2000]}\n",
    "#gridRFT = GridSearchCV(RandomForestClassifier(), param_grid=param_grid, cv = 5)\n",
    "gridRFT = RandomForestClassifier(n_estimators=20)\n",
    "gridRFT.fit(X_train, Y_train)\n",
    "\n",
    "print('Training Score: ' + str(gridRFT.score(X_train, Y_train)))\n",
    "print(\"Testing Score: \" + str(gridRFT.score(X_test, Y_test)))"
   ]
  },
  {
   "cell_type": "code",
   "execution_count": 54,
   "metadata": {
    "colab": {
     "base_uri": "https://localhost:8080/"
    },
    "id": "vHdrDlE_1TaW",
    "outputId": "ed01c8dc-aff1-4eeb-c0d1-efef8283796a"
   },
   "outputs": [
    {
     "name": "stdout",
     "output_type": "stream",
     "text": [
      "Training Score: 1.0\n",
      "Testing Score: 0.6818181818181818\n"
     ]
    }
   ],
   "source": [
    "param_grid = {'n_estimators':[1500, 1800, 2000]}\n",
    "#gridRFT = GridSearchCV(RandomForestClassifier(), param_grid=param_grid, cv = 5)\n",
    "gridRFT = RandomForestClassifier(n_estimators=30)\n",
    "gridRFT.fit(X_train, Y_train)\n",
    "\n",
    "print('Training Score: ' + str(gridRFT.score(X_train, Y_train)))\n",
    "print(\"Testing Score: \" + str(gridRFT.score(X_test, Y_test)))"
   ]
  },
  {
   "cell_type": "code",
   "execution_count": 55,
   "metadata": {
    "colab": {
     "base_uri": "https://localhost:8080/"
    },
    "id": "Gdci3IYk1Iky",
    "outputId": "8608d676-f334-4c63-d9e1-6a6eb740249e"
   },
   "outputs": [
    {
     "name": "stdout",
     "output_type": "stream",
     "text": [
      "Training Score: 1.0\n",
      "Testing Score: 0.5454545454545454\n"
     ]
    }
   ],
   "source": [
    "param_grid = {'n_estimators':[1500, 1800, 2000]}\n",
    "#gridRFT = GridSearchCV(RandomForestClassifier(), param_grid=param_grid, cv = 5)\n",
    "gridRFT = RandomForestClassifier(n_estimators=50)\n",
    "gridRFT.fit(X_train, Y_train)\n",
    "\n",
    "print('Training Score: ' + str(gridRFT.score(X_train, Y_train)))\n",
    "print(\"Testing Score: \" + str(gridRFT.score(X_test, Y_test)))"
   ]
  },
  {
   "cell_type": "code",
   "execution_count": 56,
   "metadata": {
    "colab": {
     "base_uri": "https://localhost:8080/"
    },
    "id": "hEQaN8EY0tln",
    "outputId": "0f18fc21-8d4b-4183-b601-919c2b0039be"
   },
   "outputs": [
    {
     "name": "stdout",
     "output_type": "stream",
     "text": [
      "Training Score: 1.0\n",
      "Testing Score: 0.6212121212121212\n"
     ]
    }
   ],
   "source": [
    "param_grid = {'n_estimators':[1500, 1800, 2000]}\n",
    "#gridRFT = GridSearchCV(RandomForestClassifier(), param_grid=param_grid, cv = 5)\n",
    "gridRFT = RandomForestClassifier(n_estimators=500)\n",
    "gridRFT.fit(X_train, Y_train)\n",
    "\n",
    "print('Training Score: ' + str(gridRFT.score(X_train, Y_train)))\n",
    "print(\"Testing Score: \" + str(gridRFT.score(X_test, Y_test)))"
   ]
  },
  {
   "cell_type": "code",
   "execution_count": 57,
   "metadata": {
    "colab": {
     "base_uri": "https://localhost:8080/"
    },
    "id": "7avxs-tp1Cvb",
    "outputId": "e6b583e4-eef6-493e-da7c-57a54a54c970"
   },
   "outputs": [
    {
     "name": "stdout",
     "output_type": "stream",
     "text": [
      "Training Score: 1.0\n",
      "Testing Score: 0.6060606060606061\n"
     ]
    }
   ],
   "source": [
    "param_grid = {'n_estimators':[1500, 1800, 2000]}\n",
    "#gridRFT = GridSearchCV(RandomForestClassifier(), param_grid=param_grid, cv = 5)\n",
    "gridRFT = RandomForestClassifier(n_estimators=700)\n",
    "gridRFT.fit(X_train, Y_train)\n",
    "\n",
    "print('Training Score: ' + str(gridRFT.score(X_train, Y_train)))\n",
    "print(\"Testing Score: \" + str(gridRFT.score(X_test, Y_test)))"
   ]
  },
  {
   "cell_type": "code",
   "execution_count": 58,
   "metadata": {
    "colab": {
     "base_uri": "https://localhost:8080/"
    },
    "id": "rV7dz99a1NLk",
    "outputId": "4c39082e-3747-40bf-f60c-b573fa81a417"
   },
   "outputs": [
    {
     "name": "stdout",
     "output_type": "stream",
     "text": [
      "Training Score: 1.0\n",
      "Testing Score: 0.6212121212121212\n"
     ]
    }
   ],
   "source": [
    "param_grid = {'n_estimators':[1500, 1800, 2000]}\n",
    "#gridRFT = GridSearchCV(RandomForestClassifier(), param_grid=param_grid, cv = 5)\n",
    "gridRFT = RandomForestClassifier(n_estimators=1000)\n",
    "gridRFT.fit(X_train, Y_train)\n",
    "\n",
    "print('Training Score: ' + str(gridRFT.score(X_train, Y_train)))\n",
    "print(\"Testing Score: \" + str(gridRFT.score(X_test, Y_test)))"
   ]
  },
  {
   "cell_type": "code",
   "execution_count": 59,
   "metadata": {
    "colab": {
     "base_uri": "https://localhost:8080/"
    },
    "id": "xcw9iyp9105A",
    "outputId": "28b2f8fe-9ab5-4319-cf36-33081408db3e"
   },
   "outputs": [
    {
     "name": "stdout",
     "output_type": "stream",
     "text": [
      "Training Score: 1.0\n",
      "Testing Score: 0.6212121212121212\n"
     ]
    }
   ],
   "source": [
    "param_grid = {'n_estimators':[1500, 1800, 2000]}\n",
    "#gridRFT = GridSearchCV(RandomForestClassifier(), param_grid=param_grid, cv = 5)\n",
    "gridRFT = RandomForestClassifier(n_estimators=1200)\n",
    "gridRFT.fit(X_train, Y_train)\n",
    "\n",
    "print('Training Score: ' + str(gridRFT.score(X_train, Y_train)))\n",
    "print(\"Testing Score: \" + str(gridRFT.score(X_test, Y_test)))"
   ]
  },
  {
   "cell_type": "code",
   "execution_count": 60,
   "metadata": {
    "colab": {
     "base_uri": "https://localhost:8080/"
    },
    "id": "QrtNJJiX13xU",
    "outputId": "6332c4ca-ce3a-48dc-cbc4-fb98b7922106"
   },
   "outputs": [
    {
     "name": "stdout",
     "output_type": "stream",
     "text": [
      "Training Score: 1.0\n",
      "Testing Score: 0.5757575757575758\n"
     ]
    }
   ],
   "source": [
    "param_grid = {'n_estimators':[1500, 1800, 2000]}\n",
    "#gridRFT = GridSearchCV(RandomForestClassifier(), param_grid=param_grid, cv = 5)\n",
    "gridRFT = RandomForestClassifier(n_estimators=3500)\n",
    "gridRFT.fit(X_train, Y_train)\n",
    "\n",
    "print('Training Score: ' + str(gridRFT.score(X_train, Y_train)))\n",
    "print(\"Testing Score: \" + str(gridRFT.score(X_test, Y_test)))"
   ]
  },
  {
   "cell_type": "code",
   "execution_count": null,
   "metadata": {
    "id": "FtzIgZIF18Fv"
   },
   "outputs": [],
   "source": []
  },
  {
   "cell_type": "markdown",
   "metadata": {
    "id": "1yKB_VK14qqL"
   },
   "source": [
    "# MLP"
   ]
  },
  {
   "cell_type": "code",
   "execution_count": 61,
   "metadata": {
    "id": "XQhZbLKE5i38"
   },
   "outputs": [],
   "source": [
    "from sklearn.neural_network import MLPClassifier\n"
   ]
  },
  {
   "cell_type": "code",
   "execution_count": 62,
   "metadata": {
    "id": "ufQwTjsB4saS"
   },
   "outputs": [
    {
     "name": "stderr",
     "output_type": "stream",
     "text": [
      "C:\\Users\\H P\\Envs\\mldsenv\\lib\\site-packages\\sklearn\\neural_network\\_multilayer_perceptron.py:549: ConvergenceWarning: lbfgs failed to converge (status=1):\n",
      "STOP: TOTAL NO. of ITERATIONS REACHED LIMIT.\n",
      "\n",
      "Increase the number of iterations (max_iter) or scale the data as shown in:\n",
      "    https://scikit-learn.org/stable/modules/preprocessing.html\n",
      "  self.n_iter_ = _check_optimize_result(\"lbfgs\", opt_res, self.max_iter)\n",
      "C:\\Users\\H P\\Envs\\mldsenv\\lib\\site-packages\\sklearn\\neural_network\\_multilayer_perceptron.py:549: ConvergenceWarning: lbfgs failed to converge (status=1):\n",
      "STOP: TOTAL NO. of ITERATIONS REACHED LIMIT.\n",
      "\n",
      "Increase the number of iterations (max_iter) or scale the data as shown in:\n",
      "    https://scikit-learn.org/stable/modules/preprocessing.html\n",
      "  self.n_iter_ = _check_optimize_result(\"lbfgs\", opt_res, self.max_iter)\n",
      "C:\\Users\\H P\\Envs\\mldsenv\\lib\\site-packages\\sklearn\\neural_network\\_multilayer_perceptron.py:549: ConvergenceWarning: lbfgs failed to converge (status=1):\n",
      "STOP: TOTAL NO. of ITERATIONS REACHED LIMIT.\n",
      "\n",
      "Increase the number of iterations (max_iter) or scale the data as shown in:\n",
      "    https://scikit-learn.org/stable/modules/preprocessing.html\n",
      "  self.n_iter_ = _check_optimize_result(\"lbfgs\", opt_res, self.max_iter)\n",
      "C:\\Users\\H P\\Envs\\mldsenv\\lib\\site-packages\\sklearn\\neural_network\\_multilayer_perceptron.py:549: ConvergenceWarning: lbfgs failed to converge (status=1):\n",
      "STOP: TOTAL NO. of ITERATIONS REACHED LIMIT.\n",
      "\n",
      "Increase the number of iterations (max_iter) or scale the data as shown in:\n",
      "    https://scikit-learn.org/stable/modules/preprocessing.html\n",
      "  self.n_iter_ = _check_optimize_result(\"lbfgs\", opt_res, self.max_iter)\n",
      "C:\\Users\\H P\\Envs\\mldsenv\\lib\\site-packages\\sklearn\\neural_network\\_multilayer_perceptron.py:549: ConvergenceWarning: lbfgs failed to converge (status=1):\n",
      "STOP: TOTAL NO. of ITERATIONS REACHED LIMIT.\n",
      "\n",
      "Increase the number of iterations (max_iter) or scale the data as shown in:\n",
      "    https://scikit-learn.org/stable/modules/preprocessing.html\n",
      "  self.n_iter_ = _check_optimize_result(\"lbfgs\", opt_res, self.max_iter)\n",
      "C:\\Users\\H P\\Envs\\mldsenv\\lib\\site-packages\\sklearn\\neural_network\\_multilayer_perceptron.py:549: ConvergenceWarning: lbfgs failed to converge (status=1):\n",
      "STOP: TOTAL NO. of ITERATIONS REACHED LIMIT.\n",
      "\n",
      "Increase the number of iterations (max_iter) or scale the data as shown in:\n",
      "    https://scikit-learn.org/stable/modules/preprocessing.html\n",
      "  self.n_iter_ = _check_optimize_result(\"lbfgs\", opt_res, self.max_iter)\n",
      "C:\\Users\\H P\\Envs\\mldsenv\\lib\\site-packages\\sklearn\\neural_network\\_multilayer_perceptron.py:549: ConvergenceWarning: lbfgs failed to converge (status=1):\n",
      "STOP: TOTAL NO. of ITERATIONS REACHED LIMIT.\n",
      "\n",
      "Increase the number of iterations (max_iter) or scale the data as shown in:\n",
      "    https://scikit-learn.org/stable/modules/preprocessing.html\n",
      "  self.n_iter_ = _check_optimize_result(\"lbfgs\", opt_res, self.max_iter)\n",
      "C:\\Users\\H P\\Envs\\mldsenv\\lib\\site-packages\\sklearn\\neural_network\\_multilayer_perceptron.py:549: ConvergenceWarning: lbfgs failed to converge (status=1):\n",
      "STOP: TOTAL NO. of ITERATIONS REACHED LIMIT.\n",
      "\n",
      "Increase the number of iterations (max_iter) or scale the data as shown in:\n",
      "    https://scikit-learn.org/stable/modules/preprocessing.html\n",
      "  self.n_iter_ = _check_optimize_result(\"lbfgs\", opt_res, self.max_iter)\n",
      "C:\\Users\\H P\\Envs\\mldsenv\\lib\\site-packages\\sklearn\\neural_network\\_multilayer_perceptron.py:549: ConvergenceWarning: lbfgs failed to converge (status=1):\n",
      "STOP: TOTAL NO. of ITERATIONS REACHED LIMIT.\n",
      "\n",
      "Increase the number of iterations (max_iter) or scale the data as shown in:\n",
      "    https://scikit-learn.org/stable/modules/preprocessing.html\n",
      "  self.n_iter_ = _check_optimize_result(\"lbfgs\", opt_res, self.max_iter)\n",
      "C:\\Users\\H P\\Envs\\mldsenv\\lib\\site-packages\\sklearn\\neural_network\\_multilayer_perceptron.py:549: ConvergenceWarning: lbfgs failed to converge (status=1):\n",
      "STOP: TOTAL NO. of ITERATIONS REACHED LIMIT.\n",
      "\n",
      "Increase the number of iterations (max_iter) or scale the data as shown in:\n",
      "    https://scikit-learn.org/stable/modules/preprocessing.html\n",
      "  self.n_iter_ = _check_optimize_result(\"lbfgs\", opt_res, self.max_iter)\n",
      "C:\\Users\\H P\\Envs\\mldsenv\\lib\\site-packages\\sklearn\\neural_network\\_multilayer_perceptron.py:549: ConvergenceWarning: lbfgs failed to converge (status=1):\n",
      "STOP: TOTAL NO. of ITERATIONS REACHED LIMIT.\n",
      "\n",
      "Increase the number of iterations (max_iter) or scale the data as shown in:\n",
      "    https://scikit-learn.org/stable/modules/preprocessing.html\n",
      "  self.n_iter_ = _check_optimize_result(\"lbfgs\", opt_res, self.max_iter)\n",
      "C:\\Users\\H P\\Envs\\mldsenv\\lib\\site-packages\\sklearn\\neural_network\\_multilayer_perceptron.py:549: ConvergenceWarning: lbfgs failed to converge (status=1):\n",
      "STOP: TOTAL NO. of ITERATIONS REACHED LIMIT.\n",
      "\n",
      "Increase the number of iterations (max_iter) or scale the data as shown in:\n",
      "    https://scikit-learn.org/stable/modules/preprocessing.html\n",
      "  self.n_iter_ = _check_optimize_result(\"lbfgs\", opt_res, self.max_iter)\n",
      "C:\\Users\\H P\\Envs\\mldsenv\\lib\\site-packages\\sklearn\\neural_network\\_multilayer_perceptron.py:549: ConvergenceWarning: lbfgs failed to converge (status=1):\n",
      "STOP: TOTAL NO. of ITERATIONS REACHED LIMIT.\n",
      "\n",
      "Increase the number of iterations (max_iter) or scale the data as shown in:\n",
      "    https://scikit-learn.org/stable/modules/preprocessing.html\n",
      "  self.n_iter_ = _check_optimize_result(\"lbfgs\", opt_res, self.max_iter)\n",
      "C:\\Users\\H P\\Envs\\mldsenv\\lib\\site-packages\\sklearn\\neural_network\\_multilayer_perceptron.py:549: ConvergenceWarning: lbfgs failed to converge (status=1):\n",
      "STOP: TOTAL NO. of ITERATIONS REACHED LIMIT.\n",
      "\n",
      "Increase the number of iterations (max_iter) or scale the data as shown in:\n",
      "    https://scikit-learn.org/stable/modules/preprocessing.html\n",
      "  self.n_iter_ = _check_optimize_result(\"lbfgs\", opt_res, self.max_iter)\n",
      "C:\\Users\\H P\\Envs\\mldsenv\\lib\\site-packages\\sklearn\\neural_network\\_multilayer_perceptron.py:549: ConvergenceWarning: lbfgs failed to converge (status=1):\n",
      "STOP: TOTAL NO. of ITERATIONS REACHED LIMIT.\n",
      "\n",
      "Increase the number of iterations (max_iter) or scale the data as shown in:\n",
      "    https://scikit-learn.org/stable/modules/preprocessing.html\n",
      "  self.n_iter_ = _check_optimize_result(\"lbfgs\", opt_res, self.max_iter)\n",
      "C:\\Users\\H P\\Envs\\mldsenv\\lib\\site-packages\\sklearn\\neural_network\\_multilayer_perceptron.py:549: ConvergenceWarning: lbfgs failed to converge (status=1):\n",
      "STOP: TOTAL NO. of ITERATIONS REACHED LIMIT.\n",
      "\n",
      "Increase the number of iterations (max_iter) or scale the data as shown in:\n",
      "    https://scikit-learn.org/stable/modules/preprocessing.html\n",
      "  self.n_iter_ = _check_optimize_result(\"lbfgs\", opt_res, self.max_iter)\n",
      "C:\\Users\\H P\\Envs\\mldsenv\\lib\\site-packages\\sklearn\\neural_network\\_multilayer_perceptron.py:549: ConvergenceWarning: lbfgs failed to converge (status=1):\n",
      "STOP: TOTAL NO. of ITERATIONS REACHED LIMIT.\n",
      "\n",
      "Increase the number of iterations (max_iter) or scale the data as shown in:\n",
      "    https://scikit-learn.org/stable/modules/preprocessing.html\n",
      "  self.n_iter_ = _check_optimize_result(\"lbfgs\", opt_res, self.max_iter)\n",
      "C:\\Users\\H P\\Envs\\mldsenv\\lib\\site-packages\\sklearn\\neural_network\\_multilayer_perceptron.py:549: ConvergenceWarning: lbfgs failed to converge (status=1):\n",
      "STOP: TOTAL NO. of ITERATIONS REACHED LIMIT.\n",
      "\n",
      "Increase the number of iterations (max_iter) or scale the data as shown in:\n",
      "    https://scikit-learn.org/stable/modules/preprocessing.html\n",
      "  self.n_iter_ = _check_optimize_result(\"lbfgs\", opt_res, self.max_iter)\n",
      "C:\\Users\\H P\\Envs\\mldsenv\\lib\\site-packages\\sklearn\\neural_network\\_multilayer_perceptron.py:549: ConvergenceWarning: lbfgs failed to converge (status=1):\n",
      "STOP: TOTAL NO. of ITERATIONS REACHED LIMIT.\n",
      "\n",
      "Increase the number of iterations (max_iter) or scale the data as shown in:\n",
      "    https://scikit-learn.org/stable/modules/preprocessing.html\n",
      "  self.n_iter_ = _check_optimize_result(\"lbfgs\", opt_res, self.max_iter)\n",
      "C:\\Users\\H P\\Envs\\mldsenv\\lib\\site-packages\\sklearn\\neural_network\\_multilayer_perceptron.py:549: ConvergenceWarning: lbfgs failed to converge (status=1):\n",
      "STOP: TOTAL NO. of ITERATIONS REACHED LIMIT.\n",
      "\n",
      "Increase the number of iterations (max_iter) or scale the data as shown in:\n",
      "    https://scikit-learn.org/stable/modules/preprocessing.html\n",
      "  self.n_iter_ = _check_optimize_result(\"lbfgs\", opt_res, self.max_iter)\n"
     ]
    },
    {
     "name": "stderr",
     "output_type": "stream",
     "text": [
      "C:\\Users\\H P\\Envs\\mldsenv\\lib\\site-packages\\sklearn\\neural_network\\_multilayer_perceptron.py:549: ConvergenceWarning: lbfgs failed to converge (status=1):\n",
      "STOP: TOTAL NO. of ITERATIONS REACHED LIMIT.\n",
      "\n",
      "Increase the number of iterations (max_iter) or scale the data as shown in:\n",
      "    https://scikit-learn.org/stable/modules/preprocessing.html\n",
      "  self.n_iter_ = _check_optimize_result(\"lbfgs\", opt_res, self.max_iter)\n",
      "C:\\Users\\H P\\Envs\\mldsenv\\lib\\site-packages\\sklearn\\neural_network\\_multilayer_perceptron.py:549: ConvergenceWarning: lbfgs failed to converge (status=1):\n",
      "STOP: TOTAL NO. of ITERATIONS REACHED LIMIT.\n",
      "\n",
      "Increase the number of iterations (max_iter) or scale the data as shown in:\n",
      "    https://scikit-learn.org/stable/modules/preprocessing.html\n",
      "  self.n_iter_ = _check_optimize_result(\"lbfgs\", opt_res, self.max_iter)\n",
      "C:\\Users\\H P\\Envs\\mldsenv\\lib\\site-packages\\sklearn\\neural_network\\_multilayer_perceptron.py:549: ConvergenceWarning: lbfgs failed to converge (status=1):\n",
      "STOP: TOTAL NO. of ITERATIONS REACHED LIMIT.\n",
      "\n",
      "Increase the number of iterations (max_iter) or scale the data as shown in:\n",
      "    https://scikit-learn.org/stable/modules/preprocessing.html\n",
      "  self.n_iter_ = _check_optimize_result(\"lbfgs\", opt_res, self.max_iter)\n",
      "C:\\Users\\H P\\Envs\\mldsenv\\lib\\site-packages\\sklearn\\neural_network\\_multilayer_perceptron.py:549: ConvergenceWarning: lbfgs failed to converge (status=1):\n",
      "STOP: TOTAL NO. of ITERATIONS REACHED LIMIT.\n",
      "\n",
      "Increase the number of iterations (max_iter) or scale the data as shown in:\n",
      "    https://scikit-learn.org/stable/modules/preprocessing.html\n",
      "  self.n_iter_ = _check_optimize_result(\"lbfgs\", opt_res, self.max_iter)\n",
      "C:\\Users\\H P\\Envs\\mldsenv\\lib\\site-packages\\sklearn\\neural_network\\_multilayer_perceptron.py:549: ConvergenceWarning: lbfgs failed to converge (status=1):\n",
      "STOP: TOTAL NO. of ITERATIONS REACHED LIMIT.\n",
      "\n",
      "Increase the number of iterations (max_iter) or scale the data as shown in:\n",
      "    https://scikit-learn.org/stable/modules/preprocessing.html\n",
      "  self.n_iter_ = _check_optimize_result(\"lbfgs\", opt_res, self.max_iter)\n",
      "C:\\Users\\H P\\Envs\\mldsenv\\lib\\site-packages\\sklearn\\neural_network\\_multilayer_perceptron.py:549: ConvergenceWarning: lbfgs failed to converge (status=1):\n",
      "STOP: TOTAL NO. of ITERATIONS REACHED LIMIT.\n",
      "\n",
      "Increase the number of iterations (max_iter) or scale the data as shown in:\n",
      "    https://scikit-learn.org/stable/modules/preprocessing.html\n",
      "  self.n_iter_ = _check_optimize_result(\"lbfgs\", opt_res, self.max_iter)\n",
      "C:\\Users\\H P\\Envs\\mldsenv\\lib\\site-packages\\sklearn\\neural_network\\_multilayer_perceptron.py:549: ConvergenceWarning: lbfgs failed to converge (status=1):\n",
      "STOP: TOTAL NO. of ITERATIONS REACHED LIMIT.\n",
      "\n",
      "Increase the number of iterations (max_iter) or scale the data as shown in:\n",
      "    https://scikit-learn.org/stable/modules/preprocessing.html\n",
      "  self.n_iter_ = _check_optimize_result(\"lbfgs\", opt_res, self.max_iter)\n",
      "C:\\Users\\H P\\Envs\\mldsenv\\lib\\site-packages\\sklearn\\neural_network\\_multilayer_perceptron.py:549: ConvergenceWarning: lbfgs failed to converge (status=1):\n",
      "STOP: TOTAL NO. of ITERATIONS REACHED LIMIT.\n",
      "\n",
      "Increase the number of iterations (max_iter) or scale the data as shown in:\n",
      "    https://scikit-learn.org/stable/modules/preprocessing.html\n",
      "  self.n_iter_ = _check_optimize_result(\"lbfgs\", opt_res, self.max_iter)\n",
      "C:\\Users\\H P\\Envs\\mldsenv\\lib\\site-packages\\sklearn\\neural_network\\_multilayer_perceptron.py:549: ConvergenceWarning: lbfgs failed to converge (status=1):\n",
      "STOP: TOTAL NO. of ITERATIONS REACHED LIMIT.\n",
      "\n",
      "Increase the number of iterations (max_iter) or scale the data as shown in:\n",
      "    https://scikit-learn.org/stable/modules/preprocessing.html\n",
      "  self.n_iter_ = _check_optimize_result(\"lbfgs\", opt_res, self.max_iter)\n"
     ]
    },
    {
     "data": {
      "text/plain": [
       "GridSearchCV(cv=5, estimator=MLPClassifier(),\n",
       "             param_grid={'activation': ['identity', 'logistic', 'tanh', 'relu'],\n",
       "                         'hidden_layer_sizes': [(50,), 100, (50, 100)],\n",
       "                         'solver': ['lbfgs', 'sgd', 'adam']})"
      ]
     },
     "execution_count": 62,
     "metadata": {},
     "output_type": "execute_result"
    }
   ],
   "source": [
    "\n",
    "grid_params = {'hidden_layer_sizes':[(50,), (100), (50, 100,)], 'activation':['identity', 'logistic', 'tanh', 'relu'], 'solver':['lbfgs', 'sgd', 'adam'] }\n",
    "gridMLP = GridSearchCV(MLPClassifier(), param_grid=grid_params, cv=5)\n",
    "gridMLP.fit(X_train, Y_train)"
   ]
  },
  {
   "cell_type": "code",
   "execution_count": 63,
   "metadata": {
    "colab": {
     "base_uri": "https://localhost:8080/"
    },
    "id": "arb00-Cb8nC1",
    "outputId": "127fcebe-c28d-42ad-f20f-33de72092fcd"
   },
   "outputs": [
    {
     "data": {
      "text/plain": [
       "0.6384946236559139"
      ]
     },
     "execution_count": 63,
     "metadata": {},
     "output_type": "execute_result"
    }
   ],
   "source": [
    "gridMLP.best_score_"
   ]
  },
  {
   "cell_type": "code",
   "execution_count": 64,
   "metadata": {
    "colab": {
     "base_uri": "https://localhost:8080/"
    },
    "id": "XZ72ySOq89f8",
    "outputId": "fa490d97-f175-4738-f7ea-b3215f3af11e"
   },
   "outputs": [
    {
     "data": {
      "text/plain": [
       "{'activation': 'logistic', 'hidden_layer_sizes': (50,), 'solver': 'lbfgs'}"
      ]
     },
     "execution_count": 64,
     "metadata": {},
     "output_type": "execute_result"
    }
   ],
   "source": [
    "gridMLP.best_params_"
   ]
  },
  {
   "cell_type": "code",
   "execution_count": 65,
   "metadata": {
    "colab": {
     "base_uri": "https://localhost:8080/"
    },
    "id": "nC8NUK5K9CGH",
    "outputId": "7ab9f367-eab1-40db-9330-a34fd7a4beb6"
   },
   "outputs": [
    {
     "data": {
      "text/plain": [
       "0.6666666666666666"
      ]
     },
     "execution_count": 65,
     "metadata": {},
     "output_type": "execute_result"
    }
   ],
   "source": [
    "mlpCls = MLPClassifier(hidden_layer_sizes=(100,), activation='identity', solver='adam' )\n",
    "mlpCls.fit(X_train, Y_train)\n",
    "mlpCls.score(X_test, Y_test)"
   ]
  },
  {
   "cell_type": "code",
   "execution_count": 66,
   "metadata": {
    "colab": {
     "base_uri": "https://localhost:8080/"
    },
    "id": "w7gJxyjT9prH",
    "outputId": "fa39e11f-80e3-4c71-eb02-d448c85903c4"
   },
   "outputs": [
    {
     "data": {
      "text/plain": [
       "0.6666666666666666"
      ]
     },
     "execution_count": 66,
     "metadata": {},
     "output_type": "execute_result"
    }
   ],
   "source": [
    "# grid_params = {'hidden_layer_sizes':[(50,), (100), (50, 100,)], 'activation':['identity', 'logistic', 'tanh', 'relu'], 'solver':['lbfgs', 'sgd', 'adam'] }\n",
    "mlpCls = MLPClassifier(hidden_layer_sizes=(100,), activation='logistic', solver='adam' )\n",
    "mlpCls.fit(X_train, Y_train)\n",
    "mlpCls.score(X_test, Y_test)"
   ]
  },
  {
   "cell_type": "code",
   "execution_count": 67,
   "metadata": {
    "colab": {
     "base_uri": "https://localhost:8080/"
    },
    "id": "lYK22C2M92_Z",
    "outputId": "5f75355f-6291-4888-ba94-cbae88db46ec"
   },
   "outputs": [
    {
     "data": {
      "text/plain": [
       "0.6666666666666666"
      ]
     },
     "execution_count": 67,
     "metadata": {},
     "output_type": "execute_result"
    }
   ],
   "source": [
    "# grid_params = {'hidden_layer_sizes':[(50,), (100), (50, 100,)], 'activation':['identity', 'logistic', 'tanh', 'relu'], 'solver':['lbfgs', 'sgd', 'adam'] }\n",
    "mlpCls = MLPClassifier(hidden_layer_sizes=(100,), activation='logistic', solver='sgd' )\n",
    "mlpCls.fit(X_train, Y_train)\n",
    "mlpCls.score(X_test, Y_test)"
   ]
  },
  {
   "cell_type": "code",
   "execution_count": 68,
   "metadata": {
    "colab": {
     "base_uri": "https://localhost:8080/"
    },
    "id": "Ch6F9f3A-N7K",
    "outputId": "b5504476-b026-4d21-b0d2-a1e6cd398ff8"
   },
   "outputs": [
    {
     "data": {
      "text/plain": [
       "0.6666666666666666"
      ]
     },
     "execution_count": 68,
     "metadata": {},
     "output_type": "execute_result"
    }
   ],
   "source": [
    "# grid_params = {'hidden_layer_sizes':[(50,), (100), (50, 100,)], 'activation':['identity', 'logistic', 'tanh', 'relu'], 'solver':['lbfgs', 'sgd', 'adam'] }\n",
    "mlpCls = MLPClassifier(hidden_layer_sizes=(100,), activation='logistic', solver='lbfgs' )\n",
    "mlpCls.fit(X_train, Y_train)\n",
    "mlpCls.score(X_test, Y_test)"
   ]
  },
  {
   "cell_type": "code",
   "execution_count": 69,
   "metadata": {
    "colab": {
     "base_uri": "https://localhost:8080/"
    },
    "id": "-srY9hKfO72D",
    "outputId": "e394f0d3-5b1c-464b-909e-fb1799fedc73"
   },
   "outputs": [
    {
     "data": {
      "text/plain": [
       "0.6666666666666666"
      ]
     },
     "execution_count": 69,
     "metadata": {},
     "output_type": "execute_result"
    }
   ],
   "source": [
    "# grid_params = {'hidden_layer_sizes':[(50,), (100), (50, 100,)], 'activation':['identity', 'logistic', 'tanh', 'relu'], 'solver':['lbfgs', 'sgd', 'adam'] }\n",
    "mlpCls = MLPClassifier(hidden_layer_sizes=(50,), activation='identity', solver='adam' )\n",
    "mlpCls.fit(X_train, Y_train)\n",
    "mlpCls.score(X_test, Y_test)"
   ]
  },
  {
   "cell_type": "code",
   "execution_count": 70,
   "metadata": {
    "colab": {
     "base_uri": "https://localhost:8080/"
    },
    "id": "FMdGLkz3PNa4",
    "outputId": "b7ff1a16-6dc3-459e-cf54-2bd5e48a4da4"
   },
   "outputs": [
    {
     "data": {
      "text/plain": [
       "0.6666666666666666"
      ]
     },
     "execution_count": 70,
     "metadata": {},
     "output_type": "execute_result"
    }
   ],
   "source": [
    "# grid_params = {'hidden_layer_sizes':[(50,), (100), (50, 100,)], 'activation':['identity', 'logistic', 'tanh', 'relu'], 'solver':['lbfgs', 'sgd', 'adam'] }\n",
    "mlpCls = MLPClassifier(hidden_layer_sizes=(200,), activation='identity', solver='adam' )\n",
    "mlpCls.fit(X_train, Y_train)\n",
    "mlpCls.score(X_test, Y_test)"
   ]
  },
  {
   "cell_type": "code",
   "execution_count": 71,
   "metadata": {
    "colab": {
     "base_uri": "https://localhost:8080/"
    },
    "id": "n4OAtcpy-ViC",
    "outputId": "c6a85891-ff3a-4f25-d082-e3f0f693773d"
   },
   "outputs": [
    {
     "data": {
      "text/plain": [
       "0.6666666666666666"
      ]
     },
     "execution_count": 71,
     "metadata": {},
     "output_type": "execute_result"
    }
   ],
   "source": [
    "# grid_params = {'hidden_layer_sizes':[(50,), (100), (50, 100,)], 'activation':['identity', 'logistic', 'tanh', 'relu'], 'solver':['lbfgs', 'sgd', 'adam'] }\n",
    "mlpCls = MLPClassifier(hidden_layer_sizes=(50, 100,), activation='identity', solver='adam' )\n",
    "mlpCls.fit(X_train, Y_train)\n",
    "mlpCls.score(X_test, Y_test)"
   ]
  },
  {
   "cell_type": "code",
   "execution_count": null,
   "metadata": {},
   "outputs": [],
   "source": []
  }
 ],
 "metadata": {
  "colab": {
   "collapsed_sections": [
    "2LWAnLZ-JZ3a"
   ],
   "name": "coronaryArteryDisease.ipynb",
   "provenance": []
  },
  "kernelspec": {
   "display_name": "Python 3 (ipykernel)",
   "language": "python",
   "name": "python3"
  },
  "language_info": {
   "codemirror_mode": {
    "name": "ipython",
    "version": 3
   },
   "file_extension": ".py",
   "mimetype": "text/x-python",
   "name": "python",
   "nbconvert_exporter": "python",
   "pygments_lexer": "ipython3",
   "version": "3.7.9"
  }
 },
 "nbformat": 4,
 "nbformat_minor": 1
}
