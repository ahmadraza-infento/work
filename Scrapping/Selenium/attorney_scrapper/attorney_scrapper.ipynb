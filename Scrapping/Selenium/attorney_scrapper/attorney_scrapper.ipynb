{
 "cells": [
  {
   "cell_type": "code",
   "execution_count": 186,
   "id": "a56c00cb",
   "metadata": {},
   "outputs": [],
   "source": [
    "from selenium.webdriver.common.keys import Keys\n",
    "import chromedriver_autoinstaller\n",
    "from selenium import webdriver\n",
    "import pandas as pd\n",
    "import string\n",
    "import time\n",
    "import os\n"
   ]
  },
  {
   "cell_type": "code",
   "execution_count": 187,
   "id": "f0ee838e",
   "metadata": {},
   "outputs": [
    {
     "data": {
      "text/plain": [
       "'C:\\\\Users\\\\H P\\\\Envs\\\\scrapperenv\\\\lib\\\\site-packages\\\\chromedriver_autoinstaller\\\\104\\\\chromedriver.exe'"
      ]
     },
     "execution_count": 187,
     "metadata": {},
     "output_type": "execute_result"
    }
   ],
   "source": [
    "opt = webdriver.ChromeOptions()\n",
    "opt.add_argument(\"--start-maximized\")\n",
    "\n",
    "chromedriver_autoinstaller.install()"
   ]
  },
  {
   "cell_type": "code",
   "execution_count": 188,
   "id": "2cbdc371",
   "metadata": {},
   "outputs": [],
   "source": [
    "def process_div0(div):\n",
    "    name = number = license = \"\" \n",
    "    try:\n",
    "        h3           = div.find_element_by_tag_name(\"h3\")\n",
    "        b            = h3.find_element_by_tag_name(\"b\")\n",
    "        name, number = b.text.split(\"#\")\n",
    "    except:pass\n",
    "    try:license = div.find_element_by_xpath(\"//div//p[@class='nostyle']//span\").text\n",
    "    except:pass\n",
    "    \n",
    "    return name, number, license\n",
    "\n",
    "def process_div1(div):\n",
    "    data = {\"Address\":\"Not Available\", \"Phone\":\"Not Available\", \"Fax\":\"Not Available\", \"Email\":\"Not Available\", \"Website\":\"Not Available\"}\n",
    "    for p in div.find_elements_by_tag_name(\"p\"):\n",
    "        try:\n",
    "            attrs = p.text.split(\"|\")\n",
    "            for attr in attrs:\n",
    "                try:\n",
    "                    key, val = attr.split(\":\")\n",
    "                    data[key.strip()] = val.strip()\n",
    "                except:\n",
    "                    pass\n",
    "        except:\n",
    "            pass\n",
    "    return data\n",
    "\n",
    "def save_data(data, ch):\n",
    "    folder = \"./files\"\n",
    "    if not os.path.exists(folder):\n",
    "        os.makedirs(folder)\n",
    "    \n",
    "    file = os.path.join(folder, f\"{ch}.xlsx\")\n",
    "    df = pd.DataFrame(data)\n",
    "    df.to_excel(file,  index=False)"
   ]
  },
  {
   "cell_type": "code",
   "execution_count": 189,
   "id": "4c6e7f19",
   "metadata": {},
   "outputs": [],
   "source": [
    "FIRST_PAGE_LOAD_SLEEP = 3\n",
    "TR_LOAD_SLEEP         = 2\n",
    "\n",
    "TABLE_RETRY       = 3\n",
    "TABLE_RETRY_SLEEP = 1\n",
    "\n",
    "driver  = webdriver.Chrome(options=opt)\n",
    "driver1 = webdriver.Chrome(options=opt)\n"
   ]
  },
  {
   "cell_type": "markdown",
   "id": "c405bbda",
   "metadata": {},
   "source": [
    "## To Scrap Single Chars "
   ]
  },
  {
   "cell_type": "code",
   "execution_count": 190,
   "id": "02092fc4",
   "metadata": {},
   "outputs": [],
   "source": [
    "chars   = string.ascii_lowercase"
   ]
  },
  {
   "cell_type": "code",
   "execution_count": null,
   "id": "84481e01",
   "metadata": {},
   "outputs": [],
   "source": []
  },
  {
   "cell_type": "code",
   "execution_count": null,
   "id": "cd667249",
   "metadata": {},
   "outputs": [],
   "source": [
    "for char in chars:\n",
    "    data_items = []\n",
    "    url        = f\"https://apps.calbar.ca.gov/attorney/LicenseeSearch/QuickSearch?FreeText={char}&SoundsLike=false\"\n",
    "    driver.get (url)\n",
    "    time.sleep (FIRST_PAGE_LOAD_SLEEP)\n",
    "    \n",
    "    while True:\n",
    "        count = 0\n",
    "        hrefs = None\n",
    "        trows = None\n",
    "        while count < TABLE_RETRY:\n",
    "            try:\n",
    "                table      = driver.find_element_by_id(\"tblAttorney\")\n",
    "                table_body = table.find_element_by_tag_name(\"tbody\")\n",
    "                trows      = table_body.find_elements_by_tag_name(\"tr\")\n",
    "                #hrefs      = [tr.find_element_by_tag_name(\"a\").get_attribute(\"href\") for tr in trows]\n",
    "                break\n",
    "            except:\n",
    "                count += 1\n",
    "                time.sleep(TABLE_RETRY_SLEEP)\n",
    "\n",
    "        if trows:\n",
    "            for tr in trows:\n",
    "                href = tr.find_element_by_tag_name(\"a\").get_attribute(\"href\")\n",
    "                name = tr.find_element_by_tag_name(\"a\").text\n",
    "\n",
    "                tds = tr.find_elements_by_tag_name(\"td\")\n",
    "                try:license = tds[1].find_element_by_tag_name(\"span\").text\n",
    "                except:license = tds[1].text\n",
    "                number    = tds[2].text\n",
    "                if license == \"Active\":\n",
    "                    driver1.get(href)\n",
    "                    time.sleep(TR_LOAD_SLEEP)\n",
    "\n",
    "                    try:\n",
    "                        item = {\"Address\":\"Not Available\", \"Phone\":\"Not Available\", \"Fax\":\"Not Available\", \"Email\":\"Not Available\", \"Website\":\"Not Available\"}\n",
    "                        divs = driver1.find_elements_by_xpath(\"//div[@style='margin-top:1em;']\")\n",
    "                        if len(divs) == 2:\n",
    "                            #name, number, license = process_div0(divs[0])\n",
    "                            item                  = process_div1(divs[1])\n",
    "\n",
    "                    except:pass\n",
    "\n",
    "                    item['Attorney Name'] = name\n",
    "                    item['Number']        = number\n",
    "                    item['License Status']= license\n",
    "                    data_items.append     (item)\n",
    "                \n",
    "        try:\n",
    "            next_btn = driver.find_element_by_id(\"tblAttorney_next\")\n",
    "            if \"disabled\" in next_btn.get_attribute(\"class\"):\n",
    "                break\n",
    "            else:\n",
    "                next_btn.click() \n",
    "        except:\n",
    "            break\n",
    "    \n",
    "    save_data(data_items, char)\n",
    "    \n",
    "        \n",
    "    \n"
   ]
  },
  {
   "cell_type": "markdown",
   "id": "d70338e9",
   "metadata": {},
   "source": [
    "## To Scrap Double Chars"
   ]
  },
  {
   "cell_type": "code",
   "execution_count": null,
   "id": "0bbb20c7",
   "metadata": {},
   "outputs": [],
   "source": [
    "chars   = string.ascii_lowercase"
   ]
  },
  {
   "cell_type": "code",
   "execution_count": null,
   "id": "58b72012",
   "metadata": {},
   "outputs": [],
   "source": [
    "for outer_char in chars:\n",
    "    for inner_char in chars:\n",
    "        char       = outer_char +  inner_char\n",
    "        data_items = []\n",
    "        url        = f\"https://apps.calbar.ca.gov/attorney/LicenseeSearch/QuickSearch?FreeText={char}&SoundsLike=false\"\n",
    "        driver.get (url)\n",
    "        time.sleep (FIRST_PAGE_LOAD_SLEEP)\n",
    "\n",
    "        while True:\n",
    "            count = 0\n",
    "            hrefs = None\n",
    "            trows = None\n",
    "            while count < TABLE_RETRY:\n",
    "                try:\n",
    "                    table      = driver.find_element_by_id(\"tblAttorney\")\n",
    "                    table_body = table.find_element_by_tag_name(\"tbody\")\n",
    "                    trows      = table_body.find_elements_by_tag_name(\"tr\")\n",
    "                    #hrefs      = [tr.find_element_by_tag_name(\"a\").get_attribute(\"href\") for tr in trows]\n",
    "                    break\n",
    "                except:\n",
    "                    count += 1\n",
    "                    time.sleep(TABLE_RETRY_SLEEP)\n",
    "\n",
    "            if trows:\n",
    "                for tr in trows:\n",
    "                    href = tr.find_element_by_tag_name(\"a\").get_attribute(\"href\")\n",
    "                    name = tr.find_element_by_tag_name(\"a\").text\n",
    "\n",
    "                    tds = tr.find_elements_by_tag_name(\"td\")\n",
    "                    try:license = tds[1].find_element_by_tag_name(\"span\").text\n",
    "                    except:license = tds[1].text\n",
    "                    number    = tds[2].text\n",
    "                    \n",
    "                    if license == \"Active\":\n",
    "                        driver1.get(href)\n",
    "                        time.sleep(TR_LOAD_SLEEP)\n",
    "\n",
    "                        try:\n",
    "                            item = {\"Address\":\"Not Available\", \"Phone\":\"Not Available\", \"Fax\":\"Not Available\", \"Email\":\"Not Available\", \"Website\":\"Not Available\"}\n",
    "                            divs = driver1.find_elements_by_xpath(\"//div[@style='margin-top:1em;']\")\n",
    "                            if len(divs) == 2:\n",
    "                                #name, number, license = process_div0(divs[0])\n",
    "                                item                  = process_div1(divs[1])\n",
    "\n",
    "                        except:pass\n",
    "\n",
    "                        item['Attorney Name'] = name\n",
    "                        item['Number']        = number\n",
    "                        item['License Status']= license\n",
    "                        data_items.append     (item)\n",
    "\n",
    "            try:\n",
    "                next_btn = driver.find_element_by_id(\"tblAttorney_next\")\n",
    "                if \"disabled\" in next_btn.get_attribute(\"class\"):\n",
    "                    break\n",
    "                else:\n",
    "                    next_btn.click() \n",
    "            except:\n",
    "                break\n",
    "\n",
    "        save_data(data_items, char)\n",
    "    \n",
    "        \n",
    "    \n"
   ]
  },
  {
   "cell_type": "code",
   "execution_count": null,
   "id": "0bfdf36a",
   "metadata": {},
   "outputs": [],
   "source": []
  },
  {
   "cell_type": "code",
   "execution_count": null,
   "id": "3b2202af",
   "metadata": {},
   "outputs": [],
   "source": []
  }
 ],
 "metadata": {
  "kernelspec": {
   "display_name": "Python 3 (ipykernel)",
   "language": "python",
   "name": "python3"
  },
  "language_info": {
   "codemirror_mode": {
    "name": "ipython",
    "version": 3
   },
   "file_extension": ".py",
   "mimetype": "text/x-python",
   "name": "python",
   "nbconvert_exporter": "python",
   "pygments_lexer": "ipython3",
   "version": "3.7.9"
  }
 },
 "nbformat": 4,
 "nbformat_minor": 5
}
