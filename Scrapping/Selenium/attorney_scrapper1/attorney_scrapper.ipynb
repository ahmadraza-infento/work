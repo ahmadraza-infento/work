{
 "cells": [
  {
   "cell_type": "code",
   "execution_count": 9,
   "id": "a56c00cb",
   "metadata": {},
   "outputs": [],
   "source": [
    "from selenium.webdriver.common.keys import Keys\n",
    "from selenium.webdriver.common.by import By\n",
    "import chromedriver_autoinstaller\n",
    "from selenium import webdriver\n",
    "import pandas as pd\n",
    "import string\n",
    "import time\n",
    "import os\n"
   ]
  },
  {
   "cell_type": "code",
   "execution_count": 2,
   "id": "f0ee838e",
   "metadata": {},
   "outputs": [
    {
     "data": {
      "text/plain": [
       "'C:\\\\Users\\\\H P\\\\Envs\\\\scrapperenv\\\\lib\\\\site-packages\\\\chromedriver_autoinstaller\\\\105\\\\chromedriver.exe'"
      ]
     },
     "execution_count": 2,
     "metadata": {},
     "output_type": "execute_result"
    }
   ],
   "source": [
    "opt = webdriver.ChromeOptions()\n",
    "opt.add_argument(\"--start-maximized\")\n",
    "\n",
    "chromedriver_autoinstaller.install()"
   ]
  },
  {
   "cell_type": "code",
   "execution_count": 3,
   "id": "4c6e7f19",
   "metadata": {},
   "outputs": [],
   "source": [
    "driver  = webdriver.Chrome(options=opt)"
   ]
  },
  {
   "cell_type": "code",
   "execution_count": 54,
   "id": "d31eda92",
   "metadata": {},
   "outputs": [],
   "source": [
    "chars   = string.ascii_lowercase"
   ]
  },
  {
   "cell_type": "code",
   "execution_count": 50,
   "id": "b38b01e7",
   "metadata": {},
   "outputs": [
    {
     "name": "stderr",
     "output_type": "stream",
     "text": [
      "C:\\Users\\H P\\Envs\\scrapperenv\\lib\\site-packages\\selenium\\webdriver\\remote\\webelement.py:464: UserWarning: find_elements_by_class_name is deprecated. Please use find_elements(by=By.CLASS_NAME, value=name) instead\n",
      "  warnings.warn(\"find_elements_by_class_name is deprecated. Please use find_elements(by=By.CLASS_NAME, value=name) instead\")\n",
      "C:\\Users\\H P\\Envs\\scrapperenv\\lib\\site-packages\\selenium\\webdriver\\remote\\webelement.py:341: UserWarning: find_element_by_tag_name is deprecated. Please use find_element(by=By.TAG_NAME, value=name) instead\n",
      "  warnings.warn(\"find_element_by_tag_name is deprecated. Please use find_element(by=By.TAG_NAME, value=name) instead\")\n",
      "C:\\Users\\H P\\Envs\\scrapperenv\\lib\\site-packages\\selenium\\webdriver\\remote\\webelement.py:359: UserWarning: find_elements_by_tag_name is deprecated. Please use find_elements(by=By.TAG_NAME, value=name) instead\n",
      "  warnings.warn(\"find_elements_by_tag_name is deprecated. Please use find_elements(by=By.TAG_NAME, value=name) instead\")\n"
     ]
    },
    {
     "name": "stdout",
     "output_type": "stream",
     "text": [
      "498/499\r"
     ]
    }
   ],
   "source": [
    "skipped  = []\n",
    "erroneous= {}\n",
    "\n",
    "for char in chars:\n",
    "    data = []\n",
    "    url  = f'https://nvbar.org/for-the-public/find-a-lawyer/?usearch={char}' \n",
    "    count = 0\n",
    "    while count < 3:\n",
    "        try:\n",
    "            driver.get (url)\n",
    "            time.sleep(3)\n",
    "            break\n",
    "        except:count +=1\n",
    "    \n",
    "    if count == 3:\n",
    "        print(\"skipping \",  char); skipped.append(char)\n",
    "    \n",
    "    else:\n",
    "        articles = driver.find_elements_by_class_name('user_chunk ')\n",
    "        for c, article in enumerate( articles ):\n",
    "            item = {} \n",
    "            divs = article.find_elements_by_class_name(\"one_third\")\n",
    "            if len(divs) == 3:\n",
    "                div1 = divs[0]\n",
    "                div2 = divs[1]\n",
    "                div3 = divs[2]\n",
    "\n",
    "                item['Name'] =  div1.find_element_by_tag_name(\"h3\").text\n",
    "                for li in div1.find_elements_by_tag_name(\"li\"):\n",
    "                    key, val = li.text.split(\":\")\n",
    "                    item[key.strip()] = val.strip() \n",
    "\n",
    "                for i in div2.text.split(\"\\n\"):\n",
    "                    try:\n",
    "                        key, val         = i.split(\":\")\n",
    "                        item[key.strip()]= val.strip()\n",
    "\n",
    "                    except:\n",
    "                        item['Address'] = i\n",
    "\n",
    "                for i in div3.text.split(\"\\n\"):\n",
    "                    try:\n",
    "                        key, val = i.split(\":\")\n",
    "                        item[key.strip()]= val.strip()\n",
    "                    except:pass \n",
    "\n",
    "                item = {key:item[key] if key in item.keys() else \"\" for key in ('Specialization', 'Name', 'Bar #', 'Member since', 'Status', 'Company', 'Address', 'Phone', 'Fax', 'Email', 'Law school')}\n",
    "                data.append( item )\n",
    "            else:\n",
    "                if char in erroneous.keys():\n",
    "                    erroneous[char].append(divs)\n",
    "                else:\n",
    "                    erroneous[char] = [divs]\n",
    "                    \n",
    "            print(f\"[{char}] {c}/{len(articles)}\", end=\"\\r\")\n",
    "        \n",
    "        if len(data) > 0:\n",
    "            df = pd.DataFrame(data)\n",
    "            df.to_excel(f\"files/{char}_data.xlsx\", index=False)\n",
    "        \n",
    "        else:\n",
    "            print(f\"no record available for {char} - ignoring\")\n",
    "            skipped.append(char)"
   ]
  },
  {
   "cell_type": "code",
   "execution_count": null,
   "id": "0bfdf36a",
   "metadata": {},
   "outputs": [],
   "source": []
  },
  {
   "cell_type": "code",
   "execution_count": null,
   "id": "3b2202af",
   "metadata": {},
   "outputs": [],
   "source": []
  }
 ],
 "metadata": {
  "kernelspec": {
   "display_name": "Python 3 (ipykernel)",
   "language": "python",
   "name": "python3"
  },
  "language_info": {
   "codemirror_mode": {
    "name": "ipython",
    "version": 3
   },
   "file_extension": ".py",
   "mimetype": "text/x-python",
   "name": "python",
   "nbconvert_exporter": "python",
   "pygments_lexer": "ipython3",
   "version": "3.7.9"
  }
 },
 "nbformat": 4,
 "nbformat_minor": 5
}
