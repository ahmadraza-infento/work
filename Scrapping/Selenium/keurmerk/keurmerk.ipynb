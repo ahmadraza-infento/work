{
 "cells": [
  {
   "cell_type": "code",
   "execution_count": 1,
   "id": "a56c00cb",
   "metadata": {},
   "outputs": [],
   "source": [
    "import chromedriver_autoinstaller\n",
    "from selenium import webdriver"
   ]
  },
  {
   "cell_type": "code",
   "execution_count": 2,
   "id": "f0ee838e",
   "metadata": {},
   "outputs": [
    {
     "data": {
      "text/plain": [
       "'C:\\\\Users\\\\H P\\\\Envs\\\\scrapperenv\\\\lib\\\\site-packages\\\\chromedriver_autoinstaller\\\\101\\\\chromedriver.exe'"
      ]
     },
     "execution_count": 2,
     "metadata": {},
     "output_type": "execute_result"
    }
   ],
   "source": [
    "opt = webdriver.ChromeOptions()\n",
    "opt.add_argument(\"--start-maximized\")\n",
    "\n",
    "chromedriver_autoinstaller.install()"
   ]
  },
  {
   "cell_type": "code",
   "execution_count": 3,
   "id": "978420c7",
   "metadata": {},
   "outputs": [],
   "source": [
    "driver = webdriver.Chrome(options=opt)"
   ]
  },
  {
   "cell_type": "code",
   "execution_count": 39,
   "id": "cc420989",
   "metadata": {},
   "outputs": [],
   "source": [
    "url     = f\"https://www.keurmerk.info/nl/consumenten/webwinkels/\"\n",
    "driver.get(url)"
   ]
  },
  {
   "cell_type": "code",
   "execution_count": 40,
   "id": "88a4a562",
   "metadata": {},
   "outputs": [
    {
     "name": "stderr",
     "output_type": "stream",
     "text": [
      "C:\\Users\\H P\\Envs\\scrapperenv\\lib\\site-packages\\ipykernel_launcher.py:1: DeprecationWarning: find_elements_by_class_name is deprecated. Please use find_elements(by=By.CLASS_NAME, value=name) instead\n",
      "  \"\"\"Entry point for launching an IPython kernel.\n"
     ]
    },
    {
     "data": {
      "text/plain": [
       "10"
      ]
     },
     "execution_count": 40,
     "metadata": {},
     "output_type": "execute_result"
    }
   ],
   "source": [
    "anchors = driver.find_elements_by_class_name(\"listpage__item-moreinfo\")\n",
    "len(anchors)"
   ]
  },
  {
   "cell_type": "code",
   "execution_count": 41,
   "id": "ccb29750",
   "metadata": {},
   "outputs": [],
   "source": [
    "anchors[0].click()"
   ]
  },
  {
   "cell_type": "code",
   "execution_count": 42,
   "id": "6a1c4927",
   "metadata": {},
   "outputs": [],
   "source": [
    "driver.back()"
   ]
  },
  {
   "cell_type": "code",
   "execution_count": null,
   "id": "39c17a7e",
   "metadata": {},
   "outputs": [],
   "source": []
  },
  {
   "cell_type": "code",
   "execution_count": 73,
   "id": "4c53d044",
   "metadata": {},
   "outputs": [
    {
     "name": "stdout",
     "output_type": "stream",
     "text": [
      "Scrapping -->  https://ovmeb.us.thentiacloud.net/webs/ovmeb/register/#/search/all/0/10\n",
      "10  rows found\n",
      "10  links found\n",
      "Scrapping -->  https://ovmeb.us.thentiacloud.net/webs/ovmeb/register/#/search/all/1/10\n",
      "10  rows found\n",
      "10  links found\n"
     ]
    }
   ],
   "source": [
    "import time\n",
    "\n",
    "def get_prac_locations(driver):\n",
    "    \"\"\" get 'Practice Locations' \"\"\"\n",
    "    transprnt_boxs = driver.find_elements_by_class_name(\"hd-transparent-box\")\n",
    "    for box in transprnt_boxs:\n",
    "        try:\n",
    "            if box.find_element_by_tag_name(\"h2\").text == \"Practice Locations\":\n",
    "                return box\n",
    "        except:\n",
    "            pass\n",
    "\n",
    "\n",
    "\n",
    "data_items = []\n",
    "rows_needed = ['License number:', 'Legal First Name:', 'Legal Last Name:', 'License Status:', 'License Category:', 'Initial License Date:','Expiration Date:', 'Employer Name',\n",
    "                 'Business Address', 'Business City', 'Business Postal Code', 'Employer Phone']\n",
    "for page_no in range(5774):\n",
    "    url     = f\"https://ovmeb.us.thentiacloud.net/webs/ovmeb/register/#/search/all/{page_no}/10\" \n",
    "    print(\"Scrapping --> \", url)\n",
    "    \n",
    "    driver.get(url)\n",
    "    time.sleep(3)\n",
    "    \n",
    "    table      = driver.find_element_by_class_name(\"table\")\n",
    "    table_rows = table.find_elements_by_tag_name(\"tr\")[1:]\n",
    "    print( len(table_rows), \" rows found\" )\n",
    "    \n",
    "    view_links = [tr.find_element_by_tag_name(\"a\").get_attribute(\"href\") for tr in table_rows ]\n",
    "    print( len(view_links), \" links found\" )\n",
    "    \n",
    "    for view_link in view_links:\n",
    "        data_item = { rn:\"\" for rn in rows_needed}\n",
    "        driver.get(view_link)\n",
    "        time.sleep(2)\n",
    "        \n",
    "        profile = driver.find_element_by_class_name(\"profile\")\n",
    "        profile_rows = profile.find_elements_by_class_name(\"row\")\n",
    "        \n",
    "        for row in profile_rows:\n",
    "            try:\n",
    "                lbl  = row.find_element_by_tag_name(\"label\").text\n",
    "                value= row.find_element_by_tag_name(\"div\").text \n",
    "                if lbl in data_item.keys():\n",
    "                    data_item[lbl] = value\n",
    "            except:\n",
    "                pass\n",
    "        \n",
    "        prac_loc_box = get_prac_locations(driver)\n",
    "        tmps = [\"Employer Name\", \"Business Address\", \"Business City\", \"Business Postal Code\", \"Employer Phone\"]\n",
    "        if prac_loc_box:\n",
    "            loc_row = prac_loc_box.find_element_by_tag_name(\"tbody\").find_element_by_tag_name(\"tr\") \n",
    "            for i, td in enumerate(loc_row.find_elements_by_tag_name(\"td\") ) :\n",
    "                data_item[tmps[i]] = td.text\n",
    "        \n",
    "        \n",
    "        data_items.append(data_item)\n",
    "            \n",
    "        \n",
    "        \n",
    "        \n",
    "    \n",
    "    "
   ]
  },
  {
   "cell_type": "code",
   "execution_count": 75,
   "id": "7671f71d",
   "metadata": {},
   "outputs": [
    {
     "data": {
      "text/plain": [
       "[{'License number:': '5287',\n",
       "  'Legal First Name:': 'EARL',\n",
       "  'Legal Last Name:': 'AALSETH',\n",
       "  'License Status:': 'Active',\n",
       "  'License Category:': 'Veterinarian',\n",
       "  'Initial License Date:': 'Mar-04-1999',\n",
       "  'Expiration Date:': 'Dec-31-2022',\n",
       "  'Employer Name': 'EARL AALSETH DAIRY CONSULTING',\n",
       "  'Business Address': '6514 113TH AVE. NE',\n",
       "  'Business City': 'LAKE STEVENS',\n",
       "  'Business Postal Code': '98258-9310',\n",
       "  'Employer Phone': '425-334-7773'},\n",
       " {'License number:': '7235',\n",
       "  'Legal First Name:': 'JACQUELYN',\n",
       "  'Legal Last Name:': 'ABBATANTONO',\n",
       "  'License Status:': 'Active',\n",
       "  'License Category:': 'Veterinarian',\n",
       "  'Initial License Date:': 'Jun-16-2014',\n",
       "  'Expiration Date:': 'Dec-31-2022',\n",
       "  'Employer Name': 'ANIMAL CARE GROUP OF LAKE OSWEGO',\n",
       "  'Business Address': '3996 DOUGLAS WAY',\n",
       "  'Business City': 'LAKE OSWEGO',\n",
       "  'Business Postal Code': '97035',\n",
       "  'Employer Phone': '503-850-6296'},\n",
       " {'License number:': '7938',\n",
       "  'Legal First Name:': 'ANGELA',\n",
       "  'Legal Last Name:': 'ABBEY',\n",
       "  'License Status:': 'Active',\n",
       "  'License Category:': 'Veterinarian',\n",
       "  'Initial License Date:': 'May-23-2018',\n",
       "  'Expiration Date:': 'Dec-31-2022',\n",
       "  'Employer Name': 'BANFIELD',\n",
       "  'Business Address': '7029 SW NYBERG ST',\n",
       "  'Business City': 'TUALATIN',\n",
       "  'Business Postal Code': '97062',\n",
       "  'Employer Phone': 'N/A'},\n",
       " {'License number:': '6350',\n",
       "  'Legal First Name:': 'SUJATA',\n",
       "  'Legal Last Name:': 'ABBOTT',\n",
       "  'License Status:': 'Active',\n",
       "  'License Category:': 'Veterinarian',\n",
       "  'Initial License Date:': 'Sep-09-2008',\n",
       "  'Expiration Date:': 'Dec-31-2022',\n",
       "  'Employer Name': 'LAURELHURST VETERINARY HOSPITAL',\n",
       "  'Business Address': '2945 NE SANDY BLVD',\n",
       "  'Business City': 'PORTLAND',\n",
       "  'Business Postal Code': '97232',\n",
       "  'Employer Phone': '503-233-5222'},\n",
       " {'License number:': '7034',\n",
       "  'Legal First Name:': 'KRISTEN',\n",
       "  'Legal Last Name:': 'ABBOTT',\n",
       "  'License Status:': 'Active',\n",
       "  'License Category:': 'Veterinarian',\n",
       "  'Initial License Date:': 'Jan-22-2013',\n",
       "  'Expiration Date:': 'Dec-31-2022',\n",
       "  'Employer Name': 'VCA SE Portland Animal hospital',\n",
       "  'Business Address': '13830 SE Stark St.',\n",
       "  'Business City': 'PORTLAND',\n",
       "  'Business Postal Code': '97233',\n",
       "  'Employer Phone': '503-255-8139'},\n",
       " {'License number:': '14728',\n",
       "  'Legal First Name:': 'AHMED',\n",
       "  'Legal Last Name:': 'ABDELLAH',\n",
       "  'License Status:': 'Active',\n",
       "  'License Category:': 'Veterinary Technician',\n",
       "  'Initial License Date:': 'Dec-10-2019',\n",
       "  'Expiration Date:': 'Dec-31-2022',\n",
       "  'Employer Name': 'Emergency veterinary Clinic of Tualatin',\n",
       "  'Business Address': '8250 SW Tonka St',\n",
       "  'Business City': 'tualatin',\n",
       "  'Business Postal Code': '97062',\n",
       "  'Employer Phone': '503-691-7922'},\n",
       " {'License number:': '3759',\n",
       "  'Legal First Name:': 'LORAIN',\n",
       "  'Legal Last Name:': 'ABEL',\n",
       "  'License Status:': 'Active',\n",
       "  'License Category:': 'Veterinarian',\n",
       "  'Initial License Date:': 'Jul-01-1987',\n",
       "  'Expiration Date:': 'Dec-31-2022',\n",
       "  'Employer Name': 'Animal Hospital of Grants Pass',\n",
       "  'Business Address': '1777 Williams Hwy',\n",
       "  'Business City': 'Grants Pass',\n",
       "  'Business Postal Code': '97527',\n",
       "  'Employer Phone': '541-660-1707'},\n",
       " {'License number:': '361',\n",
       "  'Legal First Name:': 'PHYLLIS',\n",
       "  'Legal Last Name:': 'ABERCROMBIE',\n",
       "  'License Status:': 'Active',\n",
       "  'License Category:': 'Veterinary Technician',\n",
       "  'Initial License Date:': 'Jan-12-1999',\n",
       "  'Expiration Date:': 'Dec-31-2022',\n",
       "  'Employer Name': 'VCA Northwest Veterinary Specialists',\n",
       "  'Business Address': '16756 SE 82nd Dr.',\n",
       "  'Business City': 'Clackamas',\n",
       "  'Business Postal Code': '97015',\n",
       "  'Employer Phone': '503-656-3999'},\n",
       " {'License number:': '5451',\n",
       "  'Legal First Name:': 'SHALET',\n",
       "  'Legal Last Name:': 'ABRAHAM',\n",
       "  'License Status:': 'Active',\n",
       "  'License Category:': 'Veterinarian',\n",
       "  'Initial License Date:': 'Aug-02-2000',\n",
       "  'Expiration Date:': 'Dec-31-2022',\n",
       "  'Employer Name': 'Whiskers and Wet Noses Veterinary Relief',\n",
       "  'Business Address': '133 NW Blackhawk',\n",
       "  'Business City': 'Bend',\n",
       "  'Business Postal Code': '97703',\n",
       "  'Employer Phone': '541-241-4157'},\n",
       " {'License number:': '13800',\n",
       "  'Legal First Name:': 'JOANIE',\n",
       "  'Legal Last Name:': 'ABRAMS',\n",
       "  'License Status:': 'Active',\n",
       "  'License Category:': 'Veterinary Technician',\n",
       "  'Initial License Date:': 'Oct-07-2009',\n",
       "  'Expiration Date:': 'Dec-31-2022',\n",
       "  'Employer Name': 'Dove Lewis Emergency Animal Hospital',\n",
       "  'Business Address': '1945 NW Pettygrove',\n",
       "  'Business City': 'Portland',\n",
       "  'Business Postal Code': '97209',\n",
       "  'Employer Phone': '503-228-7281'},\n",
       " {'License number:': '7235',\n",
       "  'Legal First Name:': 'JACQUELYN',\n",
       "  'Legal Last Name:': 'ABBATANTONO',\n",
       "  'License Status:': 'Active',\n",
       "  'License Category:': 'Veterinarian',\n",
       "  'Initial License Date:': 'Jun-16-2014',\n",
       "  'Expiration Date:': 'Dec-31-2022',\n",
       "  'Employer Name': 'ANIMAL CARE GROUP OF LAKE OSWEGO',\n",
       "  'Business Address': '3996 DOUGLAS WAY',\n",
       "  'Business City': 'LAKE OSWEGO',\n",
       "  'Business Postal Code': '97035',\n",
       "  'Employer Phone': '503-850-6296'},\n",
       " {'License number:': '7938',\n",
       "  'Legal First Name:': 'ANGELA',\n",
       "  'Legal Last Name:': 'ABBEY',\n",
       "  'License Status:': 'Active',\n",
       "  'License Category:': 'Veterinarian',\n",
       "  'Initial License Date:': 'May-23-2018',\n",
       "  'Expiration Date:': 'Dec-31-2022',\n",
       "  'Employer Name': 'BANFIELD',\n",
       "  'Business Address': '7029 SW NYBERG ST',\n",
       "  'Business City': 'TUALATIN',\n",
       "  'Business Postal Code': '97062',\n",
       "  'Employer Phone': 'N/A'},\n",
       " {'License number:': '6350',\n",
       "  'Legal First Name:': 'SUJATA',\n",
       "  'Legal Last Name:': 'ABBOTT',\n",
       "  'License Status:': 'Active',\n",
       "  'License Category:': 'Veterinarian',\n",
       "  'Initial License Date:': 'Sep-09-2008',\n",
       "  'Expiration Date:': 'Dec-31-2022',\n",
       "  'Employer Name': 'LAURELHURST VETERINARY HOSPITAL',\n",
       "  'Business Address': '2945 NE SANDY BLVD',\n",
       "  'Business City': 'PORTLAND',\n",
       "  'Business Postal Code': '97232',\n",
       "  'Employer Phone': '503-233-5222'},\n",
       " {'License number:': '7034',\n",
       "  'Legal First Name:': 'KRISTEN',\n",
       "  'Legal Last Name:': 'ABBOTT',\n",
       "  'License Status:': 'Active',\n",
       "  'License Category:': 'Veterinarian',\n",
       "  'Initial License Date:': 'Jan-22-2013',\n",
       "  'Expiration Date:': 'Dec-31-2022',\n",
       "  'Employer Name': 'VCA SE Portland Animal hospital',\n",
       "  'Business Address': '13830 SE Stark St.',\n",
       "  'Business City': 'PORTLAND',\n",
       "  'Business Postal Code': '97233',\n",
       "  'Employer Phone': '503-255-8139'},\n",
       " {'License number:': '14728',\n",
       "  'Legal First Name:': 'AHMED',\n",
       "  'Legal Last Name:': 'ABDELLAH',\n",
       "  'License Status:': 'Active',\n",
       "  'License Category:': 'Veterinary Technician',\n",
       "  'Initial License Date:': 'Dec-10-2019',\n",
       "  'Expiration Date:': 'Dec-31-2022',\n",
       "  'Employer Name': 'Emergency veterinary Clinic of Tualatin',\n",
       "  'Business Address': '8250 SW Tonka St',\n",
       "  'Business City': 'tualatin',\n",
       "  'Business Postal Code': '97062',\n",
       "  'Employer Phone': '503-691-7922'},\n",
       " {'License number:': '3759',\n",
       "  'Legal First Name:': 'LORAIN',\n",
       "  'Legal Last Name:': 'ABEL',\n",
       "  'License Status:': 'Active',\n",
       "  'License Category:': 'Veterinarian',\n",
       "  'Initial License Date:': 'Jul-01-1987',\n",
       "  'Expiration Date:': 'Dec-31-2022',\n",
       "  'Employer Name': 'Animal Hospital of Grants Pass',\n",
       "  'Business Address': '1777 Williams Hwy',\n",
       "  'Business City': 'Grants Pass',\n",
       "  'Business Postal Code': '97527',\n",
       "  'Employer Phone': '541-660-1707'},\n",
       " {'License number:': '361',\n",
       "  'Legal First Name:': 'PHYLLIS',\n",
       "  'Legal Last Name:': 'ABERCROMBIE',\n",
       "  'License Status:': 'Active',\n",
       "  'License Category:': 'Veterinary Technician',\n",
       "  'Initial License Date:': 'Jan-12-1999',\n",
       "  'Expiration Date:': 'Dec-31-2022',\n",
       "  'Employer Name': 'VCA Northwest Veterinary Specialists',\n",
       "  'Business Address': '16756 SE 82nd Dr.',\n",
       "  'Business City': 'Clackamas',\n",
       "  'Business Postal Code': '97015',\n",
       "  'Employer Phone': '503-656-3999'},\n",
       " {'License number:': '5451',\n",
       "  'Legal First Name:': 'SHALET',\n",
       "  'Legal Last Name:': 'ABRAHAM',\n",
       "  'License Status:': 'Active',\n",
       "  'License Category:': 'Veterinarian',\n",
       "  'Initial License Date:': 'Aug-02-2000',\n",
       "  'Expiration Date:': 'Dec-31-2022',\n",
       "  'Employer Name': 'Whiskers and Wet Noses Veterinary Relief',\n",
       "  'Business Address': '133 NW Blackhawk',\n",
       "  'Business City': 'Bend',\n",
       "  'Business Postal Code': '97703',\n",
       "  'Employer Phone': '541-241-4157'},\n",
       " {'License number:': '13800',\n",
       "  'Legal First Name:': 'JOANIE',\n",
       "  'Legal Last Name:': 'ABRAMS',\n",
       "  'License Status:': 'Active',\n",
       "  'License Category:': 'Veterinary Technician',\n",
       "  'Initial License Date:': 'Oct-07-2009',\n",
       "  'Expiration Date:': 'Dec-31-2022',\n",
       "  'Employer Name': 'Dove Lewis Emergency Animal Hospital',\n",
       "  'Business Address': '1945 NW Pettygrove',\n",
       "  'Business City': 'Portland',\n",
       "  'Business Postal Code': '97209',\n",
       "  'Employer Phone': '503-228-7281'},\n",
       " {'License number:': '5566',\n",
       "  'Legal First Name:': 'ABDOREZA',\n",
       "  'Legal Last Name:': 'ABRISHAMI',\n",
       "  'License Status:': 'Active',\n",
       "  'License Category:': 'Veterinarian',\n",
       "  'Initial License Date:': 'Aug-30-2001',\n",
       "  'Expiration Date:': 'Dec-31-2022',\n",
       "  'Employer Name': 'CLOVERDALE ANIMAL CLINIC',\n",
       "  'Business Address': '34610 HIGHWAY 101 SOUTH',\n",
       "  'Business City': 'CLOVERDALE',\n",
       "  'Business Postal Code': '97112',\n",
       "  'Employer Phone': '503-392-3322'}]"
      ]
     },
     "execution_count": 75,
     "metadata": {},
     "output_type": "execute_result"
    }
   ],
   "source": [
    "data_items"
   ]
  },
  {
   "cell_type": "code",
   "execution_count": 72,
   "id": "19259d20",
   "metadata": {},
   "outputs": [],
   "source": []
  },
  {
   "cell_type": "code",
   "execution_count": null,
   "id": "ad4ad722",
   "metadata": {},
   "outputs": [],
   "source": []
  },
  {
   "cell_type": "code",
   "execution_count": null,
   "id": "8d321b5a",
   "metadata": {},
   "outputs": [],
   "source": []
  },
  {
   "cell_type": "code",
   "execution_count": 23,
   "id": "5a076539",
   "metadata": {},
   "outputs": [
    {
     "name": "stdout",
     "output_type": "stream",
     "text": [
      "https://ovmeb.us.thentiacloud.net/webs/ovmeb/register/#/search/all/0/10\n"
     ]
    }
   ],
   "source": [
    "page_no = 0\n",
    "url     = f\"https://ovmeb.us.thentiacloud.net/webs/ovmeb/register/#/search/all/{page_no}/10\" \n",
    "print(url)"
   ]
  },
  {
   "cell_type": "code",
   "execution_count": 24,
   "id": "a9a71548",
   "metadata": {},
   "outputs": [],
   "source": [
    "driver.get(url)"
   ]
  },
  {
   "cell_type": "code",
   "execution_count": 25,
   "id": "474e6f9e",
   "metadata": {},
   "outputs": [
    {
     "data": {
      "text/plain": [
       "10"
      ]
     },
     "execution_count": 25,
     "metadata": {},
     "output_type": "execute_result"
    }
   ],
   "source": [
    "table_rows = driver.find_elements_by_class_name(\"hd-box-container\")\n",
    "len(table_rows)"
   ]
  },
  {
   "cell_type": "code",
   "execution_count": 26,
   "id": "60fa7461",
   "metadata": {},
   "outputs": [
    {
     "data": {
      "text/plain": [
       "<selenium.webdriver.remote.webelement.WebElement (session=\"23249e5e2d24e2c1acd92333132c8439\", element=\"67a9dcb1-d19f-445e-98dd-58e86f335a0e\")>"
      ]
     },
     "execution_count": 26,
     "metadata": {},
     "output_type": "execute_result"
    }
   ],
   "source": [
    "table_row = table_rows[0]\n",
    "table_row"
   ]
  },
  {
   "cell_type": "code",
   "execution_count": 27,
   "id": "4c3919b6",
   "metadata": {},
   "outputs": [
    {
     "data": {
      "text/plain": [
       "1"
      ]
     },
     "execution_count": 27,
     "metadata": {},
     "output_type": "execute_result"
    }
   ],
   "source": [
    "table = driver.find_elements_by_class_name(\"table\")\n",
    "len(table)"
   ]
  },
  {
   "cell_type": "code",
   "execution_count": 28,
   "id": "124f69dd",
   "metadata": {},
   "outputs": [],
   "source": [
    "table = table[0]"
   ]
  },
  {
   "cell_type": "code",
   "execution_count": 29,
   "id": "f027f5da",
   "metadata": {},
   "outputs": [
    {
     "name": "stdout",
     "output_type": "stream",
     "text": [
      "table rows ->  11\n"
     ]
    }
   ],
   "source": [
    "table_rows = table.find_elements_by_tag_name(\"tr\")\n",
    "print(\"table rows -> \", len(table_rows) )"
   ]
  },
  {
   "cell_type": "code",
   "execution_count": 30,
   "id": "cba0f372",
   "metadata": {},
   "outputs": [],
   "source": [
    "table_rows = table_rows[1:]\n"
   ]
  },
  {
   "cell_type": "code",
   "execution_count": 65,
   "id": "6681f692",
   "metadata": {},
   "outputs": [
    {
     "data": {
      "text/plain": [
       "<selenium.webdriver.remote.webelement.WebElement (session=\"23249e5e2d24e2c1acd92333132c8439\", element=\"2d340d58-4624-47c3-a51c-18fae57f86ca\")>"
      ]
     },
     "execution_count": 65,
     "metadata": {},
     "output_type": "execute_result"
    }
   ],
   "source": [
    "table_row = table_rows[0]\n",
    "table_row"
   ]
  },
  {
   "cell_type": "code",
   "execution_count": null,
   "id": "752564e4",
   "metadata": {},
   "outputs": [],
   "source": [
    "view_btn = table_row.find_element_by_tag_name(\"a\")\n",
    "view_btn"
   ]
  },
  {
   "cell_type": "code",
   "execution_count": 33,
   "id": "47765f25",
   "metadata": {},
   "outputs": [
    {
     "data": {
      "text/plain": [
       "'https://ovmeb.us.thentiacloud.net/webs/ovmeb/register/#profile/all/0/10/5de1965665a288217c3d1af7'"
      ]
     },
     "execution_count": 33,
     "metadata": {},
     "output_type": "execute_result"
    }
   ],
   "source": [
    "view_link = view_btn.get_attribute(\"href\")\n",
    "view_link "
   ]
  },
  {
   "cell_type": "code",
   "execution_count": 34,
   "id": "5e23e98d",
   "metadata": {},
   "outputs": [],
   "source": [
    "driver.get(view_link)"
   ]
  },
  {
   "cell_type": "code",
   "execution_count": 38,
   "id": "b14c31a1",
   "metadata": {},
   "outputs": [
    {
     "data": {
      "text/plain": [
       "2"
      ]
     },
     "execution_count": 38,
     "metadata": {},
     "output_type": "execute_result"
    }
   ],
   "source": [
    "containers = driver.find_elements_by_class_name(\"container\")\n",
    "len(containers)"
   ]
  },
  {
   "cell_type": "code",
   "execution_count": 39,
   "id": "cfc4bc21",
   "metadata": {},
   "outputs": [
    {
     "data": {
      "text/plain": [
       "1"
      ]
     },
     "execution_count": 39,
     "metadata": {},
     "output_type": "execute_result"
    }
   ],
   "source": [
    "profiles = driver.find_elements_by_class_name(\"profile\")\n",
    "len(profiles)"
   ]
  },
  {
   "cell_type": "code",
   "execution_count": 40,
   "id": "f1dc47e4",
   "metadata": {},
   "outputs": [
    {
     "data": {
      "text/plain": [
       "<selenium.webdriver.remote.webelement.WebElement (session=\"23249e5e2d24e2c1acd92333132c8439\", element=\"cae74b66-6be0-4c43-9994-7d402db0d4af\")>"
      ]
     },
     "execution_count": 40,
     "metadata": {},
     "output_type": "execute_result"
    }
   ],
   "source": [
    "profile = profiles[0]\n",
    "profile"
   ]
  },
  {
   "cell_type": "code",
   "execution_count": 43,
   "id": "8d4e6775",
   "metadata": {},
   "outputs": [
    {
     "data": {
      "text/plain": [
       "'EARL AALSETH'"
      ]
     },
     "execution_count": 43,
     "metadata": {},
     "output_type": "execute_result"
    }
   ],
   "source": [
    "heading = profile.find_element_by_tag_name(\"h2\").text\n",
    "heading"
   ]
  },
  {
   "cell_type": "code",
   "execution_count": 45,
   "id": "97ab6f6d",
   "metadata": {},
   "outputs": [
    {
     "name": "stdout",
     "output_type": "stream",
     "text": [
      "9\n"
     ]
    }
   ],
   "source": [
    "profile_rows = profile.find_elements_by_class_name(\"row\")\n",
    "print(len(profile_rows) )"
   ]
  },
  {
   "cell_type": "code",
   "execution_count": 47,
   "id": "3bbe844a",
   "metadata": {},
   "outputs": [
    {
     "data": {
      "text/plain": [
       "'5287'"
      ]
     },
     "execution_count": 47,
     "metadata": {},
     "output_type": "execute_result"
    }
   ],
   "source": [
    "profile_rows[1].find_element_by_tag_name(\"div\").text"
   ]
  },
  {
   "cell_type": "code",
   "execution_count": 48,
   "id": "6f541bb8",
   "metadata": {},
   "outputs": [],
   "source": [
    "data = {}\n",
    "\n",
    "for row in profile_rows:\n",
    "    try:\n",
    "        lbl  = row.find_element_by_tag_name(\"label\").text\n",
    "        value= row.find_element_by_tag_name(\"div\").text \n",
    "        data[lbl] = value\n",
    "    except:\n",
    "        pass\n",
    "    "
   ]
  },
  {
   "cell_type": "code",
   "execution_count": 49,
   "id": "686046a1",
   "metadata": {},
   "outputs": [
    {
     "data": {
      "text/plain": [
       "{'License number:': '5287',\n",
       " 'Legal Last Name:': 'AALSETH',\n",
       " 'Legal First Name:': 'EARL',\n",
       " 'Previous or Other Names:': 'N/A',\n",
       " 'License Category:': 'Veterinarian',\n",
       " 'License Status:': 'Active',\n",
       " 'Initial License Date:': 'Mar-04-1999',\n",
       " 'Expiration Date:': 'Dec-31-2022'}"
      ]
     },
     "execution_count": 49,
     "metadata": {},
     "output_type": "execute_result"
    }
   ],
   "source": [
    "data"
   ]
  },
  {
   "cell_type": "code",
   "execution_count": 50,
   "id": "dbf44feb",
   "metadata": {},
   "outputs": [],
   "source": [
    "# get 'Practice Locations'\n",
    "def get_prac_locations(driver):\n",
    "    transprnt_boxs = driver.find_elements_by_class_name(\"hd-transparent-box\")\n",
    "    for box in transprnt_boxs:\n",
    "        try:\n",
    "            if box.find_element_by_tag_name(\"h2\").text == \"Practice Locations\":\n",
    "                return box\n",
    "        except:\n",
    "            pass\n"
   ]
  },
  {
   "cell_type": "code",
   "execution_count": 51,
   "id": "0b1fdca5",
   "metadata": {},
   "outputs": [],
   "source": [
    "prac_loc_box = get_prac_locations(driver)"
   ]
  },
  {
   "cell_type": "code",
   "execution_count": 52,
   "id": "0c41ca9a",
   "metadata": {},
   "outputs": [
    {
     "data": {
      "text/plain": [
       "<selenium.webdriver.remote.webelement.WebElement (session=\"23249e5e2d24e2c1acd92333132c8439\", element=\"de0d59e5-b428-4d50-abe3-965a48398ce5\")>"
      ]
     },
     "execution_count": 52,
     "metadata": {},
     "output_type": "execute_result"
    }
   ],
   "source": [
    "prac_loc_box"
   ]
  },
  {
   "cell_type": "code",
   "execution_count": 62,
   "id": "bd3aebfe",
   "metadata": {},
   "outputs": [
    {
     "data": {
      "text/plain": [
       "<selenium.webdriver.remote.webelement.WebElement (session=\"23249e5e2d24e2c1acd92333132c8439\", element=\"d74df5e0-bb0d-4c11-ba78-3b8193874b0d\")>"
      ]
     },
     "execution_count": 62,
     "metadata": {},
     "output_type": "execute_result"
    }
   ],
   "source": [
    "loc_row = prac_loc_box.find_element_by_tag_name(\"tbody\").find_element_by_tag_name(\"tr\") \n",
    "loc_row"
   ]
  },
  {
   "cell_type": "code",
   "execution_count": null,
   "id": "7d88ba6f",
   "metadata": {},
   "outputs": [],
   "source": [
    "loc_row"
   ]
  },
  {
   "cell_type": "code",
   "execution_count": 63,
   "id": "fa8ec504",
   "metadata": {},
   "outputs": [],
   "source": [
    "tmps = [\"Employer Name\", \"Business Address\", \"Business City\", \"Business Postal Code\", \"Employer Phone\"]\n",
    "\n",
    "for i, td in enumerate(loc_row.find_elements_by_tag_name(\"td\") ) :\n",
    "    data[tmps[i]] = td.text"
   ]
  },
  {
   "cell_type": "code",
   "execution_count": 64,
   "id": "4370159e",
   "metadata": {},
   "outputs": [
    {
     "data": {
      "text/plain": [
       "{'License number:': '5287',\n",
       " 'Legal Last Name:': 'AALSETH',\n",
       " 'Legal First Name:': 'EARL',\n",
       " 'Previous or Other Names:': 'N/A',\n",
       " 'License Category:': 'Veterinarian',\n",
       " 'License Status:': 'Active',\n",
       " 'Initial License Date:': 'Mar-04-1999',\n",
       " 'Expiration Date:': 'Dec-31-2022',\n",
       " 'Employer Name': 'EARL AALSETH DAIRY CONSULTING',\n",
       " 'Business Address': '6514 113TH AVE. NE',\n",
       " 'Business City': 'LAKE STEVENS',\n",
       " 'Business Postal Code': '98258-9310',\n",
       " 'Employer Phone': '425-334-7773'}"
      ]
     },
     "execution_count": 64,
     "metadata": {},
     "output_type": "execute_result"
    }
   ],
   "source": [
    "data"
   ]
  },
  {
   "cell_type": "code",
   "execution_count": null,
   "id": "6871ad52",
   "metadata": {},
   "outputs": [],
   "source": []
  },
  {
   "cell_type": "code",
   "execution_count": null,
   "id": "3b2202af",
   "metadata": {},
   "outputs": [],
   "source": []
  }
 ],
 "metadata": {
  "kernelspec": {
   "display_name": "Python 3 (ipykernel)",
   "language": "python",
   "name": "python3"
  },
  "language_info": {
   "codemirror_mode": {
    "name": "ipython",
    "version": 3
   },
   "file_extension": ".py",
   "mimetype": "text/x-python",
   "name": "python",
   "nbconvert_exporter": "python",
   "pygments_lexer": "ipython3",
   "version": "3.7.9"
  }
 },
 "nbformat": 4,
 "nbformat_minor": 5
}
