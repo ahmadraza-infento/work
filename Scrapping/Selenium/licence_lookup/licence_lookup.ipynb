{
 "cells": [
  {
   "cell_type": "code",
   "execution_count": 1,
   "id": "795fd704",
   "metadata": {},
   "outputs": [],
   "source": [
    "import chromedriver_autoinstaller\n",
    "from selenium import webdriver"
   ]
  },
  {
   "cell_type": "code",
   "execution_count": 2,
   "id": "31113831",
   "metadata": {},
   "outputs": [
    {
     "data": {
      "text/plain": [
       "'C:\\\\Users\\\\H P\\\\Envs\\\\scrapperenv\\\\lib\\\\site-packages\\\\chromedriver_autoinstaller\\\\101\\\\chromedriver.exe'"
      ]
     },
     "execution_count": 2,
     "metadata": {},
     "output_type": "execute_result"
    }
   ],
   "source": [
    "opt = webdriver.ChromeOptions()\n",
    "opt.add_argument(\"--start-maximized\")\n",
    "\n",
    "chromedriver_autoinstaller.install()"
   ]
  },
  {
   "cell_type": "code",
   "execution_count": 3,
   "id": "67de547c",
   "metadata": {},
   "outputs": [],
   "source": [
    "driver = webdriver.Chrome(options=opt)"
   ]
  },
  {
   "cell_type": "code",
   "execution_count": 4,
   "id": "2f43968c",
   "metadata": {},
   "outputs": [],
   "source": [
    "url = \"https://apps.colorado.gov/dora/licensing/Lookup/LicenseLookup.aspx\"\n",
    "driver.get(url)"
   ]
  },
  {
   "cell_type": "code",
   "execution_count": 23,
   "id": "cfff50fa",
   "metadata": {},
   "outputs": [],
   "source": [
    "failed = {}"
   ]
  },
  {
   "cell_type": "code",
   "execution_count": 25,
   "id": "e759aa48",
   "metadata": {},
   "outputs": [
    {
     "name": "stderr",
     "output_type": "stream",
     "text": [
      "C:\\Users\\H P\\Envs\\scrapperenv\\lib\\site-packages\\ipykernel_launcher.py:79: DeprecationWarning: find_element_by_* commands are deprecated. Please use find_element() instead\n",
      "C:\\Users\\H P\\Envs\\scrapperenv\\lib\\site-packages\\ipykernel_launcher.py:81: DeprecationWarning: find_element_by_* commands are deprecated. Please use find_element() instead\n",
      "C:\\Users\\H P\\Envs\\scrapperenv\\lib\\site-packages\\ipykernel_launcher.py:87: DeprecationWarning: find_element_by_* commands are deprecated. Please use find_element() instead\n",
      "C:\\Users\\H P\\Envs\\scrapperenv\\lib\\site-packages\\ipykernel_launcher.py:33: DeprecationWarning: find_element_by_* commands are deprecated. Please use find_element() instead\n",
      "C:\\Users\\H P\\Envs\\scrapperenv\\lib\\site-packages\\ipykernel_launcher.py:15: DeprecationWarning: find_element_by_* commands are deprecated. Please use find_element() instead\n",
      "  from ipykernel import kernelapp as app\n",
      "C:\\Users\\H P\\Envs\\scrapperenv\\lib\\site-packages\\ipykernel_launcher.py:23: DeprecationWarning: find_element_by_* commands are deprecated. Please use find_element() instead\n",
      "C:\\Users\\H P\\Envs\\scrapperenv\\lib\\site-packages\\ipykernel_launcher.py:58: DeprecationWarning: find_element_by_class_name is deprecated. Please use find_element(by=By.CLASS_NAME, value=name) instead\n",
      "C:\\Users\\H P\\Envs\\scrapperenv\\lib\\site-packages\\ipykernel_launcher.py:108: DeprecationWarning: find_element_by_class_name is deprecated. Please use find_element(by=By.CLASS_NAME, value=name) instead\n"
     ]
    }
   ],
   "source": [
    "import os\n",
    "import time\n",
    "import string\n",
    "import pandas as pd\n",
    "\n",
    "TABLE_ID = \"ctl00_MainContentPlaceHolder_ucLicenseLookup_gvSearchResults\"\n",
    "FOLDER   = \"records\"\n",
    "P1_COLS  = [\"Name\", \"License Number\", \"License Status\", \"Contact Type\", \"City\", \"State\", \"Zip Code\"]\n",
    "P2G0_COLS= [\"P2Name\", \"Public Address\"]\n",
    "P2G1_COLS= [\"P2License Number\", \"License Method\", \"License Type\", \"P2License Status\", \"Original Issue Date\", \"Effective Date\", \"Expiration Date\"]\n",
    "\n",
    "def extract_popup2(handler, r):\n",
    "    while True:\n",
    "        try:\n",
    "            tds = handler.find_element_by_id(\"Grid0\").find_element_by_tag_name(\"tbody\").find_elements_by_tag_name(\"td\")\n",
    "            break\n",
    "        except Exception as e:\n",
    "            time.sleep(1)\n",
    "    for i, td in enumerate(tds):\n",
    "        if i < len(P2G0_COLS):\n",
    "            r[P2G0_COLS[i]] = td.text\n",
    "        \n",
    "    tds = handler.find_element_by_id(\"Grid1\").find_element_by_tag_name(\"tbody\").find_elements_by_tag_name(\"td\")\n",
    "    for i, td in enumerate(tds):\n",
    "        if i < len(P2G1_COLS):\n",
    "            r[P2G1_COLS[i]] = td.text\n",
    "        \n",
    "    \n",
    "def extract_record(handler):\n",
    "    records= []\n",
    "    for i in range(3):\n",
    "        try:\n",
    "            trows = handler.find_element_by_id(TABLE_ID).find_element_by_tag_name(\"tbody\").find_elements_by_tag_name(\"tr\")\n",
    "            if len(trows) > 0:\n",
    "                break\n",
    "        except Exception as e:\n",
    "            time.sleep(1)\n",
    "            \n",
    "    for trow in trows:\n",
    "        r = {}\n",
    "        tds = trow.find_elements_by_tag_name(\"td\")\n",
    "        detail_btn = tds[0].find_element_by_tag_name(\"a\")\n",
    "        tds = tds[1:]\n",
    "        for i, c in enumerate(P1_COLS):\n",
    "            if i < len(tds):\n",
    "                r[c] = tds[i].text\n",
    "            else:\n",
    "                r[c] = \"\"\n",
    "        \n",
    "        # extract popup 2\n",
    "        detail_btn.click()\n",
    "        time.sleep(2)\n",
    "        extract_popup2(handler, r)\n",
    "        records.append(r)\n",
    "        \n",
    "        while True:\n",
    "            try:\n",
    "                handler.find_element_by_class_name(\"k-window-actions\").find_elements_by_tag_name(\"a\")[-1].click()\n",
    "                break\n",
    "            except Exception as e:\n",
    "                time.sleep(1)\n",
    "        \n",
    "    return records\n",
    "        \n",
    "\n",
    "def save_records(char, records):\n",
    "    if not os.path.exists(FOLDER):\n",
    "        os.makedirs(FOLDER)\n",
    "    df = pd.DataFrame(records)\n",
    "    df.to_excel(os.path.join(FOLDER, f\"{char}.xlsx\"),  index=False)\n",
    "\n",
    "to_ignore = []\n",
    "for ch in ['y', 'z']:#string.ascii_lowercase:\n",
    "    if ch in to_ignore:\n",
    "        continue\n",
    "    data_items = []\n",
    "    \n",
    "    # set input &  lookup for records\n",
    "    fname = driver.find_element_by_id(\"ctl00_MainContentPlaceHolder_ucLicenseLookup_ctl03_tbFirstName_Contact\")\n",
    "    driver.execute_script(f\"arguments[0].value = '{ch}';\", fname)\n",
    "    driver.find_element_by_id(\"btnLookup\").click()\n",
    "    time.sleep(2)\n",
    "    \n",
    "    # fetch records from first popup\n",
    "    while True:\n",
    "        try:\n",
    "            pages      = driver.find_element_by_id(TABLE_ID).find_element_by_tag_name(\"thead\").find_elements_by_tag_name(\"a\")\n",
    "            break\n",
    "        except Exception as e:\n",
    "            time.sleep(1)\n",
    "    page_count = len(pages) \n",
    "    items      = extract_record(driver)\n",
    "    data_items.extend(items)\n",
    "    \n",
    "    for i in range(page_count):\n",
    "        try:\n",
    "            page      = driver.find_element_by_id(TABLE_ID).find_element_by_tag_name(\"thead\").find_elements_by_tag_name(\"a\")[i]\n",
    "            page.click()\n",
    "            time.sleep(2)\n",
    "            items = extract_record(driver)\n",
    "            data_items.extend(items)\n",
    "        except:\n",
    "            if ch in failed.keys():\n",
    "                failed[ch].append(i+1)\n",
    "            else:\n",
    "                failed[ch] = [i+1]\n",
    "        \n",
    "    driver.find_element_by_class_name(\"close\").click()\n",
    "    save_records(ch, data_items)\n",
    "    \n",
    "    "
   ]
  },
  {
   "cell_type": "code",
   "execution_count": 41,
   "id": "b764ed79",
   "metadata": {},
   "outputs": [],
   "source": [
    "save_records(ch, data_items)"
   ]
  },
  {
   "cell_type": "code",
   "execution_count": 16,
   "id": "3f9771cb",
   "metadata": {},
   "outputs": [
    {
     "data": {
      "text/plain": [
       "12"
      ]
     },
     "execution_count": 16,
     "metadata": {},
     "output_type": "execute_result"
    }
   ],
   "source": [
    "len(data_items)"
   ]
  },
  {
   "cell_type": "code",
   "execution_count": 26,
   "id": "5823a78b",
   "metadata": {},
   "outputs": [
    {
     "data": {
      "text/plain": [
       "{'c': [2],\n",
       " 'g': [4],\n",
       " 'j': [5],\n",
       " 'k': [8],\n",
       " 'l': [7],\n",
       " 'p': [6],\n",
       " 's': [3, 5],\n",
       " 'v': [1, 3],\n",
       " 'w': [5]}"
      ]
     },
     "execution_count": 26,
     "metadata": {},
     "output_type": "execute_result"
    }
   ],
   "source": [
    "failed"
   ]
  },
  {
   "cell_type": "code",
   "execution_count": null,
   "id": "9ce28f44",
   "metadata": {},
   "outputs": [],
   "source": []
  },
  {
   "cell_type": "code",
   "execution_count": 5,
   "id": "688be9eb",
   "metadata": {},
   "outputs": [
    {
     "data": {
      "text/plain": [
       "<selenium.webdriver.remote.webelement.WebElement (session=\"8b9c70ca22e57b924a3b11a2e0ea984c\", element=\"063fe254-0e96-4e9e-a31b-5350671dca47\")>"
      ]
     },
     "execution_count": 5,
     "metadata": {},
     "output_type": "execute_result"
    }
   ],
   "source": [
    "fname = driver.find_element_by_id(\"ctl00_MainContentPlaceHolder_ucLicenseLookup_ctl03_tbFirstName_Contact\")\n",
    "fname"
   ]
  },
  {
   "cell_type": "code",
   "execution_count": 6,
   "id": "b8f68d3e",
   "metadata": {},
   "outputs": [],
   "source": [
    "driver.execute_script(\"arguments[0].value = 'a';\", fname)"
   ]
  },
  {
   "cell_type": "code",
   "execution_count": 7,
   "id": "0e8a8508",
   "metadata": {},
   "outputs": [
    {
     "data": {
      "text/plain": [
       "<selenium.webdriver.remote.webelement.WebElement (session=\"8b9c70ca22e57b924a3b11a2e0ea984c\", element=\"4a225b58-cd44-4cd9-87a8-6212405656ee\")>"
      ]
     },
     "execution_count": 7,
     "metadata": {},
     "output_type": "execute_result"
    }
   ],
   "source": [
    "search_btn = driver.find_element_by_id(\"btnLookup\")\n",
    "search_btn"
   ]
  },
  {
   "cell_type": "code",
   "execution_count": 8,
   "id": "9297696b",
   "metadata": {},
   "outputs": [],
   "source": [
    "search_btn.click()"
   ]
  },
  {
   "cell_type": "code",
   "execution_count": 9,
   "id": "6fb84181",
   "metadata": {},
   "outputs": [
    {
     "data": {
      "text/plain": [
       "<selenium.webdriver.remote.webelement.WebElement (session=\"8b9c70ca22e57b924a3b11a2e0ea984c\", element=\"4d8e19f4-0459-49ad-a463-705742382316\")>"
      ]
     },
     "execution_count": 9,
     "metadata": {},
     "output_type": "execute_result"
    }
   ],
   "source": [
    "table = driver.find_element_by_id(\"ctl00_MainContentPlaceHolder_ucLicenseLookup_gvSearchResults\")\n",
    "table"
   ]
  },
  {
   "cell_type": "code",
   "execution_count": 10,
   "id": "5a56cfb3",
   "metadata": {},
   "outputs": [
    {
     "data": {
      "text/plain": [
       "<selenium.webdriver.remote.webelement.WebElement (session=\"8b9c70ca22e57b924a3b11a2e0ea984c\", element=\"371825ab-1fe0-451d-936f-f14d0a4261c8\")>"
      ]
     },
     "execution_count": 10,
     "metadata": {},
     "output_type": "execute_result"
    }
   ],
   "source": [
    "thead = table.find_element_by_tag_name(\"thead\")\n",
    "thead"
   ]
  },
  {
   "cell_type": "code",
   "execution_count": 11,
   "id": "4814d7d8",
   "metadata": {},
   "outputs": [
    {
     "data": {
      "text/plain": [
       "<selenium.webdriver.remote.webelement.WebElement (session=\"8b9c70ca22e57b924a3b11a2e0ea984c\", element=\"32ca5d60-9ccb-4826-abf1-fc4059868513\")>"
      ]
     },
     "execution_count": 11,
     "metadata": {},
     "output_type": "execute_result"
    }
   ],
   "source": [
    "tbody = table.find_element_by_tag_name(\"tbody\")\n",
    "tbody"
   ]
  },
  {
   "cell_type": "code",
   "execution_count": 12,
   "id": "24153599",
   "metadata": {},
   "outputs": [
    {
     "data": {
      "text/plain": [
       "8"
      ]
     },
     "execution_count": 12,
     "metadata": {},
     "output_type": "execute_result"
    }
   ],
   "source": [
    "atags = thead.find_elements_by_tag_name(\"a\")\n",
    "len(atags)"
   ]
  },
  {
   "cell_type": "code",
   "execution_count": 13,
   "id": "387d5a8a",
   "metadata": {},
   "outputs": [
    {
     "data": {
      "text/plain": [
       "12"
      ]
     },
     "execution_count": 13,
     "metadata": {},
     "output_type": "execute_result"
    }
   ],
   "source": [
    "trows = tbody.find_elements_by_tag_name(\"tr\")\n",
    "len(trows)"
   ]
  },
  {
   "cell_type": "code",
   "execution_count": 14,
   "id": "a836e28f",
   "metadata": {},
   "outputs": [],
   "source": [
    "cols = [\"Name\", \"License Number\", \"License Status\", \"Contact Type\", \"City\", \"State\", \"Zip Code\"]\n",
    "data_items = []\n",
    "detail_btns= []\n",
    "for trow in trows:\n",
    "    d = {}\n",
    "    tds = trow.find_elements_by_tag_name(\"td\")\n",
    "    detail_btn = tds[0].find_element_by_tag_name(\"a\")\n",
    "    tds = tds[1:]\n",
    "    for i, c in enumerate(cols):\n",
    "        d[c] = tds[i].text\n",
    "    detail_btns.append(detail_btn)\n",
    "    data_items.append(d)"
   ]
  },
  {
   "cell_type": "code",
   "execution_count": 15,
   "id": "05c25e65",
   "metadata": {},
   "outputs": [
    {
     "data": {
      "text/plain": [
       "12"
      ]
     },
     "execution_count": 15,
     "metadata": {},
     "output_type": "execute_result"
    }
   ],
   "source": [
    "len(data_items)"
   ]
  },
  {
   "cell_type": "code",
   "execution_count": 16,
   "id": "c443d060",
   "metadata": {},
   "outputs": [
    {
     "data": {
      "text/plain": [
       "<selenium.webdriver.remote.webelement.WebElement (session=\"8b9c70ca22e57b924a3b11a2e0ea984c\", element=\"cd1870f3-a3fb-4187-8932-8ae60d64ee41\")>"
      ]
     },
     "execution_count": 16,
     "metadata": {},
     "output_type": "execute_result"
    }
   ],
   "source": [
    "dbtn = detail_btns[0]\n",
    "dbtn"
   ]
  },
  {
   "cell_type": "code",
   "execution_count": 30,
   "id": "9bd4db40",
   "metadata": {},
   "outputs": [
    {
     "data": {
      "text/plain": [
       "'Detail'"
      ]
     },
     "execution_count": 30,
     "metadata": {},
     "output_type": "execute_result"
    }
   ],
   "source": [
    "dbtn.text"
   ]
  },
  {
   "cell_type": "code",
   "execution_count": 17,
   "id": "a8171df4",
   "metadata": {},
   "outputs": [],
   "source": [
    "dbtn.click()"
   ]
  },
  {
   "cell_type": "code",
   "execution_count": 18,
   "id": "a185613e",
   "metadata": {},
   "outputs": [
    {
     "data": {
      "text/plain": [
       "[{'P2Name': 'Angela Dawn Abbott'},\n",
       " {'Public Address': 'Colorado Springs, CO 80916-2439'}]"
      ]
     },
     "execution_count": 18,
     "metadata": {},
     "output_type": "execute_result"
    }
   ],
   "source": [
    "cols = [\"P2Name\", \"Public Address\"]\n",
    "grid0 = driver.find_element_by_id(\"Grid0\")\n",
    "ds = []\n",
    "for i, td in enumerate(grid0.find_element_by_tag_name(\"tbody\").find_elements_by_tag_name(\"td\")):\n",
    "    d = {}\n",
    "    d[cols[i]] = td.text\n",
    "    ds.append(d)\n",
    "ds"
   ]
  },
  {
   "cell_type": "code",
   "execution_count": 19,
   "id": "00da80a8",
   "metadata": {},
   "outputs": [
    {
     "data": {
      "text/plain": [
       "[{'P2License Number': 'VET.0010816'},\n",
       " {'License Method': 'Examination'},\n",
       " {'License Type': 'Veterinarian'},\n",
       " {'P2License Status': 'Active'},\n",
       " {'Original Issue Date': '11/18/2016'},\n",
       " {'Effective Date': '11/01/2020'},\n",
       " {'Expiration Date': '10/31/2022'}]"
      ]
     },
     "execution_count": 19,
     "metadata": {},
     "output_type": "execute_result"
    }
   ],
   "source": [
    "grid1 = driver.find_element_by_id(\"Grid1\")\n",
    "cols = [\"P2License Number\", \"License Method\", \"License Type\", \"P2License Status\", \"Original Issue Date\", \"Effective Date\", \"Expiration Date\"]\n",
    "ds = []\n",
    "for i, td in enumerate(grid1.find_element_by_tag_name(\"tbody\").find_elements_by_tag_name(\"td\")):\n",
    "    d = {}\n",
    "    d[cols[i]] = td.text\n",
    "    ds.append(d)\n",
    "ds"
   ]
  },
  {
   "cell_type": "code",
   "execution_count": 20,
   "id": "542d0676",
   "metadata": {},
   "outputs": [
    {
     "data": {
      "text/plain": [
       "<selenium.webdriver.remote.webelement.WebElement (session=\"8b9c70ca22e57b924a3b11a2e0ea984c\", element=\"27c719d2-c629-4642-a956-17b741eb0548\")>"
      ]
     },
     "execution_count": 20,
     "metadata": {},
     "output_type": "execute_result"
    }
   ],
   "source": [
    "btnclose = driver.find_element_by_class_name(\"k-window-actions\").find_elements_by_tag_name(\"a\")[-1]\n",
    "btnclose"
   ]
  },
  {
   "cell_type": "code",
   "execution_count": 21,
   "id": "17981911",
   "metadata": {},
   "outputs": [],
   "source": [
    "btnclose.click()"
   ]
  },
  {
   "cell_type": "code",
   "execution_count": 22,
   "id": "098fa79a",
   "metadata": {},
   "outputs": [
    {
     "data": {
      "text/plain": [
       "<selenium.webdriver.remote.webelement.WebElement (session=\"8b9c70ca22e57b924a3b11a2e0ea984c\", element=\"cd981781-f14e-41f6-b067-a6f063336ae6\")>"
      ]
     },
     "execution_count": 22,
     "metadata": {},
     "output_type": "execute_result"
    }
   ],
   "source": [
    "btnclose1 = driver.find_element_by_class_name(\"close\")\n",
    "btnclose1"
   ]
  },
  {
   "cell_type": "code",
   "execution_count": 23,
   "id": "1b8af612",
   "metadata": {},
   "outputs": [],
   "source": [
    "btnclose1.click()"
   ]
  },
  {
   "cell_type": "code",
   "execution_count": null,
   "id": "a7e43e16",
   "metadata": {},
   "outputs": [],
   "source": []
  }
 ],
 "metadata": {
  "kernelspec": {
   "display_name": "Python 3 (ipykernel)",
   "language": "python",
   "name": "python3"
  },
  "language_info": {
   "codemirror_mode": {
    "name": "ipython",
    "version": 3
   },
   "file_extension": ".py",
   "mimetype": "text/x-python",
   "name": "python",
   "nbconvert_exporter": "python",
   "pygments_lexer": "ipython3",
   "version": "3.7.9"
  }
 },
 "nbformat": 4,
 "nbformat_minor": 5
}
