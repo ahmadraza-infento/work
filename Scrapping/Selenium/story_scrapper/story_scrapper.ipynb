{
 "cells": [
  {
   "cell_type": "code",
   "execution_count": 18,
   "id": "a56c00cb",
   "metadata": {},
   "outputs": [],
   "source": [
    "import chromedriver_autoinstaller\n",
    "from selenium import webdriver\n",
    "from pysqlite import Sqlite\n",
    "import time\n",
    "import os\n",
    "\n",
    "# Helpers\n",
    "def remove_invalid_chars(string):\n",
    "    return \"\".join([c for c in string if c.isalpha() ])\n",
    "\n",
    "def create_folder(story_name, root=\"stories\"):\n",
    "    folder = os.path.join(root, story_name )\n",
    "    if not os.path.exists(folder):\n",
    "        os.makedirs(folder)\n",
    "    \n",
    "    return folder\n",
    "\n",
    "def save_chapter_text(folder, chap_id, chap_text):\n",
    "    filename = os.path.join(folder, f\"chapter_{chap_id}.txt\")\n",
    "    with open(filename, 'w') as f:\n",
    "        f.write(chap_text)"
   ]
  },
  {
   "cell_type": "code",
   "execution_count": 19,
   "id": "ec2e97e2",
   "metadata": {},
   "outputs": [],
   "source": [
    "db = Sqlite.init(\"stories_data.db\")"
   ]
  },
  {
   "cell_type": "code",
   "execution_count": 21,
   "id": "04e17ac3",
   "metadata": {},
   "outputs": [
    {
     "data": {
      "text/plain": [
       "True"
      ]
     },
     "execution_count": 21,
     "metadata": {},
     "output_type": "execute_result"
    }
   ],
   "source": []
  },
  {
   "cell_type": "code",
   "execution_count": 2,
   "id": "f0ee838e",
   "metadata": {},
   "outputs": [
    {
     "data": {
      "text/plain": [
       "'C:\\\\Users\\\\H P\\\\Envs\\\\scrapperenv\\\\lib\\\\site-packages\\\\chromedriver_autoinstaller\\\\103\\\\chromedriver.exe'"
      ]
     },
     "execution_count": 2,
     "metadata": {},
     "output_type": "execute_result"
    }
   ],
   "source": [
    "opt = webdriver.ChromeOptions()\n",
    "opt.add_argument(\"--start-maximized\")\n",
    "\n",
    "chromedriver_autoinstaller.install()"
   ]
  },
  {
   "cell_type": "code",
   "execution_count": 3,
   "id": "978420c7",
   "metadata": {},
   "outputs": [],
   "source": [
    "driver = webdriver.Chrome(options=opt)"
   ]
  },
  {
   "cell_type": "markdown",
   "id": "4c7007f9",
   "metadata": {},
   "source": [
    "## Access Website"
   ]
  },
  {
   "cell_type": "code",
   "execution_count": 33,
   "id": "cc420989",
   "metadata": {},
   "outputs": [],
   "source": [
    "url     = \"https://boxnovel.com/\"\n",
    "driver.get(url)"
   ]
  },
  {
   "cell_type": "markdown",
   "id": "e0d5e8c5",
   "metadata": {},
   "source": [
    "### Extract Stories"
   ]
  },
  {
   "cell_type": "code",
   "execution_count": 34,
   "id": "6e646868",
   "metadata": {},
   "outputs": [
    {
     "name": "stdout",
     "output_type": "stream",
     "text": [
      "20\n"
     ]
    },
    {
     "name": "stderr",
     "output_type": "stream",
     "text": [
      "C:\\Users\\H P\\Envs\\scrapperenv\\lib\\site-packages\\ipykernel_launcher.py:1: DeprecationWarning: find_elements_by_class_name is deprecated. Please use find_elements(by=By.CLASS_NAME, value=name) instead\n",
      "  \"\"\"Entry point for launching an IPython kernel.\n"
     ]
    }
   ],
   "source": [
    "stories     = driver.find_elements_by_class_name(\"item-summary\")\n",
    "print       (len(stories) )"
   ]
  },
  {
   "cell_type": "code",
   "execution_count": 35,
   "id": "661f11d7",
   "metadata": {},
   "outputs": [
    {
     "name": "stderr",
     "output_type": "stream",
     "text": [
      "C:\\Users\\H P\\Envs\\scrapperenv\\lib\\site-packages\\selenium\\webdriver\\remote\\webelement.py:341: UserWarning: find_element_by_tag_name is deprecated. Please use find_element(by=By.TAG_NAME, value=name) instead\n",
      "  warnings.warn(\"find_element_by_tag_name is deprecated. Please use find_element(by=By.TAG_NAME, value=name) instead\")\n",
      "C:\\Users\\H P\\Envs\\scrapperenv\\lib\\site-packages\\selenium\\webdriver\\remote\\webelement.py:446: UserWarning: find_element_by_class_name is deprecated. Please use find_element(by=By.CLASS_NAME, value=name) instead\n",
      "  warnings.warn(\"find_element_by_class_name is deprecated. Please use find_element(by=By.CLASS_NAME, value=name) instead\")\n"
     ]
    },
    {
     "name": "stdout",
     "output_type": "stream",
     "text": [
      "story-links ->  20\n"
     ]
    }
   ],
   "source": [
    "story_links = [(s.find_element_by_tag_name(\"a\").get_attribute(\"href\"), s.find_element_by_tag_name(\"a\").text,\n",
    "                s.find_element_by_class_name(\"chapter\").text,\n",
    "                s.find_element_by_class_name(\"chapter-item\").find_element_by_class_name(\"post-on\").text) for s in stories] \n",
    "print       (\"story-links -> \", len(story_links) )"
   ]
  },
  {
   "cell_type": "markdown",
   "id": "819894eb",
   "metadata": {},
   "source": [
    "## Chapter Scrapping"
   ]
  },
  {
   "cell_type": "code",
   "execution_count": null,
   "id": "da10688c",
   "metadata": {},
   "outputs": [],
   "source": [
    "for story in story_links:\n",
    "    link, name, lastchap, lastupdate = story\n",
    "    # extract story info\n",
    "    driver.get       (link)\n",
    "    time.sleep       (3)\n",
    "    key              = remove_invalid_chars( name )\n",
    "    \n",
    "    # move to first page\n",
    "    read_first       = driver.find_element_by_id(\"btn-read-last\")\n",
    "    read_first.click ()\n",
    "    time.sleep       (3)\n",
    "    \n",
    "    # create folder to store data\n",
    "    folder_name = create_folder(story_name=key)\n",
    "    chap_id     = 1\n",
    "    while True:\n",
    "        retry = 0\n",
    "        while retry < 5:\n",
    "            try:\n",
    "                content      = driver.find_element_by_class_name(\"entry-content\")\n",
    "                chapter_text = content.find_element_by_class_name(\"text-left\")\n",
    "\n",
    "                try:\n",
    "                    chapter_name = chapter_text.find_element_by_tag_name(\"h1\").text\n",
    "                except:\n",
    "                    chapter_name = chapter_text.find_element_by_tag_name(\"h3\").text\n",
    "                print(\"chapter name -> \", chapter_name)\n",
    "\n",
    "                ps           = chapter_text.find_elements_by_tag_name(\"p\")\n",
    "                ps_text      = \"\\n\".join( [p.text for p in ps] )\n",
    "                ps_text      = chapter_name + \"\\n\" + ps_text\n",
    "                print(\"length of content -> \", len(ps_text) )\n",
    "\n",
    "                save_chapter_text(folder_name, chap_id, ps_text)\n",
    "                chap_id      += 1\n",
    "                break\n",
    "            except:\n",
    "                print(\"failed to fetch content- trying again...\")\n",
    "                time.sleep(5)\n",
    "                retry += 1\n",
    "\n",
    "        retry = 0\n",
    "        while retry < 3:\n",
    "            try:\n",
    "                footer       = driver.find_element_by_id(\"manga-reading-nav-foot\")\n",
    "\n",
    "                next_page    = footer.find_element_by_xpath(\"//div[@class='nav-links']//div[@class='nav-next ']//a[@class='btn next_page']\")\n",
    "                next_page.click()\n",
    "                time.sleep(2)\n",
    "                retry = 0\n",
    "                break\n",
    "            except:\n",
    "                retry += 1\n",
    "                time.sleep(3)\n",
    "\n",
    "        if retry == 3:\n",
    "            break\n",
    "    \n",
    "    db.save(\"story\", {\"key\":key, \"name\":name, \"chapters\":chap_id, \"lastchapter\":lastchap, \"lastupdated\":lastupdate, \"storylink\":link, \"websource\":url})\n"
   ]
  },
  {
   "cell_type": "code",
   "execution_count": null,
   "id": "e764d527",
   "metadata": {},
   "outputs": [],
   "source": []
  },
  {
   "cell_type": "code",
   "execution_count": null,
   "id": "d5093142",
   "metadata": {},
   "outputs": [],
   "source": []
  },
  {
   "cell_type": "code",
   "execution_count": null,
   "id": "ad045e0f",
   "metadata": {},
   "outputs": [],
   "source": []
  },
  {
   "cell_type": "code",
   "execution_count": null,
   "id": "0bfdf36a",
   "metadata": {},
   "outputs": [],
   "source": []
  },
  {
   "cell_type": "code",
   "execution_count": null,
   "id": "3b2202af",
   "metadata": {},
   "outputs": [],
   "source": []
  }
 ],
 "metadata": {
  "kernelspec": {
   "display_name": "Python 3 (ipykernel)",
   "language": "python",
   "name": "python3"
  },
  "language_info": {
   "codemirror_mode": {
    "name": "ipython",
    "version": 3
   },
   "file_extension": ".py",
   "mimetype": "text/x-python",
   "name": "python",
   "nbconvert_exporter": "python",
   "pygments_lexer": "ipython3",
   "version": "3.7.9"
  }
 },
 "nbformat": 4,
 "nbformat_minor": 5
}
